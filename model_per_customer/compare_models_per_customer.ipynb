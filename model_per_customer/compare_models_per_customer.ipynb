{
 "cells": [
  {
   "cell_type": "markdown",
   "id": "magnetic-relationship",
   "metadata": {},
   "source": [
    "# Compare results of single models\n",
    "\n",
    "* [1. Orders dataframe](#1)\n",
    "* [2. Results of GRU, LSTM and baseline models (per customer)](#2)"
   ]
  },
  {
   "cell_type": "markdown",
   "id": "endangered-plenty",
   "metadata": {},
   "source": [
    "Compare GRU vs LSTM vs baseline for n_customers with a single model each:\n",
    "Results from the [GRU notebook](./model_per_customer_GRU.ipynb) and [LSTM notebook](./model_per_customer_LSTM.ipynb).\n",
    "\n",
    "We also run one GRU and one LSTM model for all the first n_customers, but the outcome is much worse than when each customer is modeled separately (mean f1 = 0.22 vs 0.31, respectively). See this notebook for [one GRU and one LSTM model](./OHE_500customers_reordered.ipynb). This might be because of technical limitation, too little data for too many products. That's why we are looking into [customer clustering](./customer_clustering.ipynb)."
   ]
  },
  {
   "cell_type": "code",
   "execution_count": 1,
   "id": "painful-agreement",
   "metadata": {},
   "outputs": [],
   "source": [
    "import pandas as pd\n",
    "import numpy as np\n",
    "import matplotlib as mpl # colors\n",
    "import matplotlib.pyplot as plt\n",
    "import matplotlib.ticker as ticker\n",
    "import seaborn as sns\n",
    "from datetime import datetime as dt\n",
    "import pickle\n",
    "import sys\n",
    "\n",
    "from IPython.display import display # to print tables inside the code cell\n",
    "\n",
    "plt.rcParams['axes.grid'] = True\n",
    "plt.rcParams['axes.axisbelow'] = True\n",
    "plt.rcParams['axes.xmargin'] = 0.02\n",
    "plt.rcParams['axes.ymargin'] = 0.1\n",
    "plt.rcParams['xtick.minor.visible'] = True\n",
    "plt.rcParams['ytick.minor.visible'] = True\n",
    "\n",
    "plt.rcParams['figure.dpi'] = 50\n",
    "plt.rcParams['savefig.bbox'] = 'tight'"
   ]
  },
  {
   "cell_type": "code",
   "execution_count": 2,
   "id": "occupational-german",
   "metadata": {},
   "outputs": [],
   "source": [
    "#n_customers = 500\n",
    "n_customers = 1000"
   ]
  },
  {
   "cell_type": "markdown",
   "id": "blind-divide",
   "metadata": {},
   "source": [
    "## 1.Orders dataframe <a id='1'></a>"
   ]
  },
  {
   "cell_type": "markdown",
   "id": "bright-scout",
   "metadata": {},
   "source": [
    "We'll need this to use additional info, such as day of order, days from last order etc. Use tis info only for the last order per customer."
   ]
  },
  {
   "cell_type": "code",
   "execution_count": 3,
   "id": "greatest-review",
   "metadata": {},
   "outputs": [
    {
     "name": "stdout",
     "output_type": "stream",
     "text": [
      "(3421083, 7)\n"
     ]
    }
   ],
   "source": [
    "orders = pd.read_csv(\"./data/orders.csv\")\n",
    "\n",
    "print(orders.shape)"
   ]
  },
  {
   "cell_type": "code",
   "execution_count": 4,
   "id": "municipal-replacement",
   "metadata": {},
   "outputs": [
    {
     "data": {
      "text/html": [
       "<div>\n",
       "<style scoped>\n",
       "    .dataframe tbody tr th:only-of-type {\n",
       "        vertical-align: middle;\n",
       "    }\n",
       "\n",
       "    .dataframe tbody tr th {\n",
       "        vertical-align: top;\n",
       "    }\n",
       "\n",
       "    .dataframe thead th {\n",
       "        text-align: right;\n",
       "    }\n",
       "</style>\n",
       "<table border=\"1\" class=\"dataframe\">\n",
       "  <thead>\n",
       "    <tr style=\"text-align: right;\">\n",
       "      <th></th>\n",
       "      <th>order_id</th>\n",
       "      <th>user_id</th>\n",
       "      <th>eval_set</th>\n",
       "      <th>order_number</th>\n",
       "      <th>order_dow</th>\n",
       "      <th>order_hour_of_day</th>\n",
       "      <th>days_since_prior_order</th>\n",
       "    </tr>\n",
       "  </thead>\n",
       "  <tbody>\n",
       "    <tr>\n",
       "      <th>0</th>\n",
       "      <td>2539329</td>\n",
       "      <td>1</td>\n",
       "      <td>prior</td>\n",
       "      <td>1</td>\n",
       "      <td>2</td>\n",
       "      <td>8</td>\n",
       "      <td>NaN</td>\n",
       "    </tr>\n",
       "    <tr>\n",
       "      <th>1</th>\n",
       "      <td>2398795</td>\n",
       "      <td>1</td>\n",
       "      <td>prior</td>\n",
       "      <td>2</td>\n",
       "      <td>3</td>\n",
       "      <td>7</td>\n",
       "      <td>15.0</td>\n",
       "    </tr>\n",
       "    <tr>\n",
       "      <th>2</th>\n",
       "      <td>473747</td>\n",
       "      <td>1</td>\n",
       "      <td>prior</td>\n",
       "      <td>3</td>\n",
       "      <td>3</td>\n",
       "      <td>12</td>\n",
       "      <td>21.0</td>\n",
       "    </tr>\n",
       "    <tr>\n",
       "      <th>3</th>\n",
       "      <td>2254736</td>\n",
       "      <td>1</td>\n",
       "      <td>prior</td>\n",
       "      <td>4</td>\n",
       "      <td>4</td>\n",
       "      <td>7</td>\n",
       "      <td>29.0</td>\n",
       "    </tr>\n",
       "    <tr>\n",
       "      <th>4</th>\n",
       "      <td>431534</td>\n",
       "      <td>1</td>\n",
       "      <td>prior</td>\n",
       "      <td>5</td>\n",
       "      <td>4</td>\n",
       "      <td>15</td>\n",
       "      <td>28.0</td>\n",
       "    </tr>\n",
       "    <tr>\n",
       "      <th>...</th>\n",
       "      <td>...</td>\n",
       "      <td>...</td>\n",
       "      <td>...</td>\n",
       "      <td>...</td>\n",
       "      <td>...</td>\n",
       "      <td>...</td>\n",
       "      <td>...</td>\n",
       "    </tr>\n",
       "    <tr>\n",
       "      <th>3421078</th>\n",
       "      <td>2266710</td>\n",
       "      <td>206209</td>\n",
       "      <td>prior</td>\n",
       "      <td>10</td>\n",
       "      <td>5</td>\n",
       "      <td>18</td>\n",
       "      <td>29.0</td>\n",
       "    </tr>\n",
       "    <tr>\n",
       "      <th>3421079</th>\n",
       "      <td>1854736</td>\n",
       "      <td>206209</td>\n",
       "      <td>prior</td>\n",
       "      <td>11</td>\n",
       "      <td>4</td>\n",
       "      <td>10</td>\n",
       "      <td>30.0</td>\n",
       "    </tr>\n",
       "    <tr>\n",
       "      <th>3421080</th>\n",
       "      <td>626363</td>\n",
       "      <td>206209</td>\n",
       "      <td>prior</td>\n",
       "      <td>12</td>\n",
       "      <td>1</td>\n",
       "      <td>12</td>\n",
       "      <td>18.0</td>\n",
       "    </tr>\n",
       "    <tr>\n",
       "      <th>3421081</th>\n",
       "      <td>2977660</td>\n",
       "      <td>206209</td>\n",
       "      <td>prior</td>\n",
       "      <td>13</td>\n",
       "      <td>1</td>\n",
       "      <td>12</td>\n",
       "      <td>7.0</td>\n",
       "    </tr>\n",
       "    <tr>\n",
       "      <th>3421082</th>\n",
       "      <td>272231</td>\n",
       "      <td>206209</td>\n",
       "      <td>train</td>\n",
       "      <td>14</td>\n",
       "      <td>6</td>\n",
       "      <td>14</td>\n",
       "      <td>30.0</td>\n",
       "    </tr>\n",
       "  </tbody>\n",
       "</table>\n",
       "<p>3421083 rows × 7 columns</p>\n",
       "</div>"
      ],
      "text/plain": [
       "         order_id  user_id eval_set  order_number  order_dow  \\\n",
       "0         2539329        1    prior             1          2   \n",
       "1         2398795        1    prior             2          3   \n",
       "2          473747        1    prior             3          3   \n",
       "3         2254736        1    prior             4          4   \n",
       "4          431534        1    prior             5          4   \n",
       "...           ...      ...      ...           ...        ...   \n",
       "3421078   2266710   206209    prior            10          5   \n",
       "3421079   1854736   206209    prior            11          4   \n",
       "3421080    626363   206209    prior            12          1   \n",
       "3421081   2977660   206209    prior            13          1   \n",
       "3421082    272231   206209    train            14          6   \n",
       "\n",
       "         order_hour_of_day  days_since_prior_order  \n",
       "0                        8                     NaN  \n",
       "1                        7                    15.0  \n",
       "2                       12                    21.0  \n",
       "3                        7                    29.0  \n",
       "4                       15                    28.0  \n",
       "...                    ...                     ...  \n",
       "3421078                 18                    29.0  \n",
       "3421079                 10                    30.0  \n",
       "3421080                 12                    18.0  \n",
       "3421081                 12                     7.0  \n",
       "3421082                 14                    30.0  \n",
       "\n",
       "[3421083 rows x 7 columns]"
      ]
     },
     "execution_count": 4,
     "metadata": {},
     "output_type": "execute_result"
    }
   ],
   "source": [
    "orders"
   ]
  },
  {
   "cell_type": "code",
   "execution_count": 5,
   "id": "positive-chorus",
   "metadata": {},
   "outputs": [
    {
     "data": {
      "text/html": [
       "<div>\n",
       "<style scoped>\n",
       "    .dataframe tbody tr th:only-of-type {\n",
       "        vertical-align: middle;\n",
       "    }\n",
       "\n",
       "    .dataframe tbody tr th {\n",
       "        vertical-align: top;\n",
       "    }\n",
       "\n",
       "    .dataframe thead th {\n",
       "        text-align: right;\n",
       "    }\n",
       "</style>\n",
       "<table border=\"1\" class=\"dataframe\">\n",
       "  <thead>\n",
       "    <tr style=\"text-align: right;\">\n",
       "      <th></th>\n",
       "      <th>user_id</th>\n",
       "      <th>order_number</th>\n",
       "      <th>order_dow</th>\n",
       "      <th>order_hour_of_day</th>\n",
       "      <th>days_since_prior_order</th>\n",
       "    </tr>\n",
       "  </thead>\n",
       "  <tbody>\n",
       "    <tr>\n",
       "      <th>0</th>\n",
       "      <td>1</td>\n",
       "      <td>1</td>\n",
       "      <td>2</td>\n",
       "      <td>8</td>\n",
       "      <td>NaN</td>\n",
       "    </tr>\n",
       "    <tr>\n",
       "      <th>1</th>\n",
       "      <td>1</td>\n",
       "      <td>2</td>\n",
       "      <td>3</td>\n",
       "      <td>7</td>\n",
       "      <td>15.0</td>\n",
       "    </tr>\n",
       "    <tr>\n",
       "      <th>2</th>\n",
       "      <td>1</td>\n",
       "      <td>3</td>\n",
       "      <td>3</td>\n",
       "      <td>12</td>\n",
       "      <td>21.0</td>\n",
       "    </tr>\n",
       "    <tr>\n",
       "      <th>3</th>\n",
       "      <td>1</td>\n",
       "      <td>4</td>\n",
       "      <td>4</td>\n",
       "      <td>7</td>\n",
       "      <td>29.0</td>\n",
       "    </tr>\n",
       "    <tr>\n",
       "      <th>4</th>\n",
       "      <td>1</td>\n",
       "      <td>5</td>\n",
       "      <td>4</td>\n",
       "      <td>15</td>\n",
       "      <td>28.0</td>\n",
       "    </tr>\n",
       "    <tr>\n",
       "      <th>...</th>\n",
       "      <td>...</td>\n",
       "      <td>...</td>\n",
       "      <td>...</td>\n",
       "      <td>...</td>\n",
       "      <td>...</td>\n",
       "    </tr>\n",
       "    <tr>\n",
       "      <th>3421077</th>\n",
       "      <td>206209</td>\n",
       "      <td>9</td>\n",
       "      <td>4</td>\n",
       "      <td>15</td>\n",
       "      <td>22.0</td>\n",
       "    </tr>\n",
       "    <tr>\n",
       "      <th>3421078</th>\n",
       "      <td>206209</td>\n",
       "      <td>10</td>\n",
       "      <td>5</td>\n",
       "      <td>18</td>\n",
       "      <td>29.0</td>\n",
       "    </tr>\n",
       "    <tr>\n",
       "      <th>3421079</th>\n",
       "      <td>206209</td>\n",
       "      <td>11</td>\n",
       "      <td>4</td>\n",
       "      <td>10</td>\n",
       "      <td>30.0</td>\n",
       "    </tr>\n",
       "    <tr>\n",
       "      <th>3421080</th>\n",
       "      <td>206209</td>\n",
       "      <td>12</td>\n",
       "      <td>1</td>\n",
       "      <td>12</td>\n",
       "      <td>18.0</td>\n",
       "    </tr>\n",
       "    <tr>\n",
       "      <th>3421081</th>\n",
       "      <td>206209</td>\n",
       "      <td>13</td>\n",
       "      <td>1</td>\n",
       "      <td>12</td>\n",
       "      <td>7.0</td>\n",
       "    </tr>\n",
       "  </tbody>\n",
       "</table>\n",
       "<p>3214874 rows × 5 columns</p>\n",
       "</div>"
      ],
      "text/plain": [
       "         user_id  order_number  order_dow  order_hour_of_day  \\\n",
       "0              1             1          2                  8   \n",
       "1              1             2          3                  7   \n",
       "2              1             3          3                 12   \n",
       "3              1             4          4                  7   \n",
       "4              1             5          4                 15   \n",
       "...          ...           ...        ...                ...   \n",
       "3421077   206209             9          4                 15   \n",
       "3421078   206209            10          5                 18   \n",
       "3421079   206209            11          4                 10   \n",
       "3421080   206209            12          1                 12   \n",
       "3421081   206209            13          1                 12   \n",
       "\n",
       "         days_since_prior_order  \n",
       "0                           NaN  \n",
       "1                          15.0  \n",
       "2                          21.0  \n",
       "3                          29.0  \n",
       "4                          28.0  \n",
       "...                         ...  \n",
       "3421077                    22.0  \n",
       "3421078                    29.0  \n",
       "3421079                    30.0  \n",
       "3421080                    18.0  \n",
       "3421081                     7.0  \n",
       "\n",
       "[3214874 rows x 5 columns]"
      ]
     },
     "execution_count": 5,
     "metadata": {},
     "output_type": "execute_result"
    }
   ],
   "source": [
    "o = orders[orders['eval_set']=='prior'].drop(['order_id','eval_set'],axis=1)\n",
    "o"
   ]
  },
  {
   "cell_type": "markdown",
   "id": "comic-collectible",
   "metadata": {},
   "source": [
    "Select only the last order for each of the first n_customers:"
   ]
  },
  {
   "cell_type": "code",
   "execution_count": 6,
   "id": "wicked-shield",
   "metadata": {},
   "outputs": [
    {
     "data": {
      "text/plain": [
       "206209"
      ]
     },
     "execution_count": 6,
     "metadata": {},
     "output_type": "execute_result"
    }
   ],
   "source": [
    "o['user_id'].nunique()"
   ]
  },
  {
   "cell_type": "code",
   "execution_count": 7,
   "id": "interesting-northeast",
   "metadata": {},
   "outputs": [
    {
     "data": {
      "text/html": [
       "<div>\n",
       "<style scoped>\n",
       "    .dataframe tbody tr th:only-of-type {\n",
       "        vertical-align: middle;\n",
       "    }\n",
       "\n",
       "    .dataframe tbody tr th {\n",
       "        vertical-align: top;\n",
       "    }\n",
       "\n",
       "    .dataframe thead th {\n",
       "        text-align: right;\n",
       "    }\n",
       "</style>\n",
       "<table border=\"1\" class=\"dataframe\">\n",
       "  <thead>\n",
       "    <tr style=\"text-align: right;\">\n",
       "      <th></th>\n",
       "      <th>order_number</th>\n",
       "      <th>order_dow</th>\n",
       "      <th>order_hour_of_day</th>\n",
       "      <th>days_since_prior_order</th>\n",
       "    </tr>\n",
       "    <tr>\n",
       "      <th>user_id</th>\n",
       "      <th></th>\n",
       "      <th></th>\n",
       "      <th></th>\n",
       "      <th></th>\n",
       "    </tr>\n",
       "  </thead>\n",
       "  <tbody>\n",
       "    <tr>\n",
       "      <th>1</th>\n",
       "      <td>10</td>\n",
       "      <td>4</td>\n",
       "      <td>8</td>\n",
       "      <td>30.0</td>\n",
       "    </tr>\n",
       "    <tr>\n",
       "      <th>2</th>\n",
       "      <td>14</td>\n",
       "      <td>3</td>\n",
       "      <td>10</td>\n",
       "      <td>13.0</td>\n",
       "    </tr>\n",
       "    <tr>\n",
       "      <th>3</th>\n",
       "      <td>12</td>\n",
       "      <td>1</td>\n",
       "      <td>15</td>\n",
       "      <td>15.0</td>\n",
       "    </tr>\n",
       "    <tr>\n",
       "      <th>4</th>\n",
       "      <td>5</td>\n",
       "      <td>5</td>\n",
       "      <td>13</td>\n",
       "      <td>0.0</td>\n",
       "    </tr>\n",
       "    <tr>\n",
       "      <th>5</th>\n",
       "      <td>4</td>\n",
       "      <td>1</td>\n",
       "      <td>18</td>\n",
       "      <td>19.0</td>\n",
       "    </tr>\n",
       "    <tr>\n",
       "      <th>...</th>\n",
       "      <td>...</td>\n",
       "      <td>...</td>\n",
       "      <td>...</td>\n",
       "      <td>...</td>\n",
       "    </tr>\n",
       "    <tr>\n",
       "      <th>996</th>\n",
       "      <td>4</td>\n",
       "      <td>3</td>\n",
       "      <td>17</td>\n",
       "      <td>25.0</td>\n",
       "    </tr>\n",
       "    <tr>\n",
       "      <th>997</th>\n",
       "      <td>17</td>\n",
       "      <td>1</td>\n",
       "      <td>20</td>\n",
       "      <td>30.0</td>\n",
       "    </tr>\n",
       "    <tr>\n",
       "      <th>998</th>\n",
       "      <td>26</td>\n",
       "      <td>1</td>\n",
       "      <td>14</td>\n",
       "      <td>15.0</td>\n",
       "    </tr>\n",
       "    <tr>\n",
       "      <th>999</th>\n",
       "      <td>38</td>\n",
       "      <td>4</td>\n",
       "      <td>17</td>\n",
       "      <td>3.0</td>\n",
       "    </tr>\n",
       "    <tr>\n",
       "      <th>1000</th>\n",
       "      <td>7</td>\n",
       "      <td>0</td>\n",
       "      <td>18</td>\n",
       "      <td>8.0</td>\n",
       "    </tr>\n",
       "  </tbody>\n",
       "</table>\n",
       "<p>1000 rows × 4 columns</p>\n",
       "</div>"
      ],
      "text/plain": [
       "         order_number  order_dow  order_hour_of_day  days_since_prior_order\n",
       "user_id                                                                    \n",
       "1                  10          4                  8                    30.0\n",
       "2                  14          3                 10                    13.0\n",
       "3                  12          1                 15                    15.0\n",
       "4                   5          5                 13                     0.0\n",
       "5                   4          1                 18                    19.0\n",
       "...               ...        ...                ...                     ...\n",
       "996                 4          3                 17                    25.0\n",
       "997                17          1                 20                    30.0\n",
       "998                26          1                 14                    15.0\n",
       "999                38          4                 17                     3.0\n",
       "1000                7          0                 18                     8.0\n",
       "\n",
       "[1000 rows x 4 columns]"
      ]
     },
     "execution_count": 7,
     "metadata": {},
     "output_type": "execute_result"
    }
   ],
   "source": [
    "o = o.groupby('user_id').last().head(n_customers)\n",
    "o"
   ]
  },
  {
   "cell_type": "markdown",
   "id": "duplicate-population",
   "metadata": {},
   "source": [
    "## 2.Results of GRU, LSTM, baseline models (per customer) <a id='2'></a>"
   ]
  },
  {
   "cell_type": "markdown",
   "id": "norman-screen",
   "metadata": {},
   "source": [
    "Read in the results from files:"
   ]
  },
  {
   "cell_type": "code",
   "execution_count": 8,
   "id": "recreational-click",
   "metadata": {},
   "outputs": [],
   "source": [
    "with open('./data/individual_1000customers_baseline.pkl', 'rb') as f:\n",
    "        f1_bsln,p_bsln,r_bsln,f1_bsln_test,p_bsln_test,r_bsln_test = pickle.load(f)"
   ]
  },
  {
   "cell_type": "code",
   "execution_count": 9,
   "id": "informed-genome",
   "metadata": {},
   "outputs": [],
   "source": [
    "with open('./data/individual_1000customers_GRU.pkl', 'rb') as f: \n",
    "        f1_gru,p_gru,r_gru = pickle.load(f)"
   ]
  },
  {
   "cell_type": "code",
   "execution_count": 10,
   "id": "intelligent-stable",
   "metadata": {},
   "outputs": [],
   "source": [
    "with open('./data/individual_1000customers_GRU_test.pkl', 'rb') as f: .\n",
    "        f1_gru_test,p_gru_test,r_gru_test = pickle.load(f)"
   ]
  },
  {
   "cell_type": "code",
   "execution_count": 11,
   "id": "fleet-basketball",
   "metadata": {},
   "outputs": [],
   "source": [
    "with open('./data/individual_1000customers_LSTM.pkl', 'rb') as f: \n",
    "        f1_lstm,p_lstm,r_lstm = pickle.load(f)"
   ]
  },
  {
   "cell_type": "code",
   "execution_count": 12,
   "id": "exciting-investigation",
   "metadata": {},
   "outputs": [],
   "source": [
    "with open('./data/individual_1000customers_LSTM_test.pkl', 'rb') as f: \n",
    "        f1_lstm_test,p_lstm_test,r_lstm_test = pickle.load(f)"
   ]
  },
  {
   "cell_type": "code",
   "execution_count": 13,
   "id": "going-measure",
   "metadata": {},
   "outputs": [],
   "source": [
    "with open('./data/individual_1000customers_GRU_model.pkl', 'rb') as f:\n",
    "        nord,npro,t_gru,nepochs_gru,thres_gru = pickle.load(f)"
   ]
  },
  {
   "cell_type": "code",
   "execution_count": 14,
   "id": "impaired-relative",
   "metadata": {},
   "outputs": [],
   "source": [
    "with open('./data/individual_1000customers_LSTM_model.pkl', 'rb') as f:\n",
    "        nord,npro,t_lstm,nepochs_lstm,thres_lstm = pickle.load(f)"
   ]
  },
  {
   "cell_type": "code",
   "execution_count": 15,
   "id": "applied-encyclopedia",
   "metadata": {},
   "outputs": [
    {
     "data": {
      "text/plain": [
       "1000"
      ]
     },
     "execution_count": 15,
     "metadata": {},
     "output_type": "execute_result"
    }
   ],
   "source": [
    "len(f1_bsln)"
   ]
  },
  {
   "cell_type": "code",
   "execution_count": 16,
   "id": "worse-boundary",
   "metadata": {},
   "outputs": [
    {
     "data": {
      "text/plain": [
       "(0.31, 0.31)"
      ]
     },
     "execution_count": 16,
     "metadata": {},
     "output_type": "execute_result"
    }
   ],
   "source": [
    "np.mean(f1_gru).round(2),np.mean(f1_lstm).round(2)"
   ]
  },
  {
   "cell_type": "code",
   "execution_count": 17,
   "id": "threatened-profile",
   "metadata": {},
   "outputs": [],
   "source": [
    "# (0.27, 0.26) #no threshold adjustment"
   ]
  },
  {
   "cell_type": "code",
   "execution_count": 18,
   "id": "sized-music",
   "metadata": {},
   "outputs": [],
   "source": [
    "o['f1b'] = f1_bsln\n",
    "o['f1g'] = f1_gru\n",
    "o['f1l'] = f1_lstm\n",
    "\n",
    "o['f1bt'] = f1_bsln_test\n",
    "o['f1gt'] = f1_gru_test\n",
    "o['f1lt'] = f1_lstm_test\n",
    "\n",
    "o['nord'] = nord\n",
    "o['npro'] = npro\n",
    "o['thresg'] = thres_gru\n",
    "o['thresl'] = thres_lstm"
   ]
  },
  {
   "cell_type": "code",
   "execution_count": 19,
   "id": "suspended-missouri",
   "metadata": {},
   "outputs": [
    {
     "data": {
      "text/html": [
       "<div>\n",
       "<style scoped>\n",
       "    .dataframe tbody tr th:only-of-type {\n",
       "        vertical-align: middle;\n",
       "    }\n",
       "\n",
       "    .dataframe tbody tr th {\n",
       "        vertical-align: top;\n",
       "    }\n",
       "\n",
       "    .dataframe thead th {\n",
       "        text-align: right;\n",
       "    }\n",
       "</style>\n",
       "<table border=\"1\" class=\"dataframe\">\n",
       "  <thead>\n",
       "    <tr style=\"text-align: right;\">\n",
       "      <th></th>\n",
       "      <th>order_number</th>\n",
       "      <th>order_dow</th>\n",
       "      <th>order_hour_of_day</th>\n",
       "      <th>days_since_prior_order</th>\n",
       "      <th>f1b</th>\n",
       "      <th>f1g</th>\n",
       "      <th>f1l</th>\n",
       "      <th>f1bt</th>\n",
       "      <th>f1gt</th>\n",
       "      <th>f1lt</th>\n",
       "      <th>nord</th>\n",
       "      <th>npro</th>\n",
       "      <th>thresg</th>\n",
       "      <th>thresl</th>\n",
       "    </tr>\n",
       "    <tr>\n",
       "      <th>user_id</th>\n",
       "      <th></th>\n",
       "      <th></th>\n",
       "      <th></th>\n",
       "      <th></th>\n",
       "      <th></th>\n",
       "      <th></th>\n",
       "      <th></th>\n",
       "      <th></th>\n",
       "      <th></th>\n",
       "      <th></th>\n",
       "      <th></th>\n",
       "      <th></th>\n",
       "      <th></th>\n",
       "      <th></th>\n",
       "    </tr>\n",
       "  </thead>\n",
       "  <tbody>\n",
       "    <tr>\n",
       "      <th>1</th>\n",
       "      <td>10</td>\n",
       "      <td>4</td>\n",
       "      <td>8</td>\n",
       "      <td>30.0</td>\n",
       "      <td>0.625000</td>\n",
       "      <td>0.625000</td>\n",
       "      <td>0.625000</td>\n",
       "      <td>0.833333</td>\n",
       "      <td>0.833333</td>\n",
       "      <td>0.833333</td>\n",
       "      <td>10</td>\n",
       "      <td>12</td>\n",
       "      <td>0.40</td>\n",
       "      <td>0.37</td>\n",
       "    </tr>\n",
       "    <tr>\n",
       "      <th>2</th>\n",
       "      <td>14</td>\n",
       "      <td>3</td>\n",
       "      <td>10</td>\n",
       "      <td>13.0</td>\n",
       "      <td>0.181818</td>\n",
       "      <td>0.344828</td>\n",
       "      <td>0.296296</td>\n",
       "      <td>0.571429</td>\n",
       "      <td>0.583333</td>\n",
       "      <td>0.640000</td>\n",
       "      <td>13</td>\n",
       "      <td>42</td>\n",
       "      <td>0.37</td>\n",
       "      <td>0.43</td>\n",
       "    </tr>\n",
       "    <tr>\n",
       "      <th>3</th>\n",
       "      <td>12</td>\n",
       "      <td>1</td>\n",
       "      <td>15</td>\n",
       "      <td>15.0</td>\n",
       "      <td>0.333333</td>\n",
       "      <td>0.571429</td>\n",
       "      <td>0.571429</td>\n",
       "      <td>0.400000</td>\n",
       "      <td>0.888889</td>\n",
       "      <td>0.888889</td>\n",
       "      <td>4</td>\n",
       "      <td>10</td>\n",
       "      <td>0.00</td>\n",
       "      <td>0.00</td>\n",
       "    </tr>\n",
       "    <tr>\n",
       "      <th>4</th>\n",
       "      <td>5</td>\n",
       "      <td>5</td>\n",
       "      <td>13</td>\n",
       "      <td>0.0</td>\n",
       "      <td>0.300000</td>\n",
       "      <td>0.384615</td>\n",
       "      <td>0.421053</td>\n",
       "      <td>0.235294</td>\n",
       "      <td>0.562500</td>\n",
       "      <td>0.521739</td>\n",
       "      <td>20</td>\n",
       "      <td>41</td>\n",
       "      <td>0.37</td>\n",
       "      <td>0.46</td>\n",
       "    </tr>\n",
       "    <tr>\n",
       "      <th>5</th>\n",
       "      <td>4</td>\n",
       "      <td>1</td>\n",
       "      <td>18</td>\n",
       "      <td>19.0</td>\n",
       "      <td>0.222222</td>\n",
       "      <td>-0.100000</td>\n",
       "      <td>-0.100000</td>\n",
       "      <td>0.461538</td>\n",
       "      <td>-0.100000</td>\n",
       "      <td>-0.100000</td>\n",
       "      <td>3</td>\n",
       "      <td>12</td>\n",
       "      <td>-1.00</td>\n",
       "      <td>-1.00</td>\n",
       "    </tr>\n",
       "    <tr>\n",
       "      <th>...</th>\n",
       "      <td>...</td>\n",
       "      <td>...</td>\n",
       "      <td>...</td>\n",
       "      <td>...</td>\n",
       "      <td>...</td>\n",
       "      <td>...</td>\n",
       "      <td>...</td>\n",
       "      <td>...</td>\n",
       "      <td>...</td>\n",
       "      <td>...</td>\n",
       "      <td>...</td>\n",
       "      <td>...</td>\n",
       "      <td>...</td>\n",
       "      <td>...</td>\n",
       "    </tr>\n",
       "    <tr>\n",
       "      <th>996</th>\n",
       "      <td>4</td>\n",
       "      <td>3</td>\n",
       "      <td>17</td>\n",
       "      <td>25.0</td>\n",
       "      <td>0.400000</td>\n",
       "      <td>0.666667</td>\n",
       "      <td>0.400000</td>\n",
       "      <td>0.400000</td>\n",
       "      <td>0.285714</td>\n",
       "      <td>0.666667</td>\n",
       "      <td>6</td>\n",
       "      <td>9</td>\n",
       "      <td>0.41</td>\n",
       "      <td>0.62</td>\n",
       "    </tr>\n",
       "    <tr>\n",
       "      <th>997</th>\n",
       "      <td>17</td>\n",
       "      <td>1</td>\n",
       "      <td>20</td>\n",
       "      <td>30.0</td>\n",
       "      <td>0.000000</td>\n",
       "      <td>0.000000</td>\n",
       "      <td>0.093023</td>\n",
       "      <td>0.000000</td>\n",
       "      <td>0.333333</td>\n",
       "      <td>0.051282</td>\n",
       "      <td>15</td>\n",
       "      <td>44</td>\n",
       "      <td>0.69</td>\n",
       "      <td>0.28</td>\n",
       "    </tr>\n",
       "    <tr>\n",
       "      <th>998</th>\n",
       "      <td>26</td>\n",
       "      <td>1</td>\n",
       "      <td>14</td>\n",
       "      <td>15.0</td>\n",
       "      <td>0.529412</td>\n",
       "      <td>0.622222</td>\n",
       "      <td>0.622222</td>\n",
       "      <td>0.666667</td>\n",
       "      <td>0.775510</td>\n",
       "      <td>0.775510</td>\n",
       "      <td>7</td>\n",
       "      <td>31</td>\n",
       "      <td>0.29</td>\n",
       "      <td>0.29</td>\n",
       "    </tr>\n",
       "    <tr>\n",
       "      <th>999</th>\n",
       "      <td>38</td>\n",
       "      <td>4</td>\n",
       "      <td>17</td>\n",
       "      <td>3.0</td>\n",
       "      <td>0.000000</td>\n",
       "      <td>0.666667</td>\n",
       "      <td>0.666667</td>\n",
       "      <td>0.000000</td>\n",
       "      <td>0.400000</td>\n",
       "      <td>0.400000</td>\n",
       "      <td>4</td>\n",
       "      <td>4</td>\n",
       "      <td>0.00</td>\n",
       "      <td>0.00</td>\n",
       "    </tr>\n",
       "    <tr>\n",
       "      <th>1000</th>\n",
       "      <td>7</td>\n",
       "      <td>0</td>\n",
       "      <td>18</td>\n",
       "      <td>8.0</td>\n",
       "      <td>0.818182</td>\n",
       "      <td>0.888889</td>\n",
       "      <td>0.923077</td>\n",
       "      <td>0.666667</td>\n",
       "      <td>0.800000</td>\n",
       "      <td>0.833333</td>\n",
       "      <td>12</td>\n",
       "      <td>15</td>\n",
       "      <td>0.00</td>\n",
       "      <td>0.27</td>\n",
       "    </tr>\n",
       "  </tbody>\n",
       "</table>\n",
       "<p>1000 rows × 14 columns</p>\n",
       "</div>"
      ],
      "text/plain": [
       "         order_number  order_dow  order_hour_of_day  days_since_prior_order  \\\n",
       "user_id                                                                       \n",
       "1                  10          4                  8                    30.0   \n",
       "2                  14          3                 10                    13.0   \n",
       "3                  12          1                 15                    15.0   \n",
       "4                   5          5                 13                     0.0   \n",
       "5                   4          1                 18                    19.0   \n",
       "...               ...        ...                ...                     ...   \n",
       "996                 4          3                 17                    25.0   \n",
       "997                17          1                 20                    30.0   \n",
       "998                26          1                 14                    15.0   \n",
       "999                38          4                 17                     3.0   \n",
       "1000                7          0                 18                     8.0   \n",
       "\n",
       "              f1b       f1g       f1l      f1bt      f1gt      f1lt  nord  \\\n",
       "user_id                                                                     \n",
       "1        0.625000  0.625000  0.625000  0.833333  0.833333  0.833333    10   \n",
       "2        0.181818  0.344828  0.296296  0.571429  0.583333  0.640000    13   \n",
       "3        0.333333  0.571429  0.571429  0.400000  0.888889  0.888889     4   \n",
       "4        0.300000  0.384615  0.421053  0.235294  0.562500  0.521739    20   \n",
       "5        0.222222 -0.100000 -0.100000  0.461538 -0.100000 -0.100000     3   \n",
       "...           ...       ...       ...       ...       ...       ...   ...   \n",
       "996      0.400000  0.666667  0.400000  0.400000  0.285714  0.666667     6   \n",
       "997      0.000000  0.000000  0.093023  0.000000  0.333333  0.051282    15   \n",
       "998      0.529412  0.622222  0.622222  0.666667  0.775510  0.775510     7   \n",
       "999      0.000000  0.666667  0.666667  0.000000  0.400000  0.400000     4   \n",
       "1000     0.818182  0.888889  0.923077  0.666667  0.800000  0.833333    12   \n",
       "\n",
       "         npro  thresg  thresl  \n",
       "user_id                        \n",
       "1          12    0.40    0.37  \n",
       "2          42    0.37    0.43  \n",
       "3          10    0.00    0.00  \n",
       "4          41    0.37    0.46  \n",
       "5          12   -1.00   -1.00  \n",
       "...       ...     ...     ...  \n",
       "996         9    0.41    0.62  \n",
       "997        44    0.69    0.28  \n",
       "998        31    0.29    0.29  \n",
       "999         4    0.00    0.00  \n",
       "1000       15    0.00    0.27  \n",
       "\n",
       "[1000 rows x 14 columns]"
      ]
     },
     "execution_count": 19,
     "metadata": {},
     "output_type": "execute_result"
    }
   ],
   "source": [
    "o"
   ]
  },
  {
   "cell_type": "markdown",
   "id": "hollywood-segment",
   "metadata": {},
   "source": [
    "__1. GRU vs LSTM__"
   ]
  },
  {
   "cell_type": "markdown",
   "id": "usual-clock",
   "metadata": {},
   "source": [
    "Thresholds:"
   ]
  },
  {
   "cell_type": "code",
   "execution_count": 20,
   "id": "modified-floor",
   "metadata": {},
   "outputs": [
    {
     "data": {
      "image/png": "[encoded data removed]",
      "text/plain": [
       "<Figure size 300x200 with 1 Axes>"
      ]
     },
     "metadata": {
      "needs_background": "light"
     },
     "output_type": "display_data"
    }
   ],
   "source": [
    "plt.hist(o['thresg'],bins=50,range=(0,1)); # GRU, tuned probability threshold (each per customer)"
   ]
  },
  {
   "cell_type": "code",
   "execution_count": 21,
   "id": "tight-weekend",
   "metadata": {},
   "outputs": [
    {
     "data": {
      "image/png": "[encoded data removed]",
      "text/plain": [
       "<Figure size 300x200 with 1 Axes>"
      ]
     },
     "metadata": {
      "needs_background": "light"
     },
     "output_type": "display_data"
    }
   ],
   "source": [
    "plt.hist(o['thresl'],bins=50,range=(0,1)); # LSTM, tuned probability threshold (each per customer)"
   ]
  },
  {
   "cell_type": "markdown",
   "id": "silent-regard",
   "metadata": {},
   "source": [
    "F1 scores:"
   ]
  },
  {
   "cell_type": "code",
   "execution_count": 22,
   "id": "dramatic-jacob",
   "metadata": {},
   "outputs": [
    {
     "data": {
      "image/png": "[encoded data removed]",
      "text/plain": [
       "<Figure size 300x200 with 1 Axes>"
      ]
     },
     "metadata": {
      "needs_background": "light"
     },
     "output_type": "display_data"
    }
   ],
   "source": [
    "#f1 distribution\n",
    "plt.hist(o['f1g'],bins=55,range=(-0.1,1),alpha=0.3,label='GRU')\n",
    "plt.hist(o['f1l'],bins=55,range=(-0.1,1),alpha=0.3,label='LSTM')\n",
    "plt.legend(fontsize=15);"
   ]
  },
  {
   "cell_type": "code",
   "execution_count": 23,
   "id": "rural-competition",
   "metadata": {},
   "outputs": [
    {
     "data": {
      "image/png": "[encoded data removed]",
      "text/plain": [
       "<Figure size 300x200 with 1 Axes>"
      ]
     },
     "metadata": {
      "needs_background": "light"
     },
     "output_type": "display_data"
    }
   ],
   "source": [
    "# scatter plot\n",
    "plt.plot(o['f1g'],o['f1l'],'o',markersize=3);\n",
    "plt.xlabel('GRU f1',fontsize=15);plt.ylabel('LSTM f1',fontsize=15);"
   ]
  },
  {
   "cell_type": "code",
   "execution_count": 24,
   "id": "strange-toddler",
   "metadata": {},
   "outputs": [
    {
     "name": "stdout",
     "output_type": "stream",
     "text": [
      "x0= 0.01 ,sigma= 0.16\n"
     ]
    },
    {
     "data": {
      "image/png": "[encoded data removed]",
      "text/plain": [
       "<Figure size 300x200 with 1 Axes>"
      ]
     },
     "metadata": {
      "needs_background": "light"
     },
     "output_type": "display_data"
    }
   ],
   "source": [
    "# histogram of difference\n",
    "dgl = o['f1g'] - o['f1l'] \n",
    "plt.hist(dgl,bins=50)\n",
    "plt.xlabel('GRU f1 - LSTM f1',fontsize=15)\n",
    "\n",
    "from scipy.stats import norm\n",
    "mu, sigma = norm.fit(dgl)\n",
    "print('x0=',round(mu,2),',sigma=',round(sigma,2));"
   ]
  },
  {
   "cell_type": "markdown",
   "id": "saving-observation",
   "metadata": {},
   "source": [
    "__2. GRU vs Baseline (copy last order)__"
   ]
  },
  {
   "cell_type": "code",
   "execution_count": 25,
   "id": "instrumental-sculpture",
   "metadata": {},
   "outputs": [
    {
     "data": {
      "image/png": "[encoded data removed]",
      "text/plain": [
       "<Figure size 300x200 with 1 Axes>"
      ]
     },
     "metadata": {
      "needs_background": "light"
     },
     "output_type": "display_data"
    }
   ],
   "source": [
    "#f1 distribution\n",
    "plt.hist(o['f1g'],bins=55,range=(-0.1,1),alpha=0.3,label='GRU')\n",
    "plt.hist(o['f1b'],bins=55,range=(-0.1,1),alpha=0.3,label='CopyLast')\n",
    "plt.legend(fontsize=15);"
   ]
  },
  {
   "cell_type": "code",
   "execution_count": 26,
   "id": "comprehensive-flavor",
   "metadata": {},
   "outputs": [
    {
     "name": "stdout",
     "output_type": "stream",
     "text": [
      "x0= -0.03 ,sigma= 0.31\n"
     ]
    },
    {
     "data": {
      "image/png": "[encoded data removed]",
      "text/plain": [
       "<Figure size 300x200 with 1 Axes>"
      ]
     },
     "metadata": {
      "needs_background": "light"
     },
     "output_type": "display_data"
    }
   ],
   "source": [
    "# difference GRU - baseline, hist\n",
    "dgb = o['f1g'] - o['f1b']\n",
    "plt.hist(dgb,bins=50)\n",
    "plt.xlabel('GRU f1 - baseline f1',fontsize=15)\n",
    "\n",
    "from scipy.stats import norm\n",
    "mu, sigma = norm.fit(dgb)\n",
    "print('x0=',round(mu,2),',sigma=',round(sigma,2));"
   ]
  },
  {
   "cell_type": "markdown",
   "id": "photographic-specification",
   "metadata": {},
   "source": [
    "What's the average f1 score if we ignore zeros?"
   ]
  },
  {
   "cell_type": "code",
   "execution_count": 27,
   "id": "digital-puppy",
   "metadata": {},
   "outputs": [
    {
     "data": {
      "text/plain": [
       "0.448"
      ]
     },
     "execution_count": 27,
     "metadata": {},
     "output_type": "execute_result"
    }
   ],
   "source": [
    "# GRU:\n",
    "mg = o['f1g']> 0\n",
    "np.mean(o['f1g'][mg]).round(3)"
   ]
  },
  {
   "cell_type": "code",
   "execution_count": 28,
   "id": "standing-hungarian",
   "metadata": {},
   "outputs": [
    {
     "data": {
      "text/plain": [
       "0.443"
      ]
     },
     "execution_count": 28,
     "metadata": {},
     "output_type": "execute_result"
    }
   ],
   "source": [
    "# LSTM\n",
    "ml = o['f1l']> 0\n",
    "np.mean(o['f1l'][ml]).round(3)"
   ]
  },
  {
   "cell_type": "code",
   "execution_count": 29,
   "id": "nuclear-patrol",
   "metadata": {},
   "outputs": [
    {
     "data": {
      "text/plain": [
       "0.47"
      ]
     },
     "execution_count": 29,
     "metadata": {},
     "output_type": "execute_result"
    }
   ],
   "source": [
    "# Baseline\n",
    "mb = o['f1b']> 0\n",
    "np.mean(o['f1b'][mb]).round(3)"
   ]
  },
  {
   "cell_type": "markdown",
   "id": "waiting-genome",
   "metadata": {},
   "source": [
    "The best result for this competition from the [Kaggle leaderboard](https://www.kaggle.com/c/instacart-market-basket-analysis/leaderboard) is 0.409. Understanding zeros is crucial."
   ]
  },
  {
   "cell_type": "markdown",
   "id": "interpreted-special",
   "metadata": {},
   "source": [
    "__3. GRU prediction vs GRU test (prediction of the n-th vs (n-1)-th order)__"
   ]
  },
  {
   "cell_type": "code",
   "execution_count": 30,
   "id": "statistical-dollar",
   "metadata": {},
   "outputs": [
    {
     "data": {
      "image/png": "[encoded data removed]",
      "text/plain": [
       "<Figure size 300x200 with 1 Axes>"
      ]
     },
     "metadata": {
      "needs_background": "light"
     },
     "output_type": "display_data"
    }
   ],
   "source": [
    "# scatter plot\n",
    "plt.plot(o['f1gt'],o['f1g'],'o',markersize=3);\n",
    "plt.xlabel('GRU (n-1)-th',fontsize=15);plt.ylabel('GRU n-th',fontsize=15)\n",
    "plt.axline((0, 0), (1, 1),color='r', linestyle='--');"
   ]
  },
  {
   "cell_type": "code",
   "execution_count": 31,
   "id": "absent-leader",
   "metadata": {},
   "outputs": [
    {
     "name": "stdout",
     "output_type": "stream",
     "text": [
      "x0= -0.13 ,sigma= 0.24\n"
     ]
    },
    {
     "data": {
      "image/png": "[encoded data removed]",
      "text/plain": [
       "<Figure size 300x200 with 1 Axes>"
      ]
     },
     "metadata": {
      "needs_background": "light"
     },
     "output_type": "display_data"
    }
   ],
   "source": [
    "# histogram of difference\n",
    "dgt = o['f1g'] - o['f1gt'] \n",
    "plt.hist(dgt,bins=50)\n",
    "plt.xlabel('GRU n-th - GRu (n-1)-th',fontsize=15)\n",
    "\n",
    "from scipy.stats import norm\n",
    "mu, sigma = norm.fit(dgt)\n",
    "print('x0=',round(mu,2),',sigma=',round(sigma,2));"
   ]
  },
  {
   "cell_type": "markdown",
   "id": "interesting-creator",
   "metadata": {},
   "source": [
    "GRU (n-1)-th better by 0.13 than GRU n-th. And generaly pretty wide sigma, which means there's a lot of randomness in the prediction. Same results, i.e. a peak at 0 is when too little data to train the model."
   ]
  },
  {
   "cell_type": "markdown",
   "id": "interim-alarm",
   "metadata": {},
   "source": [
    "__4. Baseline prediction vs Baseline test (the n-th vs (n-1)-th order)__"
   ]
  },
  {
   "cell_type": "code",
   "execution_count": 32,
   "id": "built-bonus",
   "metadata": {},
   "outputs": [
    {
     "data": {
      "image/png": "[encoded data removed]",
      "text/plain": [
       "<Figure size 300x200 with 1 Axes>"
      ]
     },
     "metadata": {
      "needs_background": "light"
     },
     "output_type": "display_data"
    }
   ],
   "source": [
    "# scatter plot\n",
    "plt.plot(o['f1bt'],o['f1b'],'o',markersize=3);\n",
    "plt.xlabel('CopyLast (n-1)-th',fontsize=15);plt.ylabel('CopyLast n-th',fontsize=15)\n",
    "plt.axline((0, 0), (1, 1),color='r', linestyle='--');"
   ]
  },
  {
   "cell_type": "code",
   "execution_count": 33,
   "id": "intermediate-neighborhood",
   "metadata": {},
   "outputs": [
    {
     "name": "stdout",
     "output_type": "stream",
     "text": [
      "x0= 0.01 ,sigma= 0.3\n"
     ]
    },
    {
     "data": {
      "image/png": "[encoded data removed]",
      "text/plain": [
       "<Figure size 300x200 with 1 Axes>"
      ]
     },
     "metadata": {
      "needs_background": "light"
     },
     "output_type": "display_data"
    }
   ],
   "source": [
    "# histogram of difference\n",
    "dbt = o['f1b'] - o['f1bt'] \n",
    "plt.hist(dbt,bins=50)\n",
    "plt.xlabel('Baseline n-th - Baseline (n-1)-th',fontsize=15)\n",
    "\n",
    "from scipy.stats import norm\n",
    "mu, sigma = norm.fit(dbt)\n",
    "print('x0=',round(mu,2),',sigma=',round(sigma,2));"
   ]
  },
  {
   "cell_type": "markdown",
   "id": "armed-rally",
   "metadata": {},
   "source": [
    "__5. (GRU - Baseline) prediction vs (GRU - Baseline) test__"
   ]
  },
  {
   "cell_type": "markdown",
   "id": "ancient-george",
   "metadata": {},
   "source": [
    "Can we decide which prediction is better, GRU or Baseline, looking at the GRU and Baseline from the previous step (test, n-1 prediction)?"
   ]
  },
  {
   "cell_type": "code",
   "execution_count": 34,
   "id": "dress-narrative",
   "metadata": {},
   "outputs": [],
   "source": [
    "gb = o['f1g'] - o['f1b']"
   ]
  },
  {
   "cell_type": "code",
   "execution_count": 35,
   "id": "operational-luxembourg",
   "metadata": {},
   "outputs": [
    {
     "data": {
      "image/png": "[encoded data removed]",
      "text/plain": [
       "<Figure size 300x200 with 1 Axes>"
      ]
     },
     "metadata": {
      "needs_background": "light"
     },
     "output_type": "display_data"
    }
   ],
   "source": [
    "# vs CopyLast n-1\n",
    "plt.plot(o['f1bt'],gb,'o',markersize=3);\n",
    "plt.xlabel('CopyLast (n-1)-th, Test',fontsize=15);plt.ylabel('GRU-CopyLast n-th, Prediction',fontsize=15)\n",
    "plt.axline((0, -1), (0, 1),color='r', linestyle='--')\n",
    "plt.axline((-1, 0), (1, 0),color='r', linestyle='--');"
   ]
  },
  {
   "cell_type": "markdown",
   "id": "right-clearing",
   "metadata": {},
   "source": [
    "Nope, CopyLast at n-1 not helpful."
   ]
  },
  {
   "cell_type": "code",
   "execution_count": 36,
   "id": "crude-color",
   "metadata": {},
   "outputs": [
    {
     "data": {
      "image/png": "[encoded data removed]",
      "text/plain": [
       "<Figure size 300x200 with 1 Axes>"
      ]
     },
     "metadata": {
      "needs_background": "light"
     },
     "output_type": "display_data"
    }
   ],
   "source": [
    "# vs GRU n-1\n",
    "plt.plot(o['f1gt'],gb,'o',markersize=3);\n",
    "plt.xlabel('GRU (n-1)-th, Test',fontsize=15);plt.ylabel('GRU-CopyLast n-th, Prediction',fontsize=15)\n",
    "plt.axline((0, -1), (0, 1),color='r', linestyle='--')\n",
    "plt.axline((-1, 0), (1, 0),color='r', linestyle='--');"
   ]
  },
  {
   "cell_type": "markdown",
   "id": "incorporated-silly",
   "metadata": {},
   "source": [
    "If GRU n-1 not existing (hard coded -0.1) then GRU n doesn't exist either. We would use the Baseline anyway. Other than that, no clear correlation... sadly."
   ]
  },
  {
   "cell_type": "code",
   "execution_count": 37,
   "id": "overhead-berkeley",
   "metadata": {},
   "outputs": [
    {
     "data": {
      "image/png": "[encoded data removed]",
      "text/plain": [
       "<Figure size 300x200 with 1 Axes>"
      ]
     },
     "metadata": {
      "needs_background": "light"
     },
     "output_type": "display_data"
    }
   ],
   "source": [
    "gbt = o['f1gt'] - o['f1bt']\n",
    "\n",
    "# scatter plot\n",
    "plt.plot(gbt,gb,'o',markersize=3);\n",
    "plt.xlabel('GRU-CopyLast (n-1)-th, Test',fontsize=15);plt.ylabel('GRU-CopyLast n-th, Prediction',fontsize=15)\n",
    "plt.axline((0, -1), (0, 1),color='r', linestyle='--')\n",
    "plt.axline((-1, 0), (1, 0),color='r', linestyle='--');"
   ]
  },
  {
   "cell_type": "markdown",
   "id": "primary-motivation",
   "metadata": {},
   "source": [
    "Same here, difference n-th vs difference (n-1)-th doesn't show any insight. This fact again tells us the randomness in the data."
   ]
  },
  {
   "cell_type": "code",
   "execution_count": null,
   "id": "saving-robertson",
   "metadata": {},
   "outputs": [],
   "source": []
  },
  {
   "cell_type": "markdown",
   "id": "otherwise-brazilian",
   "metadata": {},
   "source": [
    "__6. (GRU - Baseline) prediction vs other features__"
   ]
  },
  {
   "cell_type": "code",
   "execution_count": 38,
   "id": "cheap-consideration",
   "metadata": {},
   "outputs": [
    {
     "data": {
      "image/png": "[encoded data removed]",
      "text/plain": [
       "<Figure size 750x250 with 2 Axes>"
      ]
     },
     "metadata": {
      "needs_background": "light"
     },
     "output_type": "display_data"
    }
   ],
   "source": [
    "fig, ax = plt.subplots(1,2,figsize=(15,5))\n",
    "\n",
    "ax[0].plot(o['nord'],gb,'o',markersize=3)\n",
    "sns.regplot(x=o['nord'], y=gb, x_bins=100,fit_reg=None,ax=ax[1]);"
   ]
  },
  {
   "cell_type": "code",
   "execution_count": 39,
   "id": "composite-invalid",
   "metadata": {},
   "outputs": [
    {
     "data": {
      "image/png": "[encoded data removed]",
      "text/plain": [
       "<Figure size 750x250 with 2 Axes>"
      ]
     },
     "metadata": {
      "needs_background": "light"
     },
     "output_type": "display_data"
    }
   ],
   "source": [
    "fig, ax = plt.subplots(1,2,figsize=(15,5))\n",
    "\n",
    "ax[0].plot(o['npro'],gb,'o',markersize=3)\n",
    "sns.regplot(x=o['npro'], y=gb, x_bins=100,fit_reg=None,ax=ax[1]);"
   ]
  },
  {
   "cell_type": "markdown",
   "id": "signed-classification",
   "metadata": {},
   "source": [
    "On average, GRU better than Baseline for low number of orders (<15) and about 20 products. Why? Is it again due to randomness? Should we use only last 15 orders for modeling?"
   ]
  },
  {
   "cell_type": "markdown",
   "id": "private-operator",
   "metadata": {},
   "source": [
    "Any correlation between GRU - CopyLast n-th and other features in the original dataset?"
   ]
  },
  {
   "cell_type": "code",
   "execution_count": 40,
   "id": "prostate-secret",
   "metadata": {},
   "outputs": [
    {
     "data": {
      "image/png": "[encoded data removed]",
      "text/plain": [
       "<Figure size 750x250 with 2 Axes>"
      ]
     },
     "metadata": {
      "needs_background": "light"
     },
     "output_type": "display_data"
    }
   ],
   "source": [
    "fig, ax = plt.subplots(1,2,figsize=(15,5))\n",
    "\n",
    "ax[0].plot(o['days_since_prior_order'],gb,'o',markersize=3)\n",
    "sns.regplot(x=o['days_since_prior_order'], y=gb, x_bins=100,fit_reg=None,ax=ax[1]);"
   ]
  },
  {
   "cell_type": "code",
   "execution_count": 41,
   "id": "boxed-coordination",
   "metadata": {},
   "outputs": [
    {
     "data": {
      "image/png": "[encoded data removed]",
      "text/plain": [
       "<Figure size 750x250 with 2 Axes>"
      ]
     },
     "metadata": {
      "needs_background": "light"
     },
     "output_type": "display_data"
    }
   ],
   "source": [
    "fig, ax = plt.subplots(1,2,figsize=(15,5))\n",
    "\n",
    "ax[0].plot(o['order_hour_of_day'],gb,'o',markersize=3);\n",
    "sns.regplot(x=o['order_hour_of_day'], y=gb, x_bins=100,fit_reg=None,ax=ax[1]);"
   ]
  },
  {
   "cell_type": "code",
   "execution_count": 42,
   "id": "upset-following",
   "metadata": {},
   "outputs": [
    {
     "data": {
      "image/png": "[encoded data removed]",
      "text/plain": [
       "<Figure size 750x250 with 2 Axes>"
      ]
     },
     "metadata": {
      "needs_background": "light"
     },
     "output_type": "display_data"
    }
   ],
   "source": [
    "fig, ax = plt.subplots(1,2,figsize=(15,5))\n",
    "\n",
    "ax[0].plot(o['order_dow'],gb,'o',markersize=3);\n",
    "sns.regplot(x=o['order_dow'], y=gb, x_bins=100,fit_reg=None,ax=ax[1]);"
   ]
  },
  {
   "cell_type": "markdown",
   "id": "dense-brazil",
   "metadata": {},
   "source": [
    "Nope."
   ]
  }
 ],
 "metadata": {
  "kernelspec": {
   "display_name": "Python 3",
   "language": "python",
   "name": "python3"
  },
  "language_info": {
   "codemirror_mode": {
    "name": "ipython",
    "version": 3
   },
   "file_extension": ".py",
   "mimetype": "text/x-python",
   "name": "python",
   "nbconvert_exporter": "python",
   "pygments_lexer": "ipython3",
   "version": "3.8.6"
  }
 },
 "nbformat": 4,
 "nbformat_minor": 5
}
