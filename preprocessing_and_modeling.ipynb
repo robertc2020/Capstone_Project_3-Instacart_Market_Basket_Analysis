{
 "cells": [
  {
   "cell_type": "markdown",
   "id": "magnetic-relationship",
   "metadata": {},
   "source": [
    "# Pre-processing and Modeling\n",
    "\n",
    "* [1. Pre-processing](#1)\n",
    "    * [1.1 The goal](#1.1)\n",
    "    * [1.2 Input files](#1.2)\n",
    "    * [1.3 Select subsample of users](#1.3)\n",
    "    * [1.4 One-hot encode products](#1.4)\n",
    "    * [1.5 Prepare X array](#1.5)\n",
    "    * [1.6 Prepare y array](#1.6)\n",
    "* [2. Modeling](#2)\n",
    "    * [2.1 Mean-F1-score metrics function](#2.1)\n",
    "    * [2.2 Baseline model](#2.2)\n",
    "    * [2.3 A simple GRU](#2.3)\n",
    "    * [2.4 A simple LSTM](#2.4)\n",
    "    * [2.5 bidirectional GRU](#2.5)\n",
    "    * [2.6 Bidirectional LSTM](#2.6)\n",
    "    * [2.7 Stacked LSTM](#2.7)\n",
    "    * [2.8 Summary](#2.8)"
   ]
  },
  {
   "cell_type": "code",
   "execution_count": 1,
   "id": "painful-agreement",
   "metadata": {},
   "outputs": [],
   "source": [
    "import pandas as pd\n",
    "import numpy as np\n",
    "import matplotlib as mpl # colors\n",
    "import matplotlib.pyplot as plt\n",
    "import matplotlib.ticker as ticker\n",
    "import seaborn as sns\n",
    "from datetime import datetime as dt\n",
    "import pickle\n",
    "import sys\n",
    "\n",
    "plt.rcParams['axes.grid'] = True\n",
    "plt.rcParams['axes.axisbelow'] = True\n",
    "plt.rcParams['axes.xmargin'] = 0.02\n",
    "plt.rcParams['axes.ymargin'] = 0.1\n",
    "plt.rcParams['xtick.minor.visible'] = True\n",
    "plt.rcParams['ytick.minor.visible'] = True\n",
    "\n",
    "plt.rcParams['figure.dpi'] = 100\n",
    "plt.rcParams['savefig.bbox'] = 'tight'"
   ]
  },
  {
   "cell_type": "code",
   "execution_count": 2,
   "id": "occupational-german",
   "metadata": {},
   "outputs": [],
   "source": [
    "n_customers = 50_000 # how many customers (130k total)\n",
    "n_products = 1000    # how many products allowed per order # 1000 was too much for memory, had to use dask\n",
    "last_n_orders = 20   # how many last orders to consider "
   ]
  },
  {
   "cell_type": "markdown",
   "id": "endangered-plenty",
   "metadata": {},
   "source": [
    "We are trying to predict the customer's next basket content using reccurent neural network based on the Gated Recurrent Unit (GRU) and Long Short-Term Memory (LSTM) models. In the first part of this notebook we prepare the data, the second part covers the modeling."
   ]
  },
  {
   "cell_type": "markdown",
   "id": "blind-divide",
   "metadata": {},
   "source": [
    "## 1. Pre-processing <a id='1'></a>"
   ]
  },
  {
   "cell_type": "markdown",
   "id": "periodic-bowling",
   "metadata": {},
   "source": [
    "### 1.1 The goal <a id='1.1'></a>"
   ]
  },
  {
   "cell_type": "markdown",
   "id": "large-diversity",
   "metadata": {},
   "source": [
    "model(X) = y\n",
    "\n",
    "The input X to the LSTM model is a 3-D array (experiments, time_dependence, features), while the output y is a 2-D array (experiments,features). The time_depedence and features vectors need to be of the same size for each entry from experiments. \n",
    "\n",
    "In our case, the desired input and output data should be of the format X=(clients,orders,products_OHE) and y=(clients,products_OHE_sigmax), respectively. Here, products_OHE stands for one-hot-encoded product list. One-hot encouding will allow us to define the modeling as a classification problem. The limitation is that we cannot one-hot-encode 75k available products, as it is beyond a memory of our computer. To check the performance of the RNNs we will use here only 1k products that are the most popular products accounting for 60% of the puchases.\n",
    "\n",
    "\n",
    "The number of orders per customer may vary from 4 to 99. To assume a fixed size of the input tensor we will use only the last 20 customer's orders. IF the number of previous orders is smaller than 20, we will fill the remaining part of the orders dimension with zeros. We checked that number 20 is suffient to include all the products from customer's history into modeling."
   ]
  },
  {
   "cell_type": "markdown",
   "id": "nearby-package",
   "metadata": {},
   "source": [
    "### 1.2 Input files <a id='1.2'></a>"
   ]
  },
  {
   "cell_type": "markdown",
   "id": "bright-scout",
   "metadata": {},
   "source": [
    "Let's read in the files, set up some memory control and select from the file orders only those orders that correspond to train sample (prior and next orders)."
   ]
  },
  {
   "cell_type": "code",
   "execution_count": 3,
   "id": "greatest-review",
   "metadata": {},
   "outputs": [
    {
     "name": "stdout",
     "output_type": "stream",
     "text": [
      "(3421083, 4)\n",
      "(32434489, 4)\n",
      "(1384617, 4)\n"
     ]
    }
   ],
   "source": [
    "orders         = pd.read_csv(\"./data/orders.csv\",usecols=['order_id','user_id','eval_set','order_number'])\n",
    "products_prior = pd.read_csv(\"./data/order_products__prior.csv\")\n",
    "products_train = pd.read_csv(\"./data/order_products__train.csv\")\n",
    "#products_sub   = pd.read_csv(\"./data/sample_submission.csv\")\n",
    "\n",
    "print(orders.shape)\n",
    "print(products_prior.shape) \n",
    "print(products_train.shape) \n",
    "#print(products_sub.shape)"
   ]
  },
  {
   "cell_type": "code",
   "execution_count": 4,
   "id": "detailed-rescue",
   "metadata": {},
   "outputs": [],
   "source": [
    "def size(x,n=2):\n",
    "    return '{} G'.format(round(sys.getsizeof(x)/1_000_000_000.,n))"
   ]
  },
  {
   "cell_type": "code",
   "execution_count": 5,
   "id": "chicken-johnson",
   "metadata": {},
   "outputs": [
    {
     "name": "stdout",
     "output_type": "stream",
     "text": [
      "0.29 G\n",
      "1.04 G\n",
      "0.04 G\n"
     ]
    }
   ],
   "source": [
    "print(size(orders))\n",
    "print(size(products_prior))\n",
    "print(size(products_train))"
   ]
  },
  {
   "cell_type": "code",
   "execution_count": 6,
   "id": "thick-drawing",
   "metadata": {},
   "outputs": [
    {
     "data": {
      "text/plain": [
       "0.29"
      ]
     },
     "execution_count": 6,
     "metadata": {},
     "output_type": "execute_result"
    }
   ],
   "source": [
    "round(orders.memory_usage(deep=True).sum()/1_000_000_000.,2)"
   ]
  },
  {
   "cell_type": "code",
   "execution_count": null,
   "id": "sufficient-blank",
   "metadata": {},
   "outputs": [],
   "source": []
  },
  {
   "cell_type": "code",
   "execution_count": 7,
   "id": "compliant-reputation",
   "metadata": {},
   "outputs": [
    {
     "data": {
      "text/html": [
       "<div>\n",
       "<style scoped>\n",
       "    .dataframe tbody tr th:only-of-type {\n",
       "        vertical-align: middle;\n",
       "    }\n",
       "\n",
       "    .dataframe tbody tr th {\n",
       "        vertical-align: top;\n",
       "    }\n",
       "\n",
       "    .dataframe thead th {\n",
       "        text-align: right;\n",
       "    }\n",
       "</style>\n",
       "<table border=\"1\" class=\"dataframe\">\n",
       "  <thead>\n",
       "    <tr style=\"text-align: right;\">\n",
       "      <th></th>\n",
       "      <th>order_id</th>\n",
       "      <th>user_id</th>\n",
       "      <th>eval_set</th>\n",
       "      <th>order_number</th>\n",
       "    </tr>\n",
       "  </thead>\n",
       "  <tbody>\n",
       "    <tr>\n",
       "      <th>0</th>\n",
       "      <td>2539329</td>\n",
       "      <td>1</td>\n",
       "      <td>prior</td>\n",
       "      <td>1</td>\n",
       "    </tr>\n",
       "    <tr>\n",
       "      <th>1</th>\n",
       "      <td>2398795</td>\n",
       "      <td>1</td>\n",
       "      <td>prior</td>\n",
       "      <td>2</td>\n",
       "    </tr>\n",
       "    <tr>\n",
       "      <th>2</th>\n",
       "      <td>473747</td>\n",
       "      <td>1</td>\n",
       "      <td>prior</td>\n",
       "      <td>3</td>\n",
       "    </tr>\n",
       "    <tr>\n",
       "      <th>3</th>\n",
       "      <td>2254736</td>\n",
       "      <td>1</td>\n",
       "      <td>prior</td>\n",
       "      <td>4</td>\n",
       "    </tr>\n",
       "    <tr>\n",
       "      <th>4</th>\n",
       "      <td>431534</td>\n",
       "      <td>1</td>\n",
       "      <td>prior</td>\n",
       "      <td>5</td>\n",
       "    </tr>\n",
       "    <tr>\n",
       "      <th>5</th>\n",
       "      <td>3367565</td>\n",
       "      <td>1</td>\n",
       "      <td>prior</td>\n",
       "      <td>6</td>\n",
       "    </tr>\n",
       "    <tr>\n",
       "      <th>6</th>\n",
       "      <td>550135</td>\n",
       "      <td>1</td>\n",
       "      <td>prior</td>\n",
       "      <td>7</td>\n",
       "    </tr>\n",
       "    <tr>\n",
       "      <th>7</th>\n",
       "      <td>3108588</td>\n",
       "      <td>1</td>\n",
       "      <td>prior</td>\n",
       "      <td>8</td>\n",
       "    </tr>\n",
       "    <tr>\n",
       "      <th>8</th>\n",
       "      <td>2295261</td>\n",
       "      <td>1</td>\n",
       "      <td>prior</td>\n",
       "      <td>9</td>\n",
       "    </tr>\n",
       "    <tr>\n",
       "      <th>9</th>\n",
       "      <td>2550362</td>\n",
       "      <td>1</td>\n",
       "      <td>prior</td>\n",
       "      <td>10</td>\n",
       "    </tr>\n",
       "    <tr>\n",
       "      <th>10</th>\n",
       "      <td>1187899</td>\n",
       "      <td>1</td>\n",
       "      <td>train</td>\n",
       "      <td>11</td>\n",
       "    </tr>\n",
       "    <tr>\n",
       "      <th>11</th>\n",
       "      <td>2168274</td>\n",
       "      <td>2</td>\n",
       "      <td>prior</td>\n",
       "      <td>1</td>\n",
       "    </tr>\n",
       "    <tr>\n",
       "      <th>12</th>\n",
       "      <td>1501582</td>\n",
       "      <td>2</td>\n",
       "      <td>prior</td>\n",
       "      <td>2</td>\n",
       "    </tr>\n",
       "    <tr>\n",
       "      <th>13</th>\n",
       "      <td>1901567</td>\n",
       "      <td>2</td>\n",
       "      <td>prior</td>\n",
       "      <td>3</td>\n",
       "    </tr>\n",
       "    <tr>\n",
       "      <th>14</th>\n",
       "      <td>738281</td>\n",
       "      <td>2</td>\n",
       "      <td>prior</td>\n",
       "      <td>4</td>\n",
       "    </tr>\n",
       "  </tbody>\n",
       "</table>\n",
       "</div>"
      ],
      "text/plain": [
       "    order_id  user_id eval_set  order_number\n",
       "0    2539329        1    prior             1\n",
       "1    2398795        1    prior             2\n",
       "2     473747        1    prior             3\n",
       "3    2254736        1    prior             4\n",
       "4     431534        1    prior             5\n",
       "5    3367565        1    prior             6\n",
       "6     550135        1    prior             7\n",
       "7    3108588        1    prior             8\n",
       "8    2295261        1    prior             9\n",
       "9    2550362        1    prior            10\n",
       "10   1187899        1    train            11\n",
       "11   2168274        2    prior             1\n",
       "12   1501582        2    prior             2\n",
       "13   1901567        2    prior             3\n",
       "14    738281        2    prior             4"
      ]
     },
     "execution_count": 7,
     "metadata": {},
     "output_type": "execute_result"
    }
   ],
   "source": [
    "orders.head(15)"
   ]
  },
  {
   "cell_type": "code",
   "execution_count": 8,
   "id": "strong-pound",
   "metadata": {},
   "outputs": [
    {
     "data": {
      "text/html": [
       "<div>\n",
       "<style scoped>\n",
       "    .dataframe tbody tr th:only-of-type {\n",
       "        vertical-align: middle;\n",
       "    }\n",
       "\n",
       "    .dataframe tbody tr th {\n",
       "        vertical-align: top;\n",
       "    }\n",
       "\n",
       "    .dataframe thead th {\n",
       "        text-align: right;\n",
       "    }\n",
       "</style>\n",
       "<table border=\"1\" class=\"dataframe\">\n",
       "  <thead>\n",
       "    <tr style=\"text-align: right;\">\n",
       "      <th></th>\n",
       "      <th>order_id</th>\n",
       "      <th>product_id</th>\n",
       "      <th>add_to_cart_order</th>\n",
       "      <th>reordered</th>\n",
       "    </tr>\n",
       "  </thead>\n",
       "  <tbody>\n",
       "    <tr>\n",
       "      <th>0</th>\n",
       "      <td>2</td>\n",
       "      <td>33120</td>\n",
       "      <td>1</td>\n",
       "      <td>1</td>\n",
       "    </tr>\n",
       "    <tr>\n",
       "      <th>1</th>\n",
       "      <td>2</td>\n",
       "      <td>28985</td>\n",
       "      <td>2</td>\n",
       "      <td>1</td>\n",
       "    </tr>\n",
       "    <tr>\n",
       "      <th>2</th>\n",
       "      <td>2</td>\n",
       "      <td>9327</td>\n",
       "      <td>3</td>\n",
       "      <td>0</td>\n",
       "    </tr>\n",
       "    <tr>\n",
       "      <th>3</th>\n",
       "      <td>2</td>\n",
       "      <td>45918</td>\n",
       "      <td>4</td>\n",
       "      <td>1</td>\n",
       "    </tr>\n",
       "    <tr>\n",
       "      <th>4</th>\n",
       "      <td>2</td>\n",
       "      <td>30035</td>\n",
       "      <td>5</td>\n",
       "      <td>0</td>\n",
       "    </tr>\n",
       "  </tbody>\n",
       "</table>\n",
       "</div>"
      ],
      "text/plain": [
       "   order_id  product_id  add_to_cart_order  reordered\n",
       "0         2       33120                  1          1\n",
       "1         2       28985                  2          1\n",
       "2         2        9327                  3          0\n",
       "3         2       45918                  4          1\n",
       "4         2       30035                  5          0"
      ]
     },
     "execution_count": 8,
     "metadata": {},
     "output_type": "execute_result"
    }
   ],
   "source": [
    "products_prior.head()"
   ]
  },
  {
   "cell_type": "code",
   "execution_count": 9,
   "id": "broad-gauge",
   "metadata": {},
   "outputs": [
    {
     "data": {
      "text/html": [
       "<div>\n",
       "<style scoped>\n",
       "    .dataframe tbody tr th:only-of-type {\n",
       "        vertical-align: middle;\n",
       "    }\n",
       "\n",
       "    .dataframe tbody tr th {\n",
       "        vertical-align: top;\n",
       "    }\n",
       "\n",
       "    .dataframe thead th {\n",
       "        text-align: right;\n",
       "    }\n",
       "</style>\n",
       "<table border=\"1\" class=\"dataframe\">\n",
       "  <thead>\n",
       "    <tr style=\"text-align: right;\">\n",
       "      <th></th>\n",
       "      <th>order_id</th>\n",
       "      <th>product_id</th>\n",
       "      <th>add_to_cart_order</th>\n",
       "      <th>reordered</th>\n",
       "    </tr>\n",
       "  </thead>\n",
       "  <tbody>\n",
       "    <tr>\n",
       "      <th>0</th>\n",
       "      <td>1</td>\n",
       "      <td>49302</td>\n",
       "      <td>1</td>\n",
       "      <td>1</td>\n",
       "    </tr>\n",
       "    <tr>\n",
       "      <th>1</th>\n",
       "      <td>1</td>\n",
       "      <td>11109</td>\n",
       "      <td>2</td>\n",
       "      <td>1</td>\n",
       "    </tr>\n",
       "    <tr>\n",
       "      <th>2</th>\n",
       "      <td>1</td>\n",
       "      <td>10246</td>\n",
       "      <td>3</td>\n",
       "      <td>0</td>\n",
       "    </tr>\n",
       "    <tr>\n",
       "      <th>3</th>\n",
       "      <td>1</td>\n",
       "      <td>49683</td>\n",
       "      <td>4</td>\n",
       "      <td>0</td>\n",
       "    </tr>\n",
       "    <tr>\n",
       "      <th>4</th>\n",
       "      <td>1</td>\n",
       "      <td>43633</td>\n",
       "      <td>5</td>\n",
       "      <td>1</td>\n",
       "    </tr>\n",
       "  </tbody>\n",
       "</table>\n",
       "</div>"
      ],
      "text/plain": [
       "   order_id  product_id  add_to_cart_order  reordered\n",
       "0         1       49302                  1          1\n",
       "1         1       11109                  2          1\n",
       "2         1       10246                  3          0\n",
       "3         1       49683                  4          0\n",
       "4         1       43633                  5          1"
      ]
     },
     "execution_count": 9,
     "metadata": {},
     "output_type": "execute_result"
    }
   ],
   "source": [
    "products_train.head()"
   ]
  },
  {
   "cell_type": "code",
   "execution_count": 10,
   "id": "accessory-diagram",
   "metadata": {},
   "outputs": [
    {
     "data": {
      "text/plain": [
       "((32434489, 4), (1384617, 4))"
      ]
     },
     "execution_count": 10,
     "metadata": {},
     "output_type": "execute_result"
    }
   ],
   "source": [
    "products_prior.shape, products_train.shape"
   ]
  },
  {
   "cell_type": "markdown",
   "id": "preceding-number",
   "metadata": {},
   "source": [
    "### 1.3 Select subsample of users <a id='1.3'></a>"
   ]
  },
  {
   "cell_type": "markdown",
   "id": "activated-hydrogen",
   "metadata": {},
   "source": [
    "Let's separate the \"orders\" dataframe into customers whose data are used for training and for testing/prediction and select only those for training:"
   ]
  },
  {
   "cell_type": "code",
   "execution_count": 11,
   "id": "verbal-cabin",
   "metadata": {},
   "outputs": [
    {
     "data": {
      "text/plain": [
       "user_id\n",
       "1         [prior, train]\n",
       "2         [prior, train]\n",
       "3          [prior, test]\n",
       "4          [prior, test]\n",
       "5         [prior, train]\n",
       "               ...      \n",
       "206205    [prior, train]\n",
       "206206     [prior, test]\n",
       "206207     [prior, test]\n",
       "206208     [prior, test]\n",
       "206209    [prior, train]\n",
       "Name: eval_set, Length: 206209, dtype: object"
      ]
     },
     "execution_count": 11,
     "metadata": {},
     "output_type": "execute_result"
    }
   ],
   "source": [
    "uid = orders.groupby('user_id')['eval_set'].unique()\n",
    "uid"
   ]
  },
  {
   "cell_type": "code",
   "execution_count": 12,
   "id": "grave-seafood",
   "metadata": {},
   "outputs": [
    {
     "data": {
      "text/plain": [
       "user_id\n",
       "1          True\n",
       "2          True\n",
       "3         False\n",
       "4         False\n",
       "5          True\n",
       "          ...  \n",
       "206205     True\n",
       "206206    False\n",
       "206207    False\n",
       "206208    False\n",
       "206209     True\n",
       "Name: eval_set, Length: 206209, dtype: bool"
      ]
     },
     "execution_count": 12,
     "metadata": {},
     "output_type": "execute_result"
    }
   ],
   "source": [
    "uid.astype('str').str.contains('train')"
   ]
  },
  {
   "cell_type": "code",
   "execution_count": 13,
   "id": "embedded-arabic",
   "metadata": {},
   "outputs": [
    {
     "data": {
      "text/html": [
       "<div>\n",
       "<style scoped>\n",
       "    .dataframe tbody tr th:only-of-type {\n",
       "        vertical-align: middle;\n",
       "    }\n",
       "\n",
       "    .dataframe tbody tr th {\n",
       "        vertical-align: top;\n",
       "    }\n",
       "\n",
       "    .dataframe thead th {\n",
       "        text-align: right;\n",
       "    }\n",
       "</style>\n",
       "<table border=\"1\" class=\"dataframe\">\n",
       "  <thead>\n",
       "    <tr style=\"text-align: right;\">\n",
       "      <th></th>\n",
       "      <th>user_id</th>\n",
       "    </tr>\n",
       "  </thead>\n",
       "  <tbody>\n",
       "    <tr>\n",
       "      <th>0</th>\n",
       "      <td>1</td>\n",
       "    </tr>\n",
       "    <tr>\n",
       "      <th>1</th>\n",
       "      <td>2</td>\n",
       "    </tr>\n",
       "    <tr>\n",
       "      <th>2</th>\n",
       "      <td>5</td>\n",
       "    </tr>\n",
       "    <tr>\n",
       "      <th>3</th>\n",
       "      <td>7</td>\n",
       "    </tr>\n",
       "    <tr>\n",
       "      <th>4</th>\n",
       "      <td>8</td>\n",
       "    </tr>\n",
       "    <tr>\n",
       "      <th>...</th>\n",
       "      <td>...</td>\n",
       "    </tr>\n",
       "    <tr>\n",
       "      <th>131204</th>\n",
       "      <td>206199</td>\n",
       "    </tr>\n",
       "    <tr>\n",
       "      <th>131205</th>\n",
       "      <td>206200</td>\n",
       "    </tr>\n",
       "    <tr>\n",
       "      <th>131206</th>\n",
       "      <td>206203</td>\n",
       "    </tr>\n",
       "    <tr>\n",
       "      <th>131207</th>\n",
       "      <td>206205</td>\n",
       "    </tr>\n",
       "    <tr>\n",
       "      <th>131208</th>\n",
       "      <td>206209</td>\n",
       "    </tr>\n",
       "  </tbody>\n",
       "</table>\n",
       "<p>131209 rows × 1 columns</p>\n",
       "</div>"
      ],
      "text/plain": [
       "        user_id\n",
       "0             1\n",
       "1             2\n",
       "2             5\n",
       "3             7\n",
       "4             8\n",
       "...         ...\n",
       "131204   206199\n",
       "131205   206200\n",
       "131206   206203\n",
       "131207   206205\n",
       "131208   206209\n",
       "\n",
       "[131209 rows x 1 columns]"
      ]
     },
     "execution_count": 13,
     "metadata": {},
     "output_type": "execute_result"
    }
   ],
   "source": [
    "uid_train = uid[uid.astype('str').str.contains('train')].reset_index()\n",
    "uid_train = uid_train.drop('eval_set',axis=1)\n",
    "uid_train"
   ]
  },
  {
   "cell_type": "code",
   "execution_count": 14,
   "id": "suitable-tooth",
   "metadata": {},
   "outputs": [
    {
     "data": {
      "text/plain": [
       "'0.001 G'"
      ]
     },
     "execution_count": 14,
     "metadata": {},
     "output_type": "execute_result"
    }
   ],
   "source": [
    "size(uid_train,3)"
   ]
  },
  {
   "cell_type": "markdown",
   "id": "correct-stevens",
   "metadata": {},
   "source": [
    "__We have 130k customers, let's choose only n_customers = 50k of them:__"
   ]
  },
  {
   "cell_type": "code",
   "execution_count": 15,
   "id": "south-picnic",
   "metadata": {},
   "outputs": [
    {
     "data": {
      "text/plain": [
       "(50000, 1)"
      ]
     },
     "execution_count": 15,
     "metadata": {},
     "output_type": "execute_result"
    }
   ],
   "source": [
    "uid_train_reduced = uid_train.head(n_customers)\n",
    "uid_train_reduced.shape"
   ]
  },
  {
   "cell_type": "markdown",
   "id": "fantastic-bowling",
   "metadata": {},
   "source": [
    "Now, let's merge it back with orders. The result will contain only prior and future order in training sample. We got rid of test subsample (both prior and next orders)."
   ]
  },
  {
   "cell_type": "code",
   "execution_count": 16,
   "id": "afraid-thunder",
   "metadata": {},
   "outputs": [
    {
     "data": {
      "text/html": [
       "<div>\n",
       "<style scoped>\n",
       "    .dataframe tbody tr th:only-of-type {\n",
       "        vertical-align: middle;\n",
       "    }\n",
       "\n",
       "    .dataframe tbody tr th {\n",
       "        vertical-align: top;\n",
       "    }\n",
       "\n",
       "    .dataframe thead th {\n",
       "        text-align: right;\n",
       "    }\n",
       "</style>\n",
       "<table border=\"1\" class=\"dataframe\">\n",
       "  <thead>\n",
       "    <tr style=\"text-align: right;\">\n",
       "      <th></th>\n",
       "      <th>user_id</th>\n",
       "      <th>order_id</th>\n",
       "      <th>eval_set</th>\n",
       "      <th>order_number</th>\n",
       "    </tr>\n",
       "  </thead>\n",
       "  <tbody>\n",
       "    <tr>\n",
       "      <th>0</th>\n",
       "      <td>1</td>\n",
       "      <td>2539329</td>\n",
       "      <td>prior</td>\n",
       "      <td>1</td>\n",
       "    </tr>\n",
       "    <tr>\n",
       "      <th>1</th>\n",
       "      <td>1</td>\n",
       "      <td>2398795</td>\n",
       "      <td>prior</td>\n",
       "      <td>2</td>\n",
       "    </tr>\n",
       "    <tr>\n",
       "      <th>2</th>\n",
       "      <td>1</td>\n",
       "      <td>473747</td>\n",
       "      <td>prior</td>\n",
       "      <td>3</td>\n",
       "    </tr>\n",
       "    <tr>\n",
       "      <th>3</th>\n",
       "      <td>1</td>\n",
       "      <td>2254736</td>\n",
       "      <td>prior</td>\n",
       "      <td>4</td>\n",
       "    </tr>\n",
       "    <tr>\n",
       "      <th>4</th>\n",
       "      <td>1</td>\n",
       "      <td>431534</td>\n",
       "      <td>prior</td>\n",
       "      <td>5</td>\n",
       "    </tr>\n",
       "    <tr>\n",
       "      <th>5</th>\n",
       "      <td>1</td>\n",
       "      <td>3367565</td>\n",
       "      <td>prior</td>\n",
       "      <td>6</td>\n",
       "    </tr>\n",
       "    <tr>\n",
       "      <th>6</th>\n",
       "      <td>1</td>\n",
       "      <td>550135</td>\n",
       "      <td>prior</td>\n",
       "      <td>7</td>\n",
       "    </tr>\n",
       "    <tr>\n",
       "      <th>7</th>\n",
       "      <td>1</td>\n",
       "      <td>3108588</td>\n",
       "      <td>prior</td>\n",
       "      <td>8</td>\n",
       "    </tr>\n",
       "    <tr>\n",
       "      <th>8</th>\n",
       "      <td>1</td>\n",
       "      <td>2295261</td>\n",
       "      <td>prior</td>\n",
       "      <td>9</td>\n",
       "    </tr>\n",
       "    <tr>\n",
       "      <th>9</th>\n",
       "      <td>1</td>\n",
       "      <td>2550362</td>\n",
       "      <td>prior</td>\n",
       "      <td>10</td>\n",
       "    </tr>\n",
       "    <tr>\n",
       "      <th>10</th>\n",
       "      <td>1</td>\n",
       "      <td>1187899</td>\n",
       "      <td>train</td>\n",
       "      <td>11</td>\n",
       "    </tr>\n",
       "    <tr>\n",
       "      <th>11</th>\n",
       "      <td>2</td>\n",
       "      <td>2168274</td>\n",
       "      <td>prior</td>\n",
       "      <td>1</td>\n",
       "    </tr>\n",
       "    <tr>\n",
       "      <th>12</th>\n",
       "      <td>2</td>\n",
       "      <td>1501582</td>\n",
       "      <td>prior</td>\n",
       "      <td>2</td>\n",
       "    </tr>\n",
       "    <tr>\n",
       "      <th>13</th>\n",
       "      <td>2</td>\n",
       "      <td>1901567</td>\n",
       "      <td>prior</td>\n",
       "      <td>3</td>\n",
       "    </tr>\n",
       "    <tr>\n",
       "      <th>14</th>\n",
       "      <td>2</td>\n",
       "      <td>738281</td>\n",
       "      <td>prior</td>\n",
       "      <td>4</td>\n",
       "    </tr>\n",
       "    <tr>\n",
       "      <th>15</th>\n",
       "      <td>2</td>\n",
       "      <td>1673511</td>\n",
       "      <td>prior</td>\n",
       "      <td>5</td>\n",
       "    </tr>\n",
       "    <tr>\n",
       "      <th>16</th>\n",
       "      <td>2</td>\n",
       "      <td>1199898</td>\n",
       "      <td>prior</td>\n",
       "      <td>6</td>\n",
       "    </tr>\n",
       "    <tr>\n",
       "      <th>17</th>\n",
       "      <td>2</td>\n",
       "      <td>3194192</td>\n",
       "      <td>prior</td>\n",
       "      <td>7</td>\n",
       "    </tr>\n",
       "    <tr>\n",
       "      <th>18</th>\n",
       "      <td>2</td>\n",
       "      <td>788338</td>\n",
       "      <td>prior</td>\n",
       "      <td>8</td>\n",
       "    </tr>\n",
       "    <tr>\n",
       "      <th>19</th>\n",
       "      <td>2</td>\n",
       "      <td>1718559</td>\n",
       "      <td>prior</td>\n",
       "      <td>9</td>\n",
       "    </tr>\n",
       "    <tr>\n",
       "      <th>20</th>\n",
       "      <td>2</td>\n",
       "      <td>1447487</td>\n",
       "      <td>prior</td>\n",
       "      <td>10</td>\n",
       "    </tr>\n",
       "    <tr>\n",
       "      <th>21</th>\n",
       "      <td>2</td>\n",
       "      <td>1402090</td>\n",
       "      <td>prior</td>\n",
       "      <td>11</td>\n",
       "    </tr>\n",
       "    <tr>\n",
       "      <th>22</th>\n",
       "      <td>2</td>\n",
       "      <td>3186735</td>\n",
       "      <td>prior</td>\n",
       "      <td>12</td>\n",
       "    </tr>\n",
       "    <tr>\n",
       "      <th>23</th>\n",
       "      <td>2</td>\n",
       "      <td>3268552</td>\n",
       "      <td>prior</td>\n",
       "      <td>13</td>\n",
       "    </tr>\n",
       "    <tr>\n",
       "      <th>24</th>\n",
       "      <td>2</td>\n",
       "      <td>839880</td>\n",
       "      <td>prior</td>\n",
       "      <td>14</td>\n",
       "    </tr>\n",
       "    <tr>\n",
       "      <th>25</th>\n",
       "      <td>2</td>\n",
       "      <td>1492625</td>\n",
       "      <td>train</td>\n",
       "      <td>15</td>\n",
       "    </tr>\n",
       "    <tr>\n",
       "      <th>26</th>\n",
       "      <td>5</td>\n",
       "      <td>2717275</td>\n",
       "      <td>prior</td>\n",
       "      <td>1</td>\n",
       "    </tr>\n",
       "    <tr>\n",
       "      <th>27</th>\n",
       "      <td>5</td>\n",
       "      <td>1909121</td>\n",
       "      <td>prior</td>\n",
       "      <td>2</td>\n",
       "    </tr>\n",
       "    <tr>\n",
       "      <th>28</th>\n",
       "      <td>5</td>\n",
       "      <td>2267326</td>\n",
       "      <td>prior</td>\n",
       "      <td>3</td>\n",
       "    </tr>\n",
       "    <tr>\n",
       "      <th>29</th>\n",
       "      <td>5</td>\n",
       "      <td>157374</td>\n",
       "      <td>prior</td>\n",
       "      <td>4</td>\n",
       "    </tr>\n",
       "    <tr>\n",
       "      <th>30</th>\n",
       "      <td>5</td>\n",
       "      <td>2196797</td>\n",
       "      <td>train</td>\n",
       "      <td>5</td>\n",
       "    </tr>\n",
       "    <tr>\n",
       "      <th>31</th>\n",
       "      <td>7</td>\n",
       "      <td>2565571</td>\n",
       "      <td>prior</td>\n",
       "      <td>1</td>\n",
       "    </tr>\n",
       "    <tr>\n",
       "      <th>32</th>\n",
       "      <td>7</td>\n",
       "      <td>2402008</td>\n",
       "      <td>prior</td>\n",
       "      <td>2</td>\n",
       "    </tr>\n",
       "    <tr>\n",
       "      <th>33</th>\n",
       "      <td>7</td>\n",
       "      <td>121053</td>\n",
       "      <td>prior</td>\n",
       "      <td>3</td>\n",
       "    </tr>\n",
       "    <tr>\n",
       "      <th>34</th>\n",
       "      <td>7</td>\n",
       "      <td>1695742</td>\n",
       "      <td>prior</td>\n",
       "      <td>4</td>\n",
       "    </tr>\n",
       "    <tr>\n",
       "      <th>35</th>\n",
       "      <td>7</td>\n",
       "      <td>3321109</td>\n",
       "      <td>prior</td>\n",
       "      <td>5</td>\n",
       "    </tr>\n",
       "    <tr>\n",
       "      <th>36</th>\n",
       "      <td>7</td>\n",
       "      <td>1682003</td>\n",
       "      <td>prior</td>\n",
       "      <td>6</td>\n",
       "    </tr>\n",
       "    <tr>\n",
       "      <th>37</th>\n",
       "      <td>7</td>\n",
       "      <td>1014379</td>\n",
       "      <td>prior</td>\n",
       "      <td>7</td>\n",
       "    </tr>\n",
       "    <tr>\n",
       "      <th>38</th>\n",
       "      <td>7</td>\n",
       "      <td>776265</td>\n",
       "      <td>prior</td>\n",
       "      <td>8</td>\n",
       "    </tr>\n",
       "    <tr>\n",
       "      <th>39</th>\n",
       "      <td>7</td>\n",
       "      <td>2507052</td>\n",
       "      <td>prior</td>\n",
       "      <td>9</td>\n",
       "    </tr>\n",
       "    <tr>\n",
       "      <th>40</th>\n",
       "      <td>7</td>\n",
       "      <td>1396119</td>\n",
       "      <td>prior</td>\n",
       "      <td>10</td>\n",
       "    </tr>\n",
       "    <tr>\n",
       "      <th>41</th>\n",
       "      <td>7</td>\n",
       "      <td>565870</td>\n",
       "      <td>prior</td>\n",
       "      <td>11</td>\n",
       "    </tr>\n",
       "    <tr>\n",
       "      <th>42</th>\n",
       "      <td>7</td>\n",
       "      <td>3239072</td>\n",
       "      <td>prior</td>\n",
       "      <td>12</td>\n",
       "    </tr>\n",
       "    <tr>\n",
       "      <th>43</th>\n",
       "      <td>7</td>\n",
       "      <td>1175028</td>\n",
       "      <td>prior</td>\n",
       "      <td>13</td>\n",
       "    </tr>\n",
       "    <tr>\n",
       "      <th>44</th>\n",
       "      <td>7</td>\n",
       "      <td>3060817</td>\n",
       "      <td>prior</td>\n",
       "      <td>14</td>\n",
       "    </tr>\n",
       "    <tr>\n",
       "      <th>45</th>\n",
       "      <td>7</td>\n",
       "      <td>3120740</td>\n",
       "      <td>prior</td>\n",
       "      <td>15</td>\n",
       "    </tr>\n",
       "    <tr>\n",
       "      <th>46</th>\n",
       "      <td>7</td>\n",
       "      <td>2425840</td>\n",
       "      <td>prior</td>\n",
       "      <td>16</td>\n",
       "    </tr>\n",
       "    <tr>\n",
       "      <th>47</th>\n",
       "      <td>7</td>\n",
       "      <td>23391</td>\n",
       "      <td>prior</td>\n",
       "      <td>17</td>\n",
       "    </tr>\n",
       "    <tr>\n",
       "      <th>48</th>\n",
       "      <td>7</td>\n",
       "      <td>2984707</td>\n",
       "      <td>prior</td>\n",
       "      <td>18</td>\n",
       "    </tr>\n",
       "    <tr>\n",
       "      <th>49</th>\n",
       "      <td>7</td>\n",
       "      <td>369015</td>\n",
       "      <td>prior</td>\n",
       "      <td>19</td>\n",
       "    </tr>\n",
       "  </tbody>\n",
       "</table>\n",
       "</div>"
      ],
      "text/plain": [
       "    user_id  order_id eval_set  order_number\n",
       "0         1   2539329    prior             1\n",
       "1         1   2398795    prior             2\n",
       "2         1    473747    prior             3\n",
       "3         1   2254736    prior             4\n",
       "4         1    431534    prior             5\n",
       "5         1   3367565    prior             6\n",
       "6         1    550135    prior             7\n",
       "7         1   3108588    prior             8\n",
       "8         1   2295261    prior             9\n",
       "9         1   2550362    prior            10\n",
       "10        1   1187899    train            11\n",
       "11        2   2168274    prior             1\n",
       "12        2   1501582    prior             2\n",
       "13        2   1901567    prior             3\n",
       "14        2    738281    prior             4\n",
       "15        2   1673511    prior             5\n",
       "16        2   1199898    prior             6\n",
       "17        2   3194192    prior             7\n",
       "18        2    788338    prior             8\n",
       "19        2   1718559    prior             9\n",
       "20        2   1447487    prior            10\n",
       "21        2   1402090    prior            11\n",
       "22        2   3186735    prior            12\n",
       "23        2   3268552    prior            13\n",
       "24        2    839880    prior            14\n",
       "25        2   1492625    train            15\n",
       "26        5   2717275    prior             1\n",
       "27        5   1909121    prior             2\n",
       "28        5   2267326    prior             3\n",
       "29        5    157374    prior             4\n",
       "30        5   2196797    train             5\n",
       "31        7   2565571    prior             1\n",
       "32        7   2402008    prior             2\n",
       "33        7    121053    prior             3\n",
       "34        7   1695742    prior             4\n",
       "35        7   3321109    prior             5\n",
       "36        7   1682003    prior             6\n",
       "37        7   1014379    prior             7\n",
       "38        7    776265    prior             8\n",
       "39        7   2507052    prior             9\n",
       "40        7   1396119    prior            10\n",
       "41        7    565870    prior            11\n",
       "42        7   3239072    prior            12\n",
       "43        7   1175028    prior            13\n",
       "44        7   3060817    prior            14\n",
       "45        7   3120740    prior            15\n",
       "46        7   2425840    prior            16\n",
       "47        7     23391    prior            17\n",
       "48        7   2984707    prior            18\n",
       "49        7    369015    prior            19"
      ]
     },
     "execution_count": 16,
     "metadata": {},
     "output_type": "execute_result"
    }
   ],
   "source": [
    "orders_train = uid_train_reduced.merge(orders,on='user_id',how='left')\n",
    "orders_train.head(50)"
   ]
  },
  {
   "cell_type": "code",
   "execution_count": 17,
   "id": "spare-singles",
   "metadata": {},
   "outputs": [
    {
     "data": {
      "text/plain": [
       "'0.08 G'"
      ]
     },
     "execution_count": 17,
     "metadata": {},
     "output_type": "execute_result"
    }
   ],
   "source": [
    "orders_train.shape; size(orders_train)"
   ]
  },
  {
   "cell_type": "code",
   "execution_count": 18,
   "id": "decimal-watch",
   "metadata": {},
   "outputs": [
    {
     "name": "stdout",
     "output_type": "stream",
     "text": [
      "835132 [2539329 2398795  473747 ...  105919 3407928   65330]\n"
     ]
    }
   ],
   "source": [
    "reduced_list_orders_id = orders_train['order_id'].values\n",
    "print(len(reduced_list_orders_id),reduced_list_orders_id)"
   ]
  },
  {
   "cell_type": "markdown",
   "id": "massive-prospect",
   "metadata": {},
   "source": [
    "### 1.4 One-hot-encode products <a id='1.4'></a>"
   ]
  },
  {
   "cell_type": "markdown",
   "id": "regional-collar",
   "metadata": {},
   "source": [
    "#### 1.3.1 How many products in orders for this subsample? <a id='1.3.1'></a>"
   ]
  },
  {
   "cell_type": "code",
   "execution_count": 19,
   "id": "usual-brother",
   "metadata": {},
   "outputs": [],
   "source": [
    "products_prior_reduced = products_prior[products_prior['order_id'].isin(reduced_list_orders_id)]\n",
    "products_train_reduced = products_train[products_train['order_id'].isin(reduced_list_orders_id)]"
   ]
  },
  {
   "cell_type": "code",
   "execution_count": null,
   "id": "technological-ancient",
   "metadata": {},
   "outputs": [],
   "source": []
  },
  {
   "cell_type": "markdown",
   "id": "integrated-salem",
   "metadata": {},
   "source": [
    "How many products are exclusively in the train sample?"
   ]
  },
  {
   "cell_type": "code",
   "execution_count": 20,
   "id": "academic-hobby",
   "metadata": {},
   "outputs": [
    {
     "data": {
      "text/plain": [
       "(46803, 30799)"
      ]
     },
     "execution_count": 20,
     "metadata": {},
     "output_type": "execute_result"
    }
   ],
   "source": [
    "p = set(products_prior_reduced['product_id'].values)\n",
    "t = set(products_train_reduced['product_id'].values)\n",
    "len(p),len(t)"
   ]
  },
  {
   "cell_type": "code",
   "execution_count": 21,
   "id": "extraordinary-bottom",
   "metadata": {},
   "outputs": [
    {
     "data": {
      "text/plain": [
       "(16364, 360)"
      ]
     },
     "execution_count": 21,
     "metadata": {},
     "output_type": "execute_result"
    }
   ],
   "source": [
    "len(p - t), len(t - p)"
   ]
  },
  {
   "cell_type": "markdown",
   "id": "national-tampa",
   "metadata": {},
   "source": [
    "360 exclusively in train. Let's merge the files to properly apply one-hot-ecouding later."
   ]
  },
  {
   "cell_type": "code",
   "execution_count": 22,
   "id": "exclusive-spice",
   "metadata": {},
   "outputs": [],
   "source": [
    "# now only reordered"
   ]
  },
  {
   "cell_type": "code",
   "execution_count": 23,
   "id": "interior-bobby",
   "metadata": {},
   "outputs": [
    {
     "data": {
      "text/plain": [
       "((4683848, 4), (317623, 4))"
      ]
     },
     "execution_count": 23,
     "metadata": {},
     "output_type": "execute_result"
    }
   ],
   "source": [
    "products_prior_reduced = products_prior_reduced[products_prior_reduced['reordered']==1]\n",
    "products_train_reduced = products_train_reduced[products_train_reduced['reordered']==1]\n",
    "products_prior_reduced.shape, products_train_reduced.shape"
   ]
  },
  {
   "cell_type": "code",
   "execution_count": 24,
   "id": "alone-summit",
   "metadata": {},
   "outputs": [
    {
     "name": "stdout",
     "output_type": "stream",
     "text": [
      "0.19 G\n",
      "0.01 G\n"
     ]
    }
   ],
   "source": [
    "print(size(products_prior_reduced))\n",
    "print(size(products_train_reduced))"
   ]
  },
  {
   "cell_type": "code",
   "execution_count": 25,
   "id": "visible-artwork",
   "metadata": {},
   "outputs": [
    {
     "data": {
      "text/plain": [
       "(35941, 22547)"
      ]
     },
     "execution_count": 25,
     "metadata": {},
     "output_type": "execute_result"
    }
   ],
   "source": [
    "p = set(products_prior_reduced['product_id'].values)\n",
    "t = set(products_train_reduced['product_id'].values)\n",
    "len(p),len(t)"
   ]
  },
  {
   "cell_type": "code",
   "execution_count": 26,
   "id": "destroyed-causing",
   "metadata": {},
   "outputs": [
    {
     "data": {
      "text/plain": [
       "(14037, 643)"
      ]
     },
     "execution_count": 26,
     "metadata": {},
     "output_type": "execute_result"
    }
   ],
   "source": [
    "len(p - t), len(t - p)"
   ]
  },
  {
   "cell_type": "markdown",
   "id": "pointed-wyoming",
   "metadata": {},
   "source": [
    "640 exclusively in train now"
   ]
  },
  {
   "cell_type": "code",
   "execution_count": null,
   "id": "hairy-insulation",
   "metadata": {},
   "outputs": [],
   "source": []
  },
  {
   "cell_type": "code",
   "execution_count": 27,
   "id": "historic-porcelain",
   "metadata": {},
   "outputs": [
    {
     "data": {
      "text/plain": [
       "(5001471, 4)"
      ]
     },
     "execution_count": 27,
     "metadata": {},
     "output_type": "execute_result"
    }
   ],
   "source": [
    "products = pd.concat((products_prior_reduced,products_train_reduced))\n",
    "products.shape"
   ]
  },
  {
   "cell_type": "code",
   "execution_count": 28,
   "id": "large-spare",
   "metadata": {},
   "outputs": [
    {
     "name": "stdout",
     "output_type": "stream",
     "text": [
      "0.2 G\n"
     ]
    }
   ],
   "source": [
    "print(size(products))"
   ]
  },
  {
   "cell_type": "code",
   "execution_count": 29,
   "id": "ethical-seattle",
   "metadata": {},
   "outputs": [
    {
     "data": {
      "text/plain": [
       "(36584,)"
      ]
     },
     "execution_count": 29,
     "metadata": {},
     "output_type": "execute_result"
    }
   ],
   "source": [
    "products['product_id'].value_counts().shape"
   ]
  },
  {
   "cell_type": "markdown",
   "id": "breathing-coaching",
   "metadata": {},
   "source": [
    "36k unique products for 50k users (45k for all users), but let's select only the first 10k most frequently ordered now."
   ]
  },
  {
   "cell_type": "code",
   "execution_count": 30,
   "id": "thorough-hawaiian",
   "metadata": {},
   "outputs": [
    {
     "data": {
      "text/plain": [
       "24852    104157\n",
       "13176     81473\n",
       "21137     53016\n",
       "21903     49275\n",
       "47209     45308\n",
       "          ...  \n",
       "6093          1\n",
       "11788         1\n",
       "33477         1\n",
       "37575         1\n",
       "41712         1\n",
       "Name: product_id, Length: 36584, dtype: int64"
      ]
     },
     "execution_count": 30,
     "metadata": {},
     "output_type": "execute_result"
    }
   ],
   "source": [
    "products['product_id'].value_counts()"
   ]
  },
  {
   "cell_type": "code",
   "execution_count": 31,
   "id": "polar-editing",
   "metadata": {},
   "outputs": [],
   "source": [
    "n = 36584\n",
    "x = range(n)\n",
    "y = products['product_id'].value_counts().values"
   ]
  },
  {
   "cell_type": "markdown",
   "id": "obvious-warning",
   "metadata": {},
   "source": [
    "histogram:"
   ]
  },
  {
   "cell_type": "code",
   "execution_count": 32,
   "id": "willing-technician",
   "metadata": {},
   "outputs": [
    {
     "data": {
      "image/png": "[encoded data removed]",
      "text/plain": [
       "<Figure size 600x400 with 1 Axes>"
      ]
     },
     "metadata": {
      "needs_background": "light"
     },
     "output_type": "display_data"
    }
   ],
   "source": [
    "plt.hist(x,weights=y,bins=n,log=True);"
   ]
  },
  {
   "cell_type": "markdown",
   "id": "serial-suspension",
   "metadata": {},
   "source": [
    "cumulative distribution:"
   ]
  },
  {
   "cell_type": "code",
   "execution_count": 33,
   "id": "informed-standing",
   "metadata": {},
   "outputs": [
    {
     "data": {
      "image/png": "[encoded data removed]",
      "text/plain": [
       "<Figure size 600x400 with 1 Axes>"
      ]
     },
     "metadata": {
      "needs_background": "light"
     },
     "output_type": "display_data"
    }
   ],
   "source": [
    "plt.hist(x,weights=y,bins=n,density=True,cumulative=True);"
   ]
  },
  {
   "cell_type": "markdown",
   "id": "junior-prevention",
   "metadata": {},
   "source": [
    "zoom it:"
   ]
  },
  {
   "cell_type": "code",
   "execution_count": 34,
   "id": "located-canvas",
   "metadata": {},
   "outputs": [
    {
     "data": {
      "image/png": "[encoded data removed]",
      "text/plain": [
       "<Figure size 600x400 with 1 Axes>"
      ]
     },
     "metadata": {
      "needs_background": "light"
     },
     "output_type": "display_data"
    }
   ],
   "source": [
    "plt.hist(x,weights=y,bins=n,density=True,cumulative=True);plt.xlim((0.,6500.));plt.ylim((0.5,1.));"
   ]
  },
  {
   "cell_type": "code",
   "execution_count": 35,
   "id": "interstate-eligibility",
   "metadata": {},
   "outputs": [],
   "source": [
    "# for all users, all orders\n",
    "# 2000 - 72% working but very slow\n",
    "# 1500 - 65% same slow\n",
    "# 1000 - 60%\n",
    "#  600 - 50% \n",
    "\n",
    "# the same fractions for reduced sample too, but there ARE! less products"
   ]
  },
  {
   "cell_type": "markdown",
   "id": "innovative-authorization",
   "metadata": {},
   "source": [
    "#### 1.3.2 One-hot-encode the most popular products <a id='1.3.2'></a>"
   ]
  },
  {
   "cell_type": "markdown",
   "id": "legitimate-assumption",
   "metadata": {},
   "source": [
    "We will use only the first 1k products. Due to memory limitation, but they account for 60% of purchases."
   ]
  },
  {
   "cell_type": "code",
   "execution_count": 36,
   "id": "stock-relative",
   "metadata": {},
   "outputs": [
    {
     "data": {
      "text/plain": [
       "(1000,\n",
       " Int64Index([24852, 13176, 21137, 21903, 47209, 47766, 27845, 47626, 27966,\n",
       "             16797,\n",
       "             ...\n",
       "             40001, 35168,  3849, 35199, 30850, 14267, 27020, 13866,  3873,\n",
       "             47492],\n",
       "            dtype='int64', length=1000))"
      ]
     },
     "execution_count": 36,
     "metadata": {},
     "output_type": "execute_result"
    }
   ],
   "source": [
    "topn = products['product_id'].value_counts().head(n_products).index\n",
    "len(topn),topn"
   ]
  },
  {
   "cell_type": "code",
   "execution_count": 37,
   "id": "congressional-design",
   "metadata": {},
   "outputs": [
    {
     "data": {
      "text/plain": [
       "((3023205, 4), '0.12 G')"
      ]
     },
     "execution_count": 37,
     "metadata": {},
     "output_type": "execute_result"
    }
   ],
   "source": [
    "products = products[products['product_id'].isin(topn)]\n",
    "products.shape, size(products)"
   ]
  },
  {
   "cell_type": "code",
   "execution_count": 38,
   "id": "outer-genesis",
   "metadata": {},
   "outputs": [
    {
     "data": {
      "text/plain": [
       "1000"
      ]
     },
     "execution_count": 38,
     "metadata": {},
     "output_type": "execute_result"
    }
   ],
   "source": [
    "products['product_id'].nunique()"
   ]
  },
  {
   "cell_type": "code",
   "execution_count": 39,
   "id": "proper-teddy",
   "metadata": {},
   "outputs": [],
   "source": [
    "products = products.drop(['add_to_cart_order','reordered'],axis=1)"
   ]
  },
  {
   "cell_type": "code",
   "execution_count": 40,
   "id": "appropriate-sphere",
   "metadata": {},
   "outputs": [
    {
     "data": {
      "text/html": [
       "<div>\n",
       "<style scoped>\n",
       "    .dataframe tbody tr th:only-of-type {\n",
       "        vertical-align: middle;\n",
       "    }\n",
       "\n",
       "    .dataframe tbody tr th {\n",
       "        vertical-align: top;\n",
       "    }\n",
       "\n",
       "    .dataframe thead th {\n",
       "        text-align: right;\n",
       "    }\n",
       "</style>\n",
       "<table border=\"1\" class=\"dataframe\">\n",
       "  <thead>\n",
       "    <tr style=\"text-align: right;\">\n",
       "      <th></th>\n",
       "      <th>order_id</th>\n",
       "      <th>product_id</th>\n",
       "    </tr>\n",
       "  </thead>\n",
       "  <tbody>\n",
       "    <tr>\n",
       "      <th>126</th>\n",
       "      <td>14</td>\n",
       "      <td>27845</td>\n",
       "    </tr>\n",
       "    <tr>\n",
       "      <th>128</th>\n",
       "      <td>14</td>\n",
       "      <td>2452</td>\n",
       "    </tr>\n",
       "    <tr>\n",
       "      <th>131</th>\n",
       "      <td>14</td>\n",
       "      <td>39475</td>\n",
       "    </tr>\n",
       "    <tr>\n",
       "      <th>134</th>\n",
       "      <td>14</td>\n",
       "      <td>20995</td>\n",
       "    </tr>\n",
       "    <tr>\n",
       "      <th>188</th>\n",
       "      <td>22</td>\n",
       "      <td>23909</td>\n",
       "    </tr>\n",
       "  </tbody>\n",
       "</table>\n",
       "</div>"
      ],
      "text/plain": [
       "     order_id  product_id\n",
       "126        14       27845\n",
       "128        14        2452\n",
       "131        14       39475\n",
       "134        14       20995\n",
       "188        22       23909"
      ]
     },
     "execution_count": 40,
     "metadata": {},
     "output_type": "execute_result"
    }
   ],
   "source": [
    "products.head()"
   ]
  },
  {
   "cell_type": "code",
   "execution_count": 41,
   "id": "domestic-doctrine",
   "metadata": {},
   "outputs": [
    {
     "name": "stdout",
     "output_type": "stream",
     "text": [
      "<class 'pandas.core.frame.DataFrame'>\n",
      "Int64Index: 3023205 entries, 126 to 1384552\n",
      "Data columns (total 2 columns):\n",
      " #   Column      Dtype\n",
      "---  ------      -----\n",
      " 0   order_id    int64\n",
      " 1   product_id  int64\n",
      "dtypes: int64(2)\n",
      "memory usage: 69.2 MB\n"
     ]
    }
   ],
   "source": [
    "products.info()"
   ]
  },
  {
   "cell_type": "markdown",
   "id": "backed-observer",
   "metadata": {},
   "source": [
    "Before encoding, let's reduce the memory usage and convert the product_id type to the safest smaller uint number (uint16)"
   ]
  },
  {
   "cell_type": "code",
   "execution_count": 42,
   "id": "standard-luxembourg",
   "metadata": {},
   "outputs": [
    {
     "data": {
      "text/plain": [
       "(14, 3421080)"
      ]
     },
     "execution_count": 42,
     "metadata": {},
     "output_type": "execute_result"
    }
   ],
   "source": [
    "products['order_id'].min(),products['order_id'].max()"
   ]
  },
  {
   "cell_type": "code",
   "execution_count": 43,
   "id": "happy-prototype",
   "metadata": {},
   "outputs": [
    {
     "data": {
      "text/plain": [
       "(34, 49683)"
      ]
     },
     "execution_count": 43,
     "metadata": {},
     "output_type": "execute_result"
    }
   ],
   "source": [
    "products['product_id'].min(),products['product_id'].max()"
   ]
  },
  {
   "cell_type": "code",
   "execution_count": 44,
   "id": "valued-enclosure",
   "metadata": {},
   "outputs": [],
   "source": [
    "# Int8 — [-128 : 127]\n",
    "# Int16 — [-32768 : 32767]\n",
    "# Int32 — [-2147483648 : 2147483647]\n",
    "# Int64 — [-9223372036854775808 : 9223372036854775807]\n",
    "#\n",
    "# UInt8 — [0 : 255]\n",
    "# UInt16 — [0 : 65535]\n",
    "# UInt32 — [0 : 4294967295]"
   ]
  },
  {
   "cell_type": "code",
   "execution_count": 45,
   "id": "prime-village",
   "metadata": {},
   "outputs": [],
   "source": [
    "products['order_id'] = products['order_id'].astype('uint32')\n",
    "products['product_id'] = products['product_id'].astype('uint16')"
   ]
  },
  {
   "cell_type": "code",
   "execution_count": 46,
   "id": "difficult-murray",
   "metadata": {},
   "outputs": [
    {
     "name": "stdout",
     "output_type": "stream",
     "text": [
      "<class 'pandas.core.frame.DataFrame'>\n",
      "Int64Index: 3023205 entries, 126 to 1384552\n",
      "Data columns (total 2 columns):\n",
      " #   Column      Dtype \n",
      "---  ------      ----- \n",
      " 0   order_id    uint32\n",
      " 1   product_id  uint16\n",
      "dtypes: uint16(1), uint32(1)\n",
      "memory usage: 40.4 MB\n"
     ]
    }
   ],
   "source": [
    "products.info()"
   ]
  },
  {
   "cell_type": "markdown",
   "id": "protecting-decision",
   "metadata": {},
   "source": [
    "One-hot encode now:"
   ]
  },
  {
   "cell_type": "code",
   "execution_count": 47,
   "id": "angry-start",
   "metadata": {},
   "outputs": [],
   "source": [
    "def hot_encode(df,cols):\n",
    "    return pd.get_dummies(df,columns=cols)"
   ]
  },
  {
   "cell_type": "code",
   "execution_count": 48,
   "id": "orange-finish",
   "metadata": {},
   "outputs": [
    {
     "name": "stdout",
     "output_type": "stream",
     "text": [
      "CPU times: user 55.3 s, sys: 5.04 s, total: 1min\n",
      "Wall time: 1min\n"
     ]
    }
   ],
   "source": [
    "%%time\n",
    "products_ohe_0 = hot_encode(products,['product_id'])"
   ]
  },
  {
   "cell_type": "code",
   "execution_count": 49,
   "id": "suspected-paintball",
   "metadata": {},
   "outputs": [
    {
     "name": "stdout",
     "output_type": "stream",
     "text": [
      "<class 'pandas.core.frame.DataFrame'>\n",
      "Int64Index: 3023205 entries, 126 to 1384552\n",
      "Columns: 1001 entries, order_id to product_id_49683\n",
      "dtypes: uint32(1), uint8(1000)\n",
      "memory usage: 2.8 GB\n"
     ]
    }
   ],
   "source": [
    "# dtypes: uint32(1), uint8(2000)\n",
    "# memory usage: 6.8 GB\n",
    "products_ohe_0.info()"
   ]
  },
  {
   "cell_type": "code",
   "execution_count": 50,
   "id": "great-heath",
   "metadata": {},
   "outputs": [],
   "source": [
    "import dask.dataframe as dd\n",
    "def ohe_sum_products_over_orders(x):\n",
    "    df = dd.from_pandas(x,npartitions=2000) # 100 for 1k products, 2000 for 2k products didn't work\n",
    "    return df.groupby('order_id').sum().compute()"
   ]
  },
  {
   "cell_type": "markdown",
   "id": "detailed-concentrate",
   "metadata": {},
   "source": [
    "this above is the bottle neck, the memory is saturated and the notebook shutsdown for any number > 1000. That's why we go with 1000."
   ]
  },
  {
   "cell_type": "code",
   "execution_count": 51,
   "id": "outdoor-quantum",
   "metadata": {},
   "outputs": [],
   "source": [
    "products_ohe = ohe_sum_products_over_orders(products_ohe_0)"
   ]
  },
  {
   "cell_type": "code",
   "execution_count": 52,
   "id": "introductory-ministry",
   "metadata": {},
   "outputs": [],
   "source": [
    "del products_ohe_0"
   ]
  },
  {
   "cell_type": "code",
   "execution_count": 53,
   "id": "sorted-gender",
   "metadata": {},
   "outputs": [
    {
     "data": {
      "text/plain": [
       "pandas.core.frame.DataFrame"
      ]
     },
     "execution_count": 53,
     "metadata": {},
     "output_type": "execute_result"
    }
   ],
   "source": [
    "type(products_ohe)"
   ]
  },
  {
   "cell_type": "code",
   "execution_count": 54,
   "id": "fleet-aviation",
   "metadata": {},
   "outputs": [
    {
     "name": "stdout",
     "output_type": "stream",
     "text": [
      "<class 'pandas.core.frame.DataFrame'>\n",
      "UInt64Index: 659580 entries, 14 to 3421080\n",
      "Columns: 1000 entries, product_id_34 to product_id_49683\n",
      "dtypes: uint8(1000)\n",
      "memory usage: 634.1 MB\n"
     ]
    }
   ],
   "source": [
    "products_ohe.info()"
   ]
  },
  {
   "cell_type": "code",
   "execution_count": 55,
   "id": "fuzzy-court",
   "metadata": {},
   "outputs": [
    {
     "data": {
      "text/html": [
       "<div>\n",
       "<style scoped>\n",
       "    .dataframe tbody tr th:only-of-type {\n",
       "        vertical-align: middle;\n",
       "    }\n",
       "\n",
       "    .dataframe tbody tr th {\n",
       "        vertical-align: top;\n",
       "    }\n",
       "\n",
       "    .dataframe thead th {\n",
       "        text-align: right;\n",
       "    }\n",
       "</style>\n",
       "<table border=\"1\" class=\"dataframe\">\n",
       "  <thead>\n",
       "    <tr style=\"text-align: right;\">\n",
       "      <th></th>\n",
       "      <th>product_id_34</th>\n",
       "      <th>product_id_45</th>\n",
       "      <th>product_id_196</th>\n",
       "      <th>product_id_260</th>\n",
       "      <th>product_id_311</th>\n",
       "      <th>product_id_329</th>\n",
       "      <th>product_id_365</th>\n",
       "      <th>product_id_432</th>\n",
       "      <th>product_id_581</th>\n",
       "      <th>product_id_651</th>\n",
       "      <th>...</th>\n",
       "      <th>product_id_49235</th>\n",
       "      <th>product_id_49247</th>\n",
       "      <th>product_id_49383</th>\n",
       "      <th>product_id_49416</th>\n",
       "      <th>product_id_49478</th>\n",
       "      <th>product_id_49520</th>\n",
       "      <th>product_id_49533</th>\n",
       "      <th>product_id_49610</th>\n",
       "      <th>product_id_49621</th>\n",
       "      <th>product_id_49683</th>\n",
       "    </tr>\n",
       "    <tr>\n",
       "      <th>order_id</th>\n",
       "      <th></th>\n",
       "      <th></th>\n",
       "      <th></th>\n",
       "      <th></th>\n",
       "      <th></th>\n",
       "      <th></th>\n",
       "      <th></th>\n",
       "      <th></th>\n",
       "      <th></th>\n",
       "      <th></th>\n",
       "      <th></th>\n",
       "      <th></th>\n",
       "      <th></th>\n",
       "      <th></th>\n",
       "      <th></th>\n",
       "      <th></th>\n",
       "      <th></th>\n",
       "      <th></th>\n",
       "      <th></th>\n",
       "      <th></th>\n",
       "      <th></th>\n",
       "    </tr>\n",
       "  </thead>\n",
       "  <tbody>\n",
       "    <tr>\n",
       "      <th>14</th>\n",
       "      <td>0</td>\n",
       "      <td>0</td>\n",
       "      <td>0</td>\n",
       "      <td>0</td>\n",
       "      <td>0</td>\n",
       "      <td>0</td>\n",
       "      <td>0</td>\n",
       "      <td>0</td>\n",
       "      <td>0</td>\n",
       "      <td>0</td>\n",
       "      <td>...</td>\n",
       "      <td>0</td>\n",
       "      <td>0</td>\n",
       "      <td>0</td>\n",
       "      <td>0</td>\n",
       "      <td>0</td>\n",
       "      <td>0</td>\n",
       "      <td>0</td>\n",
       "      <td>0</td>\n",
       "      <td>0</td>\n",
       "      <td>0</td>\n",
       "    </tr>\n",
       "    <tr>\n",
       "      <th>22</th>\n",
       "      <td>0</td>\n",
       "      <td>0</td>\n",
       "      <td>0</td>\n",
       "      <td>0</td>\n",
       "      <td>0</td>\n",
       "      <td>0</td>\n",
       "      <td>0</td>\n",
       "      <td>0</td>\n",
       "      <td>0</td>\n",
       "      <td>0</td>\n",
       "      <td>...</td>\n",
       "      <td>0</td>\n",
       "      <td>0</td>\n",
       "      <td>0</td>\n",
       "      <td>0</td>\n",
       "      <td>0</td>\n",
       "      <td>0</td>\n",
       "      <td>0</td>\n",
       "      <td>0</td>\n",
       "      <td>0</td>\n",
       "      <td>0</td>\n",
       "    </tr>\n",
       "    <tr>\n",
       "      <th>23</th>\n",
       "      <td>0</td>\n",
       "      <td>0</td>\n",
       "      <td>0</td>\n",
       "      <td>0</td>\n",
       "      <td>0</td>\n",
       "      <td>0</td>\n",
       "      <td>0</td>\n",
       "      <td>0</td>\n",
       "      <td>0</td>\n",
       "      <td>0</td>\n",
       "      <td>...</td>\n",
       "      <td>0</td>\n",
       "      <td>0</td>\n",
       "      <td>0</td>\n",
       "      <td>0</td>\n",
       "      <td>0</td>\n",
       "      <td>0</td>\n",
       "      <td>0</td>\n",
       "      <td>0</td>\n",
       "      <td>0</td>\n",
       "      <td>0</td>\n",
       "    </tr>\n",
       "    <tr>\n",
       "      <th>25</th>\n",
       "      <td>0</td>\n",
       "      <td>0</td>\n",
       "      <td>0</td>\n",
       "      <td>0</td>\n",
       "      <td>0</td>\n",
       "      <td>0</td>\n",
       "      <td>0</td>\n",
       "      <td>0</td>\n",
       "      <td>0</td>\n",
       "      <td>0</td>\n",
       "      <td>...</td>\n",
       "      <td>0</td>\n",
       "      <td>0</td>\n",
       "      <td>0</td>\n",
       "      <td>0</td>\n",
       "      <td>0</td>\n",
       "      <td>0</td>\n",
       "      <td>0</td>\n",
       "      <td>0</td>\n",
       "      <td>0</td>\n",
       "      <td>0</td>\n",
       "    </tr>\n",
       "    <tr>\n",
       "      <th>38</th>\n",
       "      <td>0</td>\n",
       "      <td>0</td>\n",
       "      <td>0</td>\n",
       "      <td>0</td>\n",
       "      <td>0</td>\n",
       "      <td>0</td>\n",
       "      <td>0</td>\n",
       "      <td>0</td>\n",
       "      <td>0</td>\n",
       "      <td>0</td>\n",
       "      <td>...</td>\n",
       "      <td>0</td>\n",
       "      <td>0</td>\n",
       "      <td>0</td>\n",
       "      <td>0</td>\n",
       "      <td>0</td>\n",
       "      <td>0</td>\n",
       "      <td>0</td>\n",
       "      <td>0</td>\n",
       "      <td>0</td>\n",
       "      <td>0</td>\n",
       "    </tr>\n",
       "    <tr>\n",
       "      <th>40</th>\n",
       "      <td>0</td>\n",
       "      <td>0</td>\n",
       "      <td>0</td>\n",
       "      <td>0</td>\n",
       "      <td>0</td>\n",
       "      <td>0</td>\n",
       "      <td>0</td>\n",
       "      <td>0</td>\n",
       "      <td>0</td>\n",
       "      <td>0</td>\n",
       "      <td>...</td>\n",
       "      <td>0</td>\n",
       "      <td>0</td>\n",
       "      <td>0</td>\n",
       "      <td>0</td>\n",
       "      <td>0</td>\n",
       "      <td>0</td>\n",
       "      <td>0</td>\n",
       "      <td>0</td>\n",
       "      <td>0</td>\n",
       "      <td>0</td>\n",
       "    </tr>\n",
       "    <tr>\n",
       "      <th>45</th>\n",
       "      <td>0</td>\n",
       "      <td>0</td>\n",
       "      <td>0</td>\n",
       "      <td>0</td>\n",
       "      <td>0</td>\n",
       "      <td>0</td>\n",
       "      <td>0</td>\n",
       "      <td>0</td>\n",
       "      <td>0</td>\n",
       "      <td>0</td>\n",
       "      <td>...</td>\n",
       "      <td>0</td>\n",
       "      <td>0</td>\n",
       "      <td>0</td>\n",
       "      <td>0</td>\n",
       "      <td>0</td>\n",
       "      <td>0</td>\n",
       "      <td>0</td>\n",
       "      <td>0</td>\n",
       "      <td>0</td>\n",
       "      <td>0</td>\n",
       "    </tr>\n",
       "    <tr>\n",
       "      <th>56</th>\n",
       "      <td>0</td>\n",
       "      <td>0</td>\n",
       "      <td>0</td>\n",
       "      <td>0</td>\n",
       "      <td>0</td>\n",
       "      <td>0</td>\n",
       "      <td>0</td>\n",
       "      <td>0</td>\n",
       "      <td>0</td>\n",
       "      <td>0</td>\n",
       "      <td>...</td>\n",
       "      <td>0</td>\n",
       "      <td>0</td>\n",
       "      <td>0</td>\n",
       "      <td>0</td>\n",
       "      <td>0</td>\n",
       "      <td>0</td>\n",
       "      <td>0</td>\n",
       "      <td>0</td>\n",
       "      <td>0</td>\n",
       "      <td>0</td>\n",
       "    </tr>\n",
       "    <tr>\n",
       "      <th>65</th>\n",
       "      <td>0</td>\n",
       "      <td>0</td>\n",
       "      <td>0</td>\n",
       "      <td>0</td>\n",
       "      <td>0</td>\n",
       "      <td>0</td>\n",
       "      <td>0</td>\n",
       "      <td>0</td>\n",
       "      <td>0</td>\n",
       "      <td>0</td>\n",
       "      <td>...</td>\n",
       "      <td>0</td>\n",
       "      <td>0</td>\n",
       "      <td>0</td>\n",
       "      <td>0</td>\n",
       "      <td>0</td>\n",
       "      <td>0</td>\n",
       "      <td>0</td>\n",
       "      <td>0</td>\n",
       "      <td>0</td>\n",
       "      <td>0</td>\n",
       "    </tr>\n",
       "    <tr>\n",
       "      <th>71</th>\n",
       "      <td>0</td>\n",
       "      <td>0</td>\n",
       "      <td>0</td>\n",
       "      <td>0</td>\n",
       "      <td>0</td>\n",
       "      <td>0</td>\n",
       "      <td>0</td>\n",
       "      <td>0</td>\n",
       "      <td>0</td>\n",
       "      <td>0</td>\n",
       "      <td>...</td>\n",
       "      <td>0</td>\n",
       "      <td>0</td>\n",
       "      <td>0</td>\n",
       "      <td>0</td>\n",
       "      <td>0</td>\n",
       "      <td>0</td>\n",
       "      <td>0</td>\n",
       "      <td>0</td>\n",
       "      <td>0</td>\n",
       "      <td>0</td>\n",
       "    </tr>\n",
       "    <tr>\n",
       "      <th>74</th>\n",
       "      <td>0</td>\n",
       "      <td>0</td>\n",
       "      <td>0</td>\n",
       "      <td>0</td>\n",
       "      <td>0</td>\n",
       "      <td>0</td>\n",
       "      <td>0</td>\n",
       "      <td>0</td>\n",
       "      <td>0</td>\n",
       "      <td>0</td>\n",
       "      <td>...</td>\n",
       "      <td>0</td>\n",
       "      <td>0</td>\n",
       "      <td>0</td>\n",
       "      <td>0</td>\n",
       "      <td>0</td>\n",
       "      <td>0</td>\n",
       "      <td>0</td>\n",
       "      <td>0</td>\n",
       "      <td>0</td>\n",
       "      <td>0</td>\n",
       "    </tr>\n",
       "    <tr>\n",
       "      <th>83</th>\n",
       "      <td>0</td>\n",
       "      <td>0</td>\n",
       "      <td>0</td>\n",
       "      <td>0</td>\n",
       "      <td>0</td>\n",
       "      <td>0</td>\n",
       "      <td>0</td>\n",
       "      <td>0</td>\n",
       "      <td>0</td>\n",
       "      <td>0</td>\n",
       "      <td>...</td>\n",
       "      <td>0</td>\n",
       "      <td>0</td>\n",
       "      <td>0</td>\n",
       "      <td>0</td>\n",
       "      <td>0</td>\n",
       "      <td>0</td>\n",
       "      <td>0</td>\n",
       "      <td>0</td>\n",
       "      <td>0</td>\n",
       "      <td>0</td>\n",
       "    </tr>\n",
       "    <tr>\n",
       "      <th>84</th>\n",
       "      <td>0</td>\n",
       "      <td>0</td>\n",
       "      <td>0</td>\n",
       "      <td>0</td>\n",
       "      <td>0</td>\n",
       "      <td>0</td>\n",
       "      <td>0</td>\n",
       "      <td>0</td>\n",
       "      <td>0</td>\n",
       "      <td>0</td>\n",
       "      <td>...</td>\n",
       "      <td>0</td>\n",
       "      <td>0</td>\n",
       "      <td>0</td>\n",
       "      <td>0</td>\n",
       "      <td>0</td>\n",
       "      <td>0</td>\n",
       "      <td>0</td>\n",
       "      <td>0</td>\n",
       "      <td>0</td>\n",
       "      <td>0</td>\n",
       "    </tr>\n",
       "    <tr>\n",
       "      <th>90</th>\n",
       "      <td>0</td>\n",
       "      <td>0</td>\n",
       "      <td>0</td>\n",
       "      <td>0</td>\n",
       "      <td>0</td>\n",
       "      <td>0</td>\n",
       "      <td>0</td>\n",
       "      <td>0</td>\n",
       "      <td>0</td>\n",
       "      <td>0</td>\n",
       "      <td>...</td>\n",
       "      <td>0</td>\n",
       "      <td>0</td>\n",
       "      <td>0</td>\n",
       "      <td>0</td>\n",
       "      <td>0</td>\n",
       "      <td>0</td>\n",
       "      <td>0</td>\n",
       "      <td>0</td>\n",
       "      <td>0</td>\n",
       "      <td>0</td>\n",
       "    </tr>\n",
       "    <tr>\n",
       "      <th>92</th>\n",
       "      <td>0</td>\n",
       "      <td>0</td>\n",
       "      <td>0</td>\n",
       "      <td>0</td>\n",
       "      <td>0</td>\n",
       "      <td>0</td>\n",
       "      <td>0</td>\n",
       "      <td>0</td>\n",
       "      <td>0</td>\n",
       "      <td>0</td>\n",
       "      <td>...</td>\n",
       "      <td>1</td>\n",
       "      <td>0</td>\n",
       "      <td>0</td>\n",
       "      <td>0</td>\n",
       "      <td>0</td>\n",
       "      <td>0</td>\n",
       "      <td>0</td>\n",
       "      <td>0</td>\n",
       "      <td>0</td>\n",
       "      <td>0</td>\n",
       "    </tr>\n",
       "    <tr>\n",
       "      <th>96</th>\n",
       "      <td>0</td>\n",
       "      <td>0</td>\n",
       "      <td>0</td>\n",
       "      <td>0</td>\n",
       "      <td>0</td>\n",
       "      <td>0</td>\n",
       "      <td>0</td>\n",
       "      <td>0</td>\n",
       "      <td>0</td>\n",
       "      <td>0</td>\n",
       "      <td>...</td>\n",
       "      <td>0</td>\n",
       "      <td>0</td>\n",
       "      <td>0</td>\n",
       "      <td>0</td>\n",
       "      <td>0</td>\n",
       "      <td>0</td>\n",
       "      <td>0</td>\n",
       "      <td>0</td>\n",
       "      <td>0</td>\n",
       "      <td>0</td>\n",
       "    </tr>\n",
       "    <tr>\n",
       "      <th>98</th>\n",
       "      <td>0</td>\n",
       "      <td>0</td>\n",
       "      <td>0</td>\n",
       "      <td>0</td>\n",
       "      <td>0</td>\n",
       "      <td>1</td>\n",
       "      <td>0</td>\n",
       "      <td>0</td>\n",
       "      <td>0</td>\n",
       "      <td>0</td>\n",
       "      <td>...</td>\n",
       "      <td>0</td>\n",
       "      <td>0</td>\n",
       "      <td>0</td>\n",
       "      <td>0</td>\n",
       "      <td>0</td>\n",
       "      <td>0</td>\n",
       "      <td>0</td>\n",
       "      <td>0</td>\n",
       "      <td>0</td>\n",
       "      <td>0</td>\n",
       "    </tr>\n",
       "    <tr>\n",
       "      <th>101</th>\n",
       "      <td>0</td>\n",
       "      <td>0</td>\n",
       "      <td>0</td>\n",
       "      <td>0</td>\n",
       "      <td>0</td>\n",
       "      <td>0</td>\n",
       "      <td>0</td>\n",
       "      <td>0</td>\n",
       "      <td>0</td>\n",
       "      <td>0</td>\n",
       "      <td>...</td>\n",
       "      <td>0</td>\n",
       "      <td>0</td>\n",
       "      <td>0</td>\n",
       "      <td>0</td>\n",
       "      <td>0</td>\n",
       "      <td>0</td>\n",
       "      <td>0</td>\n",
       "      <td>0</td>\n",
       "      <td>0</td>\n",
       "      <td>0</td>\n",
       "    </tr>\n",
       "    <tr>\n",
       "      <th>102</th>\n",
       "      <td>0</td>\n",
       "      <td>0</td>\n",
       "      <td>0</td>\n",
       "      <td>0</td>\n",
       "      <td>0</td>\n",
       "      <td>0</td>\n",
       "      <td>0</td>\n",
       "      <td>0</td>\n",
       "      <td>0</td>\n",
       "      <td>0</td>\n",
       "      <td>...</td>\n",
       "      <td>0</td>\n",
       "      <td>0</td>\n",
       "      <td>0</td>\n",
       "      <td>0</td>\n",
       "      <td>0</td>\n",
       "      <td>0</td>\n",
       "      <td>0</td>\n",
       "      <td>0</td>\n",
       "      <td>0</td>\n",
       "      <td>0</td>\n",
       "    </tr>\n",
       "    <tr>\n",
       "      <th>104</th>\n",
       "      <td>0</td>\n",
       "      <td>0</td>\n",
       "      <td>0</td>\n",
       "      <td>0</td>\n",
       "      <td>0</td>\n",
       "      <td>0</td>\n",
       "      <td>0</td>\n",
       "      <td>0</td>\n",
       "      <td>0</td>\n",
       "      <td>0</td>\n",
       "      <td>...</td>\n",
       "      <td>0</td>\n",
       "      <td>0</td>\n",
       "      <td>0</td>\n",
       "      <td>0</td>\n",
       "      <td>0</td>\n",
       "      <td>0</td>\n",
       "      <td>0</td>\n",
       "      <td>0</td>\n",
       "      <td>0</td>\n",
       "      <td>0</td>\n",
       "    </tr>\n",
       "  </tbody>\n",
       "</table>\n",
       "<p>20 rows × 1000 columns</p>\n",
       "</div>"
      ],
      "text/plain": [
       "          product_id_34  product_id_45  product_id_196  product_id_260  \\\n",
       "order_id                                                                 \n",
       "14                    0              0               0               0   \n",
       "22                    0              0               0               0   \n",
       "23                    0              0               0               0   \n",
       "25                    0              0               0               0   \n",
       "38                    0              0               0               0   \n",
       "40                    0              0               0               0   \n",
       "45                    0              0               0               0   \n",
       "56                    0              0               0               0   \n",
       "65                    0              0               0               0   \n",
       "71                    0              0               0               0   \n",
       "74                    0              0               0               0   \n",
       "83                    0              0               0               0   \n",
       "84                    0              0               0               0   \n",
       "90                    0              0               0               0   \n",
       "92                    0              0               0               0   \n",
       "96                    0              0               0               0   \n",
       "98                    0              0               0               0   \n",
       "101                   0              0               0               0   \n",
       "102                   0              0               0               0   \n",
       "104                   0              0               0               0   \n",
       "\n",
       "          product_id_311  product_id_329  product_id_365  product_id_432  \\\n",
       "order_id                                                                   \n",
       "14                     0               0               0               0   \n",
       "22                     0               0               0               0   \n",
       "23                     0               0               0               0   \n",
       "25                     0               0               0               0   \n",
       "38                     0               0               0               0   \n",
       "40                     0               0               0               0   \n",
       "45                     0               0               0               0   \n",
       "56                     0               0               0               0   \n",
       "65                     0               0               0               0   \n",
       "71                     0               0               0               0   \n",
       "74                     0               0               0               0   \n",
       "83                     0               0               0               0   \n",
       "84                     0               0               0               0   \n",
       "90                     0               0               0               0   \n",
       "92                     0               0               0               0   \n",
       "96                     0               0               0               0   \n",
       "98                     0               1               0               0   \n",
       "101                    0               0               0               0   \n",
       "102                    0               0               0               0   \n",
       "104                    0               0               0               0   \n",
       "\n",
       "          product_id_581  product_id_651  ...  product_id_49235  \\\n",
       "order_id                                  ...                     \n",
       "14                     0               0  ...                 0   \n",
       "22                     0               0  ...                 0   \n",
       "23                     0               0  ...                 0   \n",
       "25                     0               0  ...                 0   \n",
       "38                     0               0  ...                 0   \n",
       "40                     0               0  ...                 0   \n",
       "45                     0               0  ...                 0   \n",
       "56                     0               0  ...                 0   \n",
       "65                     0               0  ...                 0   \n",
       "71                     0               0  ...                 0   \n",
       "74                     0               0  ...                 0   \n",
       "83                     0               0  ...                 0   \n",
       "84                     0               0  ...                 0   \n",
       "90                     0               0  ...                 0   \n",
       "92                     0               0  ...                 1   \n",
       "96                     0               0  ...                 0   \n",
       "98                     0               0  ...                 0   \n",
       "101                    0               0  ...                 0   \n",
       "102                    0               0  ...                 0   \n",
       "104                    0               0  ...                 0   \n",
       "\n",
       "          product_id_49247  product_id_49383  product_id_49416  \\\n",
       "order_id                                                         \n",
       "14                       0                 0                 0   \n",
       "22                       0                 0                 0   \n",
       "23                       0                 0                 0   \n",
       "25                       0                 0                 0   \n",
       "38                       0                 0                 0   \n",
       "40                       0                 0                 0   \n",
       "45                       0                 0                 0   \n",
       "56                       0                 0                 0   \n",
       "65                       0                 0                 0   \n",
       "71                       0                 0                 0   \n",
       "74                       0                 0                 0   \n",
       "83                       0                 0                 0   \n",
       "84                       0                 0                 0   \n",
       "90                       0                 0                 0   \n",
       "92                       0                 0                 0   \n",
       "96                       0                 0                 0   \n",
       "98                       0                 0                 0   \n",
       "101                      0                 0                 0   \n",
       "102                      0                 0                 0   \n",
       "104                      0                 0                 0   \n",
       "\n",
       "          product_id_49478  product_id_49520  product_id_49533  \\\n",
       "order_id                                                         \n",
       "14                       0                 0                 0   \n",
       "22                       0                 0                 0   \n",
       "23                       0                 0                 0   \n",
       "25                       0                 0                 0   \n",
       "38                       0                 0                 0   \n",
       "40                       0                 0                 0   \n",
       "45                       0                 0                 0   \n",
       "56                       0                 0                 0   \n",
       "65                       0                 0                 0   \n",
       "71                       0                 0                 0   \n",
       "74                       0                 0                 0   \n",
       "83                       0                 0                 0   \n",
       "84                       0                 0                 0   \n",
       "90                       0                 0                 0   \n",
       "92                       0                 0                 0   \n",
       "96                       0                 0                 0   \n",
       "98                       0                 0                 0   \n",
       "101                      0                 0                 0   \n",
       "102                      0                 0                 0   \n",
       "104                      0                 0                 0   \n",
       "\n",
       "          product_id_49610  product_id_49621  product_id_49683  \n",
       "order_id                                                        \n",
       "14                       0                 0                 0  \n",
       "22                       0                 0                 0  \n",
       "23                       0                 0                 0  \n",
       "25                       0                 0                 0  \n",
       "38                       0                 0                 0  \n",
       "40                       0                 0                 0  \n",
       "45                       0                 0                 0  \n",
       "56                       0                 0                 0  \n",
       "65                       0                 0                 0  \n",
       "71                       0                 0                 0  \n",
       "74                       0                 0                 0  \n",
       "83                       0                 0                 0  \n",
       "84                       0                 0                 0  \n",
       "90                       0                 0                 0  \n",
       "92                       0                 0                 0  \n",
       "96                       0                 0                 0  \n",
       "98                       0                 0                 0  \n",
       "101                      0                 0                 0  \n",
       "102                      0                 0                 0  \n",
       "104                      0                 0                 0  \n",
       "\n",
       "[20 rows x 1000 columns]"
      ]
     },
     "execution_count": 55,
     "metadata": {},
     "output_type": "execute_result"
    }
   ],
   "source": [
    "products_ohe.head(20)"
   ]
  },
  {
   "cell_type": "code",
   "execution_count": 56,
   "id": "duplicate-fourth",
   "metadata": {},
   "outputs": [
    {
     "data": {
      "text/plain": [
       "'0.66 G'"
      ]
     },
     "execution_count": 56,
     "metadata": {},
     "output_type": "execute_result"
    }
   ],
   "source": [
    "size(products_ohe)"
   ]
  },
  {
   "cell_type": "code",
   "execution_count": 57,
   "id": "ruled-mortality",
   "metadata": {},
   "outputs": [
    {
     "data": {
      "text/plain": [
       "(659580, 1000)"
      ]
     },
     "execution_count": 57,
     "metadata": {},
     "output_type": "execute_result"
    }
   ],
   "source": [
    "#(10383795, 601)\n",
    "products_ohe.shape"
   ]
  },
  {
   "cell_type": "code",
   "execution_count": 58,
   "id": "linear-turning",
   "metadata": {},
   "outputs": [
    {
     "name": "stdout",
     "output_type": "stream",
     "text": [
      "<class 'pandas.core.frame.DataFrame'>\n",
      "UInt64Index: 659580 entries, 14 to 3421080\n",
      "Columns: 1000 entries, product_id_34 to product_id_49683\n",
      "dtypes: uint8(1000)\n",
      "memory usage: 634.1 MB\n"
     ]
    }
   ],
   "source": [
    "products_ohe.info()"
   ]
  },
  {
   "cell_type": "code",
   "execution_count": null,
   "id": "excited-editing",
   "metadata": {},
   "outputs": [],
   "source": []
  },
  {
   "cell_type": "code",
   "execution_count": 59,
   "id": "leading-guarantee",
   "metadata": {},
   "outputs": [],
   "source": [
    "with open('./data/products_ohe_reduced_{}.pkl'.format(n_products), 'wb') as f:\n",
    "        pickle.dump(products_ohe, f)"
   ]
  },
  {
   "cell_type": "code",
   "execution_count": 60,
   "id": "ultimate-specialist",
   "metadata": {},
   "outputs": [],
   "source": [
    "#with open('./data/products_ohe_reduced_{}.pkl'.format(n_products), 'rb') as f: \n",
    "#        products_ohe = pickle.load(f)"
   ]
  },
  {
   "cell_type": "code",
   "execution_count": null,
   "id": "extensive-storm",
   "metadata": {},
   "outputs": [],
   "source": []
  },
  {
   "cell_type": "markdown",
   "id": "warming-circus",
   "metadata": {},
   "source": [
    "Finally, split into X and y. X corresponds to prior orders, y to train orders (if confused, think of \"train\" as \"next\" orders in the train sample)."
   ]
  },
  {
   "cell_type": "code",
   "execution_count": 61,
   "id": "separate-temperature",
   "metadata": {},
   "outputs": [
    {
     "name": "stdout",
     "output_type": "stream",
     "text": [
      "(785132, 3) (50000, 3)\n"
     ]
    }
   ],
   "source": [
    "orders_train_X = orders_train[orders_train['eval_set']=='prior'].drop('eval_set',axis=1)\n",
    "orders_train_y = orders_train[orders_train['eval_set']=='train'].drop('eval_set',axis=1)\n",
    "\n",
    "print(orders_train_X.shape,orders_train_y.shape)"
   ]
  },
  {
   "cell_type": "code",
   "execution_count": 62,
   "id": "fourth-density",
   "metadata": {},
   "outputs": [
    {
     "data": {
      "text/plain": [
       "('0.03 G', '0.002 G')"
      ]
     },
     "execution_count": 62,
     "metadata": {},
     "output_type": "execute_result"
    }
   ],
   "source": [
    "size(orders_train_X),size(orders_train_y,3)"
   ]
  },
  {
   "cell_type": "code",
   "execution_count": 63,
   "id": "operating-breakfast",
   "metadata": {},
   "outputs": [],
   "source": [
    "del orders_train"
   ]
  },
  {
   "cell_type": "markdown",
   "id": "occasional-niger",
   "metadata": {},
   "source": [
    "### 1.5 Prepare X array <a id='1.5'></a>"
   ]
  },
  {
   "cell_type": "code",
   "execution_count": 64,
   "id": "light-poverty",
   "metadata": {},
   "outputs": [
    {
     "data": {
      "text/html": [
       "<div>\n",
       "<style scoped>\n",
       "    .dataframe tbody tr th:only-of-type {\n",
       "        vertical-align: middle;\n",
       "    }\n",
       "\n",
       "    .dataframe tbody tr th {\n",
       "        vertical-align: top;\n",
       "    }\n",
       "\n",
       "    .dataframe thead th {\n",
       "        text-align: right;\n",
       "    }\n",
       "</style>\n",
       "<table border=\"1\" class=\"dataframe\">\n",
       "  <thead>\n",
       "    <tr style=\"text-align: right;\">\n",
       "      <th></th>\n",
       "      <th>user_id</th>\n",
       "      <th>order_id</th>\n",
       "      <th>order_number</th>\n",
       "    </tr>\n",
       "  </thead>\n",
       "  <tbody>\n",
       "    <tr>\n",
       "      <th>0</th>\n",
       "      <td>1</td>\n",
       "      <td>2539329</td>\n",
       "      <td>1</td>\n",
       "    </tr>\n",
       "    <tr>\n",
       "      <th>1</th>\n",
       "      <td>1</td>\n",
       "      <td>2398795</td>\n",
       "      <td>2</td>\n",
       "    </tr>\n",
       "    <tr>\n",
       "      <th>2</th>\n",
       "      <td>1</td>\n",
       "      <td>473747</td>\n",
       "      <td>3</td>\n",
       "    </tr>\n",
       "    <tr>\n",
       "      <th>3</th>\n",
       "      <td>1</td>\n",
       "      <td>2254736</td>\n",
       "      <td>4</td>\n",
       "    </tr>\n",
       "    <tr>\n",
       "      <th>4</th>\n",
       "      <td>1</td>\n",
       "      <td>431534</td>\n",
       "      <td>5</td>\n",
       "    </tr>\n",
       "    <tr>\n",
       "      <th>5</th>\n",
       "      <td>1</td>\n",
       "      <td>3367565</td>\n",
       "      <td>6</td>\n",
       "    </tr>\n",
       "    <tr>\n",
       "      <th>6</th>\n",
       "      <td>1</td>\n",
       "      <td>550135</td>\n",
       "      <td>7</td>\n",
       "    </tr>\n",
       "    <tr>\n",
       "      <th>7</th>\n",
       "      <td>1</td>\n",
       "      <td>3108588</td>\n",
       "      <td>8</td>\n",
       "    </tr>\n",
       "    <tr>\n",
       "      <th>8</th>\n",
       "      <td>1</td>\n",
       "      <td>2295261</td>\n",
       "      <td>9</td>\n",
       "    </tr>\n",
       "    <tr>\n",
       "      <th>9</th>\n",
       "      <td>1</td>\n",
       "      <td>2550362</td>\n",
       "      <td>10</td>\n",
       "    </tr>\n",
       "    <tr>\n",
       "      <th>11</th>\n",
       "      <td>2</td>\n",
       "      <td>2168274</td>\n",
       "      <td>1</td>\n",
       "    </tr>\n",
       "    <tr>\n",
       "      <th>12</th>\n",
       "      <td>2</td>\n",
       "      <td>1501582</td>\n",
       "      <td>2</td>\n",
       "    </tr>\n",
       "    <tr>\n",
       "      <th>13</th>\n",
       "      <td>2</td>\n",
       "      <td>1901567</td>\n",
       "      <td>3</td>\n",
       "    </tr>\n",
       "    <tr>\n",
       "      <th>14</th>\n",
       "      <td>2</td>\n",
       "      <td>738281</td>\n",
       "      <td>4</td>\n",
       "    </tr>\n",
       "    <tr>\n",
       "      <th>15</th>\n",
       "      <td>2</td>\n",
       "      <td>1673511</td>\n",
       "      <td>5</td>\n",
       "    </tr>\n",
       "    <tr>\n",
       "      <th>16</th>\n",
       "      <td>2</td>\n",
       "      <td>1199898</td>\n",
       "      <td>6</td>\n",
       "    </tr>\n",
       "    <tr>\n",
       "      <th>17</th>\n",
       "      <td>2</td>\n",
       "      <td>3194192</td>\n",
       "      <td>7</td>\n",
       "    </tr>\n",
       "    <tr>\n",
       "      <th>18</th>\n",
       "      <td>2</td>\n",
       "      <td>788338</td>\n",
       "      <td>8</td>\n",
       "    </tr>\n",
       "    <tr>\n",
       "      <th>19</th>\n",
       "      <td>2</td>\n",
       "      <td>1718559</td>\n",
       "      <td>9</td>\n",
       "    </tr>\n",
       "    <tr>\n",
       "      <th>20</th>\n",
       "      <td>2</td>\n",
       "      <td>1447487</td>\n",
       "      <td>10</td>\n",
       "    </tr>\n",
       "    <tr>\n",
       "      <th>21</th>\n",
       "      <td>2</td>\n",
       "      <td>1402090</td>\n",
       "      <td>11</td>\n",
       "    </tr>\n",
       "    <tr>\n",
       "      <th>22</th>\n",
       "      <td>2</td>\n",
       "      <td>3186735</td>\n",
       "      <td>12</td>\n",
       "    </tr>\n",
       "    <tr>\n",
       "      <th>23</th>\n",
       "      <td>2</td>\n",
       "      <td>3268552</td>\n",
       "      <td>13</td>\n",
       "    </tr>\n",
       "    <tr>\n",
       "      <th>24</th>\n",
       "      <td>2</td>\n",
       "      <td>839880</td>\n",
       "      <td>14</td>\n",
       "    </tr>\n",
       "    <tr>\n",
       "      <th>26</th>\n",
       "      <td>5</td>\n",
       "      <td>2717275</td>\n",
       "      <td>1</td>\n",
       "    </tr>\n",
       "    <tr>\n",
       "      <th>27</th>\n",
       "      <td>5</td>\n",
       "      <td>1909121</td>\n",
       "      <td>2</td>\n",
       "    </tr>\n",
       "    <tr>\n",
       "      <th>28</th>\n",
       "      <td>5</td>\n",
       "      <td>2267326</td>\n",
       "      <td>3</td>\n",
       "    </tr>\n",
       "    <tr>\n",
       "      <th>29</th>\n",
       "      <td>5</td>\n",
       "      <td>157374</td>\n",
       "      <td>4</td>\n",
       "    </tr>\n",
       "    <tr>\n",
       "      <th>31</th>\n",
       "      <td>7</td>\n",
       "      <td>2565571</td>\n",
       "      <td>1</td>\n",
       "    </tr>\n",
       "    <tr>\n",
       "      <th>32</th>\n",
       "      <td>7</td>\n",
       "      <td>2402008</td>\n",
       "      <td>2</td>\n",
       "    </tr>\n",
       "  </tbody>\n",
       "</table>\n",
       "</div>"
      ],
      "text/plain": [
       "    user_id  order_id  order_number\n",
       "0         1   2539329             1\n",
       "1         1   2398795             2\n",
       "2         1    473747             3\n",
       "3         1   2254736             4\n",
       "4         1    431534             5\n",
       "5         1   3367565             6\n",
       "6         1    550135             7\n",
       "7         1   3108588             8\n",
       "8         1   2295261             9\n",
       "9         1   2550362            10\n",
       "11        2   2168274             1\n",
       "12        2   1501582             2\n",
       "13        2   1901567             3\n",
       "14        2    738281             4\n",
       "15        2   1673511             5\n",
       "16        2   1199898             6\n",
       "17        2   3194192             7\n",
       "18        2    788338             8\n",
       "19        2   1718559             9\n",
       "20        2   1447487            10\n",
       "21        2   1402090            11\n",
       "22        2   3186735            12\n",
       "23        2   3268552            13\n",
       "24        2    839880            14\n",
       "26        5   2717275             1\n",
       "27        5   1909121             2\n",
       "28        5   2267326             3\n",
       "29        5    157374             4\n",
       "31        7   2565571             1\n",
       "32        7   2402008             2"
      ]
     },
     "execution_count": 64,
     "metadata": {},
     "output_type": "execute_result"
    }
   ],
   "source": [
    "orders_train_X.head(30)"
   ]
  },
  {
   "cell_type": "markdown",
   "id": "textile-violin",
   "metadata": {},
   "source": [
    "We want only last_n_orders. Reverse order_number and cut <= 20"
   ]
  },
  {
   "cell_type": "code",
   "execution_count": 65,
   "id": "corrected-gasoline",
   "metadata": {},
   "outputs": [
    {
     "data": {
      "text/html": [
       "<div>\n",
       "<style scoped>\n",
       "    .dataframe tbody tr th:only-of-type {\n",
       "        vertical-align: middle;\n",
       "    }\n",
       "\n",
       "    .dataframe tbody tr th {\n",
       "        vertical-align: top;\n",
       "    }\n",
       "\n",
       "    .dataframe thead th {\n",
       "        text-align: right;\n",
       "    }\n",
       "</style>\n",
       "<table border=\"1\" class=\"dataframe\">\n",
       "  <thead>\n",
       "    <tr style=\"text-align: right;\">\n",
       "      <th></th>\n",
       "      <th>user_id</th>\n",
       "      <th>order_id</th>\n",
       "      <th>order_number</th>\n",
       "    </tr>\n",
       "  </thead>\n",
       "  <tbody>\n",
       "    <tr>\n",
       "      <th>0</th>\n",
       "      <td>1</td>\n",
       "      <td>2539329</td>\n",
       "      <td>10</td>\n",
       "    </tr>\n",
       "    <tr>\n",
       "      <th>1</th>\n",
       "      <td>1</td>\n",
       "      <td>2398795</td>\n",
       "      <td>9</td>\n",
       "    </tr>\n",
       "    <tr>\n",
       "      <th>2</th>\n",
       "      <td>1</td>\n",
       "      <td>473747</td>\n",
       "      <td>8</td>\n",
       "    </tr>\n",
       "    <tr>\n",
       "      <th>3</th>\n",
       "      <td>1</td>\n",
       "      <td>2254736</td>\n",
       "      <td>7</td>\n",
       "    </tr>\n",
       "    <tr>\n",
       "      <th>4</th>\n",
       "      <td>1</td>\n",
       "      <td>431534</td>\n",
       "      <td>6</td>\n",
       "    </tr>\n",
       "    <tr>\n",
       "      <th>5</th>\n",
       "      <td>1</td>\n",
       "      <td>3367565</td>\n",
       "      <td>5</td>\n",
       "    </tr>\n",
       "    <tr>\n",
       "      <th>6</th>\n",
       "      <td>1</td>\n",
       "      <td>550135</td>\n",
       "      <td>4</td>\n",
       "    </tr>\n",
       "    <tr>\n",
       "      <th>7</th>\n",
       "      <td>1</td>\n",
       "      <td>3108588</td>\n",
       "      <td>3</td>\n",
       "    </tr>\n",
       "    <tr>\n",
       "      <th>8</th>\n",
       "      <td>1</td>\n",
       "      <td>2295261</td>\n",
       "      <td>2</td>\n",
       "    </tr>\n",
       "    <tr>\n",
       "      <th>9</th>\n",
       "      <td>1</td>\n",
       "      <td>2550362</td>\n",
       "      <td>1</td>\n",
       "    </tr>\n",
       "    <tr>\n",
       "      <th>11</th>\n",
       "      <td>2</td>\n",
       "      <td>2168274</td>\n",
       "      <td>14</td>\n",
       "    </tr>\n",
       "    <tr>\n",
       "      <th>12</th>\n",
       "      <td>2</td>\n",
       "      <td>1501582</td>\n",
       "      <td>13</td>\n",
       "    </tr>\n",
       "    <tr>\n",
       "      <th>13</th>\n",
       "      <td>2</td>\n",
       "      <td>1901567</td>\n",
       "      <td>12</td>\n",
       "    </tr>\n",
       "    <tr>\n",
       "      <th>14</th>\n",
       "      <td>2</td>\n",
       "      <td>738281</td>\n",
       "      <td>11</td>\n",
       "    </tr>\n",
       "    <tr>\n",
       "      <th>15</th>\n",
       "      <td>2</td>\n",
       "      <td>1673511</td>\n",
       "      <td>10</td>\n",
       "    </tr>\n",
       "    <tr>\n",
       "      <th>16</th>\n",
       "      <td>2</td>\n",
       "      <td>1199898</td>\n",
       "      <td>9</td>\n",
       "    </tr>\n",
       "    <tr>\n",
       "      <th>17</th>\n",
       "      <td>2</td>\n",
       "      <td>3194192</td>\n",
       "      <td>8</td>\n",
       "    </tr>\n",
       "    <tr>\n",
       "      <th>18</th>\n",
       "      <td>2</td>\n",
       "      <td>788338</td>\n",
       "      <td>7</td>\n",
       "    </tr>\n",
       "    <tr>\n",
       "      <th>19</th>\n",
       "      <td>2</td>\n",
       "      <td>1718559</td>\n",
       "      <td>6</td>\n",
       "    </tr>\n",
       "    <tr>\n",
       "      <th>20</th>\n",
       "      <td>2</td>\n",
       "      <td>1447487</td>\n",
       "      <td>5</td>\n",
       "    </tr>\n",
       "  </tbody>\n",
       "</table>\n",
       "</div>"
      ],
      "text/plain": [
       "    user_id  order_id  order_number\n",
       "0         1   2539329            10\n",
       "1         1   2398795             9\n",
       "2         1    473747             8\n",
       "3         1   2254736             7\n",
       "4         1    431534             6\n",
       "5         1   3367565             5\n",
       "6         1    550135             4\n",
       "7         1   3108588             3\n",
       "8         1   2295261             2\n",
       "9         1   2550362             1\n",
       "11        2   2168274            14\n",
       "12        2   1501582            13\n",
       "13        2   1901567            12\n",
       "14        2    738281            11\n",
       "15        2   1673511            10\n",
       "16        2   1199898             9\n",
       "17        2   3194192             8\n",
       "18        2    788338             7\n",
       "19        2   1718559             6\n",
       "20        2   1447487             5"
      ]
     },
     "execution_count": 65,
     "metadata": {},
     "output_type": "execute_result"
    }
   ],
   "source": [
    "orders_train_X['order_number'] = orders_train_X.groupby('user_id').cumcount(ascending=False) + 1\n",
    "orders_train_X.head(20)"
   ]
  },
  {
   "cell_type": "code",
   "execution_count": 66,
   "id": "everyday-yukon",
   "metadata": {},
   "outputs": [
    {
     "data": {
      "text/plain": [
       "(553319, 3)"
      ]
     },
     "execution_count": 66,
     "metadata": {},
     "output_type": "execute_result"
    }
   ],
   "source": [
    "orders_train_X = orders_train_X[orders_train_X['order_number'] <= last_n_orders]\n",
    "orders_train_X.shape"
   ]
  },
  {
   "cell_type": "code",
   "execution_count": 67,
   "id": "specific-robinson",
   "metadata": {},
   "outputs": [
    {
     "data": {
      "text/plain": [
       "'0.02 G'"
      ]
     },
     "execution_count": 67,
     "metadata": {},
     "output_type": "execute_result"
    }
   ],
   "source": [
    "size(orders_train_X)"
   ]
  },
  {
   "cell_type": "markdown",
   "id": "selected-country",
   "metadata": {},
   "source": [
    "And reverse order_number back to the original numbers"
   ]
  },
  {
   "cell_type": "code",
   "execution_count": 68,
   "id": "documented-january",
   "metadata": {},
   "outputs": [
    {
     "data": {
      "text/html": [
       "<div>\n",
       "<style scoped>\n",
       "    .dataframe tbody tr th:only-of-type {\n",
       "        vertical-align: middle;\n",
       "    }\n",
       "\n",
       "    .dataframe tbody tr th {\n",
       "        vertical-align: top;\n",
       "    }\n",
       "\n",
       "    .dataframe thead th {\n",
       "        text-align: right;\n",
       "    }\n",
       "</style>\n",
       "<table border=\"1\" class=\"dataframe\">\n",
       "  <thead>\n",
       "    <tr style=\"text-align: right;\">\n",
       "      <th></th>\n",
       "      <th>user_id</th>\n",
       "      <th>order_id</th>\n",
       "      <th>order_number</th>\n",
       "    </tr>\n",
       "  </thead>\n",
       "  <tbody>\n",
       "    <tr>\n",
       "      <th>0</th>\n",
       "      <td>1</td>\n",
       "      <td>2539329</td>\n",
       "      <td>10</td>\n",
       "    </tr>\n",
       "    <tr>\n",
       "      <th>1</th>\n",
       "      <td>1</td>\n",
       "      <td>2398795</td>\n",
       "      <td>9</td>\n",
       "    </tr>\n",
       "    <tr>\n",
       "      <th>2</th>\n",
       "      <td>1</td>\n",
       "      <td>473747</td>\n",
       "      <td>8</td>\n",
       "    </tr>\n",
       "    <tr>\n",
       "      <th>3</th>\n",
       "      <td>1</td>\n",
       "      <td>2254736</td>\n",
       "      <td>7</td>\n",
       "    </tr>\n",
       "    <tr>\n",
       "      <th>4</th>\n",
       "      <td>1</td>\n",
       "      <td>431534</td>\n",
       "      <td>6</td>\n",
       "    </tr>\n",
       "    <tr>\n",
       "      <th>5</th>\n",
       "      <td>1</td>\n",
       "      <td>3367565</td>\n",
       "      <td>5</td>\n",
       "    </tr>\n",
       "    <tr>\n",
       "      <th>6</th>\n",
       "      <td>1</td>\n",
       "      <td>550135</td>\n",
       "      <td>4</td>\n",
       "    </tr>\n",
       "    <tr>\n",
       "      <th>7</th>\n",
       "      <td>1</td>\n",
       "      <td>3108588</td>\n",
       "      <td>3</td>\n",
       "    </tr>\n",
       "    <tr>\n",
       "      <th>8</th>\n",
       "      <td>1</td>\n",
       "      <td>2295261</td>\n",
       "      <td>2</td>\n",
       "    </tr>\n",
       "    <tr>\n",
       "      <th>9</th>\n",
       "      <td>1</td>\n",
       "      <td>2550362</td>\n",
       "      <td>1</td>\n",
       "    </tr>\n",
       "    <tr>\n",
       "      <th>11</th>\n",
       "      <td>2</td>\n",
       "      <td>2168274</td>\n",
       "      <td>14</td>\n",
       "    </tr>\n",
       "    <tr>\n",
       "      <th>12</th>\n",
       "      <td>2</td>\n",
       "      <td>1501582</td>\n",
       "      <td>13</td>\n",
       "    </tr>\n",
       "    <tr>\n",
       "      <th>13</th>\n",
       "      <td>2</td>\n",
       "      <td>1901567</td>\n",
       "      <td>12</td>\n",
       "    </tr>\n",
       "    <tr>\n",
       "      <th>14</th>\n",
       "      <td>2</td>\n",
       "      <td>738281</td>\n",
       "      <td>11</td>\n",
       "    </tr>\n",
       "    <tr>\n",
       "      <th>15</th>\n",
       "      <td>2</td>\n",
       "      <td>1673511</td>\n",
       "      <td>10</td>\n",
       "    </tr>\n",
       "    <tr>\n",
       "      <th>16</th>\n",
       "      <td>2</td>\n",
       "      <td>1199898</td>\n",
       "      <td>9</td>\n",
       "    </tr>\n",
       "    <tr>\n",
       "      <th>17</th>\n",
       "      <td>2</td>\n",
       "      <td>3194192</td>\n",
       "      <td>8</td>\n",
       "    </tr>\n",
       "    <tr>\n",
       "      <th>18</th>\n",
       "      <td>2</td>\n",
       "      <td>788338</td>\n",
       "      <td>7</td>\n",
       "    </tr>\n",
       "    <tr>\n",
       "      <th>19</th>\n",
       "      <td>2</td>\n",
       "      <td>1718559</td>\n",
       "      <td>6</td>\n",
       "    </tr>\n",
       "    <tr>\n",
       "      <th>20</th>\n",
       "      <td>2</td>\n",
       "      <td>1447487</td>\n",
       "      <td>5</td>\n",
       "    </tr>\n",
       "  </tbody>\n",
       "</table>\n",
       "</div>"
      ],
      "text/plain": [
       "    user_id  order_id  order_number\n",
       "0         1   2539329            10\n",
       "1         1   2398795             9\n",
       "2         1    473747             8\n",
       "3         1   2254736             7\n",
       "4         1    431534             6\n",
       "5         1   3367565             5\n",
       "6         1    550135             4\n",
       "7         1   3108588             3\n",
       "8         1   2295261             2\n",
       "9         1   2550362             1\n",
       "11        2   2168274            14\n",
       "12        2   1501582            13\n",
       "13        2   1901567            12\n",
       "14        2    738281            11\n",
       "15        2   1673511            10\n",
       "16        2   1199898             9\n",
       "17        2   3194192             8\n",
       "18        2    788338             7\n",
       "19        2   1718559             6\n",
       "20        2   1447487             5"
      ]
     },
     "execution_count": 68,
     "metadata": {},
     "output_type": "execute_result"
    }
   ],
   "source": [
    "orders_train_X.head(20)"
   ]
  },
  {
   "cell_type": "code",
   "execution_count": 69,
   "id": "informed-mouth",
   "metadata": {},
   "outputs": [],
   "source": [
    "orders_train_X['order_number'] = orders_train_X.groupby('user_id').cumcount(ascending=False) + 1"
   ]
  },
  {
   "cell_type": "code",
   "execution_count": 70,
   "id": "basic-reggae",
   "metadata": {},
   "outputs": [
    {
     "data": {
      "text/html": [
       "<div>\n",
       "<style scoped>\n",
       "    .dataframe tbody tr th:only-of-type {\n",
       "        vertical-align: middle;\n",
       "    }\n",
       "\n",
       "    .dataframe tbody tr th {\n",
       "        vertical-align: top;\n",
       "    }\n",
       "\n",
       "    .dataframe thead th {\n",
       "        text-align: right;\n",
       "    }\n",
       "</style>\n",
       "<table border=\"1\" class=\"dataframe\">\n",
       "  <thead>\n",
       "    <tr style=\"text-align: right;\">\n",
       "      <th>order_number</th>\n",
       "      <th>1</th>\n",
       "      <th>2</th>\n",
       "      <th>3</th>\n",
       "      <th>4</th>\n",
       "      <th>5</th>\n",
       "      <th>6</th>\n",
       "      <th>7</th>\n",
       "      <th>8</th>\n",
       "      <th>9</th>\n",
       "      <th>10</th>\n",
       "      <th>11</th>\n",
       "      <th>12</th>\n",
       "      <th>13</th>\n",
       "      <th>14</th>\n",
       "      <th>15</th>\n",
       "      <th>16</th>\n",
       "      <th>17</th>\n",
       "      <th>18</th>\n",
       "      <th>19</th>\n",
       "      <th>20</th>\n",
       "    </tr>\n",
       "    <tr>\n",
       "      <th>user_id</th>\n",
       "      <th></th>\n",
       "      <th></th>\n",
       "      <th></th>\n",
       "      <th></th>\n",
       "      <th></th>\n",
       "      <th></th>\n",
       "      <th></th>\n",
       "      <th></th>\n",
       "      <th></th>\n",
       "      <th></th>\n",
       "      <th></th>\n",
       "      <th></th>\n",
       "      <th></th>\n",
       "      <th></th>\n",
       "      <th></th>\n",
       "      <th></th>\n",
       "      <th></th>\n",
       "      <th></th>\n",
       "      <th></th>\n",
       "      <th></th>\n",
       "    </tr>\n",
       "  </thead>\n",
       "  <tbody>\n",
       "    <tr>\n",
       "      <th>1</th>\n",
       "      <td>2550362</td>\n",
       "      <td>2295261</td>\n",
       "      <td>3108588</td>\n",
       "      <td>550135</td>\n",
       "      <td>3367565</td>\n",
       "      <td>431534</td>\n",
       "      <td>2254736</td>\n",
       "      <td>473747</td>\n",
       "      <td>2398795</td>\n",
       "      <td>2539329</td>\n",
       "      <td>0</td>\n",
       "      <td>0</td>\n",
       "      <td>0</td>\n",
       "      <td>0</td>\n",
       "      <td>0</td>\n",
       "      <td>0</td>\n",
       "      <td>0</td>\n",
       "      <td>0</td>\n",
       "      <td>0</td>\n",
       "      <td>0</td>\n",
       "    </tr>\n",
       "    <tr>\n",
       "      <th>2</th>\n",
       "      <td>839880</td>\n",
       "      <td>3268552</td>\n",
       "      <td>3186735</td>\n",
       "      <td>1402090</td>\n",
       "      <td>1447487</td>\n",
       "      <td>1718559</td>\n",
       "      <td>788338</td>\n",
       "      <td>3194192</td>\n",
       "      <td>1199898</td>\n",
       "      <td>1673511</td>\n",
       "      <td>738281</td>\n",
       "      <td>1901567</td>\n",
       "      <td>1501582</td>\n",
       "      <td>2168274</td>\n",
       "      <td>0</td>\n",
       "      <td>0</td>\n",
       "      <td>0</td>\n",
       "      <td>0</td>\n",
       "      <td>0</td>\n",
       "      <td>0</td>\n",
       "    </tr>\n",
       "    <tr>\n",
       "      <th>5</th>\n",
       "      <td>157374</td>\n",
       "      <td>2267326</td>\n",
       "      <td>1909121</td>\n",
       "      <td>2717275</td>\n",
       "      <td>0</td>\n",
       "      <td>0</td>\n",
       "      <td>0</td>\n",
       "      <td>0</td>\n",
       "      <td>0</td>\n",
       "      <td>0</td>\n",
       "      <td>0</td>\n",
       "      <td>0</td>\n",
       "      <td>0</td>\n",
       "      <td>0</td>\n",
       "      <td>0</td>\n",
       "      <td>0</td>\n",
       "      <td>0</td>\n",
       "      <td>0</td>\n",
       "      <td>0</td>\n",
       "      <td>0</td>\n",
       "    </tr>\n",
       "    <tr>\n",
       "      <th>7</th>\n",
       "      <td>2452257</td>\n",
       "      <td>369015</td>\n",
       "      <td>2984707</td>\n",
       "      <td>23391</td>\n",
       "      <td>2425840</td>\n",
       "      <td>3120740</td>\n",
       "      <td>3060817</td>\n",
       "      <td>1175028</td>\n",
       "      <td>3239072</td>\n",
       "      <td>565870</td>\n",
       "      <td>1396119</td>\n",
       "      <td>2507052</td>\n",
       "      <td>776265</td>\n",
       "      <td>1014379</td>\n",
       "      <td>1682003</td>\n",
       "      <td>3321109</td>\n",
       "      <td>1695742</td>\n",
       "      <td>121053</td>\n",
       "      <td>2402008</td>\n",
       "      <td>2565571</td>\n",
       "    </tr>\n",
       "    <tr>\n",
       "      <th>8</th>\n",
       "      <td>2570360</td>\n",
       "      <td>2979257</td>\n",
       "      <td>600894</td>\n",
       "      <td>0</td>\n",
       "      <td>0</td>\n",
       "      <td>0</td>\n",
       "      <td>0</td>\n",
       "      <td>0</td>\n",
       "      <td>0</td>\n",
       "      <td>0</td>\n",
       "      <td>0</td>\n",
       "      <td>0</td>\n",
       "      <td>0</td>\n",
       "      <td>0</td>\n",
       "      <td>0</td>\n",
       "      <td>0</td>\n",
       "      <td>0</td>\n",
       "      <td>0</td>\n",
       "      <td>0</td>\n",
       "      <td>0</td>\n",
       "    </tr>\n",
       "    <tr>\n",
       "      <th>9</th>\n",
       "      <td>1830137</td>\n",
       "      <td>2762092</td>\n",
       "      <td>280530</td>\n",
       "      <td>0</td>\n",
       "      <td>0</td>\n",
       "      <td>0</td>\n",
       "      <td>0</td>\n",
       "      <td>0</td>\n",
       "      <td>0</td>\n",
       "      <td>0</td>\n",
       "      <td>0</td>\n",
       "      <td>0</td>\n",
       "      <td>0</td>\n",
       "      <td>0</td>\n",
       "      <td>0</td>\n",
       "      <td>0</td>\n",
       "      <td>0</td>\n",
       "      <td>0</td>\n",
       "      <td>0</td>\n",
       "      <td>0</td>\n",
       "    </tr>\n",
       "    <tr>\n",
       "      <th>10</th>\n",
       "      <td>1353310</td>\n",
       "      <td>83395</td>\n",
       "      <td>2115522</td>\n",
       "      <td>68288</td>\n",
       "      <td>1224907</td>\n",
       "      <td>0</td>\n",
       "      <td>0</td>\n",
       "      <td>0</td>\n",
       "      <td>0</td>\n",
       "      <td>0</td>\n",
       "      <td>0</td>\n",
       "      <td>0</td>\n",
       "      <td>0</td>\n",
       "      <td>0</td>\n",
       "      <td>0</td>\n",
       "      <td>0</td>\n",
       "      <td>0</td>\n",
       "      <td>0</td>\n",
       "      <td>0</td>\n",
       "      <td>0</td>\n",
       "    </tr>\n",
       "    <tr>\n",
       "      <th>13</th>\n",
       "      <td>1789302</td>\n",
       "      <td>1472646</td>\n",
       "      <td>2298068</td>\n",
       "      <td>519471</td>\n",
       "      <td>1757094</td>\n",
       "      <td>1906169</td>\n",
       "      <td>2363981</td>\n",
       "      <td>1378982</td>\n",
       "      <td>19256</td>\n",
       "      <td>2288946</td>\n",
       "      <td>2560699</td>\n",
       "      <td>2618231</td>\n",
       "      <td>0</td>\n",
       "      <td>0</td>\n",
       "      <td>0</td>\n",
       "      <td>0</td>\n",
       "      <td>0</td>\n",
       "      <td>0</td>\n",
       "      <td>0</td>\n",
       "      <td>0</td>\n",
       "    </tr>\n",
       "    <tr>\n",
       "      <th>14</th>\n",
       "      <td>3394109</td>\n",
       "      <td>2045336</td>\n",
       "      <td>1335295</td>\n",
       "      <td>1625325</td>\n",
       "      <td>2109666</td>\n",
       "      <td>3067644</td>\n",
       "      <td>2505309</td>\n",
       "      <td>2127409</td>\n",
       "      <td>1691859</td>\n",
       "      <td>1385564</td>\n",
       "      <td>1366559</td>\n",
       "      <td>3206747</td>\n",
       "      <td>2906263</td>\n",
       "      <td>0</td>\n",
       "      <td>0</td>\n",
       "      <td>0</td>\n",
       "      <td>0</td>\n",
       "      <td>0</td>\n",
       "      <td>0</td>\n",
       "      <td>0</td>\n",
       "    </tr>\n",
       "    <tr>\n",
       "      <th>17</th>\n",
       "      <td>3350883</td>\n",
       "      <td>348137</td>\n",
       "      <td>1385397</td>\n",
       "      <td>2831726</td>\n",
       "      <td>674977</td>\n",
       "      <td>2773605</td>\n",
       "      <td>791858</td>\n",
       "      <td>2553089</td>\n",
       "      <td>2760791</td>\n",
       "      <td>3327122</td>\n",
       "      <td>2148135</td>\n",
       "      <td>697863</td>\n",
       "      <td>3314059</td>\n",
       "      <td>1385847</td>\n",
       "      <td>343199</td>\n",
       "      <td>2795254</td>\n",
       "      <td>1683378</td>\n",
       "      <td>3069802</td>\n",
       "      <td>603376</td>\n",
       "      <td>3141030</td>\n",
       "    </tr>\n",
       "    <tr>\n",
       "      <th>18</th>\n",
       "      <td>441977</td>\n",
       "      <td>1020460</td>\n",
       "      <td>3133044</td>\n",
       "      <td>1860960</td>\n",
       "      <td>3106101</td>\n",
       "      <td>2780889</td>\n",
       "      <td>0</td>\n",
       "      <td>0</td>\n",
       "      <td>0</td>\n",
       "      <td>0</td>\n",
       "      <td>0</td>\n",
       "      <td>0</td>\n",
       "      <td>0</td>\n",
       "      <td>0</td>\n",
       "      <td>0</td>\n",
       "      <td>0</td>\n",
       "      <td>0</td>\n",
       "      <td>0</td>\n",
       "      <td>0</td>\n",
       "      <td>0</td>\n",
       "    </tr>\n",
       "    <tr>\n",
       "      <th>21</th>\n",
       "      <td>3341737</td>\n",
       "      <td>865324</td>\n",
       "      <td>2057208</td>\n",
       "      <td>2097221</td>\n",
       "      <td>1110781</td>\n",
       "      <td>1996394</td>\n",
       "      <td>1735495</td>\n",
       "      <td>497940</td>\n",
       "      <td>1776467</td>\n",
       "      <td>1322450</td>\n",
       "      <td>2941505</td>\n",
       "      <td>1431584</td>\n",
       "      <td>1806047</td>\n",
       "      <td>1413723</td>\n",
       "      <td>77791</td>\n",
       "      <td>1674891</td>\n",
       "      <td>1953572</td>\n",
       "      <td>774475</td>\n",
       "      <td>3257456</td>\n",
       "      <td>1082944</td>\n",
       "    </tr>\n",
       "    <tr>\n",
       "      <th>23</th>\n",
       "      <td>1072926</td>\n",
       "      <td>1902489</td>\n",
       "      <td>8382</td>\n",
       "      <td>1792521</td>\n",
       "      <td>0</td>\n",
       "      <td>0</td>\n",
       "      <td>0</td>\n",
       "      <td>0</td>\n",
       "      <td>0</td>\n",
       "      <td>0</td>\n",
       "      <td>0</td>\n",
       "      <td>0</td>\n",
       "      <td>0</td>\n",
       "      <td>0</td>\n",
       "      <td>0</td>\n",
       "      <td>0</td>\n",
       "      <td>0</td>\n",
       "      <td>0</td>\n",
       "      <td>0</td>\n",
       "      <td>0</td>\n",
       "    </tr>\n",
       "    <tr>\n",
       "      <th>24</th>\n",
       "      <td>173172</td>\n",
       "      <td>196008</td>\n",
       "      <td>2635041</td>\n",
       "      <td>1368577</td>\n",
       "      <td>1103927</td>\n",
       "      <td>2586085</td>\n",
       "      <td>2126098</td>\n",
       "      <td>3320181</td>\n",
       "      <td>3354579</td>\n",
       "      <td>1640680</td>\n",
       "      <td>3064712</td>\n",
       "      <td>1415679</td>\n",
       "      <td>816714</td>\n",
       "      <td>118133</td>\n",
       "      <td>2877797</td>\n",
       "      <td>1511050</td>\n",
       "      <td>1869748</td>\n",
       "      <td>611214</td>\n",
       "      <td>0</td>\n",
       "      <td>0</td>\n",
       "    </tr>\n",
       "    <tr>\n",
       "      <th>27</th>\n",
       "      <td>1573122</td>\n",
       "      <td>1837192</td>\n",
       "      <td>2546638</td>\n",
       "      <td>568636</td>\n",
       "      <td>625018</td>\n",
       "      <td>3276527</td>\n",
       "      <td>264488</td>\n",
       "      <td>2138705</td>\n",
       "      <td>994572</td>\n",
       "      <td>1225000</td>\n",
       "      <td>2569634</td>\n",
       "      <td>1250733</td>\n",
       "      <td>2999232</td>\n",
       "      <td>1560223</td>\n",
       "      <td>1832360</td>\n",
       "      <td>2325503</td>\n",
       "      <td>804483</td>\n",
       "      <td>2716757</td>\n",
       "      <td>7099</td>\n",
       "      <td>771049</td>\n",
       "    </tr>\n",
       "    <tr>\n",
       "      <th>29</th>\n",
       "      <td>1647841</td>\n",
       "      <td>1748639</td>\n",
       "      <td>2376709</td>\n",
       "      <td>3202175</td>\n",
       "      <td>3090640</td>\n",
       "      <td>620971</td>\n",
       "      <td>1062536</td>\n",
       "      <td>2865794</td>\n",
       "      <td>3167222</td>\n",
       "      <td>685887</td>\n",
       "      <td>2655002</td>\n",
       "      <td>1049206</td>\n",
       "      <td>370715</td>\n",
       "      <td>1207762</td>\n",
       "      <td>2999889</td>\n",
       "      <td>2657652</td>\n",
       "      <td>875452</td>\n",
       "      <td>2064090</td>\n",
       "      <td>0</td>\n",
       "      <td>0</td>\n",
       "    </tr>\n",
       "    <tr>\n",
       "      <th>30</th>\n",
       "      <td>3333738</td>\n",
       "      <td>137318</td>\n",
       "      <td>2299885</td>\n",
       "      <td>986094</td>\n",
       "      <td>1645927</td>\n",
       "      <td>3169631</td>\n",
       "      <td>2156000</td>\n",
       "      <td>375303</td>\n",
       "      <td>0</td>\n",
       "      <td>0</td>\n",
       "      <td>0</td>\n",
       "      <td>0</td>\n",
       "      <td>0</td>\n",
       "      <td>0</td>\n",
       "      <td>0</td>\n",
       "      <td>0</td>\n",
       "      <td>0</td>\n",
       "      <td>0</td>\n",
       "      <td>0</td>\n",
       "      <td>0</td>\n",
       "    </tr>\n",
       "    <tr>\n",
       "      <th>34</th>\n",
       "      <td>2344038</td>\n",
       "      <td>1951139</td>\n",
       "      <td>1916863</td>\n",
       "      <td>1569834</td>\n",
       "      <td>2383661</td>\n",
       "      <td>0</td>\n",
       "      <td>0</td>\n",
       "      <td>0</td>\n",
       "      <td>0</td>\n",
       "      <td>0</td>\n",
       "      <td>0</td>\n",
       "      <td>0</td>\n",
       "      <td>0</td>\n",
       "      <td>0</td>\n",
       "      <td>0</td>\n",
       "      <td>0</td>\n",
       "      <td>0</td>\n",
       "      <td>0</td>\n",
       "      <td>0</td>\n",
       "      <td>0</td>\n",
       "    </tr>\n",
       "    <tr>\n",
       "      <th>37</th>\n",
       "      <td>1727614</td>\n",
       "      <td>1294288</td>\n",
       "      <td>3268585</td>\n",
       "      <td>841710</td>\n",
       "      <td>2326295</td>\n",
       "      <td>2615608</td>\n",
       "      <td>1179244</td>\n",
       "      <td>1854906</td>\n",
       "      <td>1751600</td>\n",
       "      <td>1394419</td>\n",
       "      <td>1740853</td>\n",
       "      <td>712331</td>\n",
       "      <td>2484696</td>\n",
       "      <td>1736749</td>\n",
       "      <td>1145920</td>\n",
       "      <td>711999</td>\n",
       "      <td>2568429</td>\n",
       "      <td>484397</td>\n",
       "      <td>2449761</td>\n",
       "      <td>2153671</td>\n",
       "    </tr>\n",
       "    <tr>\n",
       "      <th>38</th>\n",
       "      <td>2479273</td>\n",
       "      <td>725451</td>\n",
       "      <td>2980672</td>\n",
       "      <td>3204829</td>\n",
       "      <td>795223</td>\n",
       "      <td>894015</td>\n",
       "      <td>718156</td>\n",
       "      <td>1244041</td>\n",
       "      <td>1691300</td>\n",
       "      <td>1588002</td>\n",
       "      <td>1308004</td>\n",
       "      <td>2873174</td>\n",
       "      <td>0</td>\n",
       "      <td>0</td>\n",
       "      <td>0</td>\n",
       "      <td>0</td>\n",
       "      <td>0</td>\n",
       "      <td>0</td>\n",
       "      <td>0</td>\n",
       "      <td>0</td>\n",
       "    </tr>\n",
       "  </tbody>\n",
       "</table>\n",
       "</div>"
      ],
      "text/plain": [
       "order_number       1        2        3        4        5        6        7   \\\n",
       "user_id                                                                       \n",
       "1             2550362  2295261  3108588   550135  3367565   431534  2254736   \n",
       "2              839880  3268552  3186735  1402090  1447487  1718559   788338   \n",
       "5              157374  2267326  1909121  2717275        0        0        0   \n",
       "7             2452257   369015  2984707    23391  2425840  3120740  3060817   \n",
       "8             2570360  2979257   600894        0        0        0        0   \n",
       "9             1830137  2762092   280530        0        0        0        0   \n",
       "10            1353310    83395  2115522    68288  1224907        0        0   \n",
       "13            1789302  1472646  2298068   519471  1757094  1906169  2363981   \n",
       "14            3394109  2045336  1335295  1625325  2109666  3067644  2505309   \n",
       "17            3350883   348137  1385397  2831726   674977  2773605   791858   \n",
       "18             441977  1020460  3133044  1860960  3106101  2780889        0   \n",
       "21            3341737   865324  2057208  2097221  1110781  1996394  1735495   \n",
       "23            1072926  1902489     8382  1792521        0        0        0   \n",
       "24             173172   196008  2635041  1368577  1103927  2586085  2126098   \n",
       "27            1573122  1837192  2546638   568636   625018  3276527   264488   \n",
       "29            1647841  1748639  2376709  3202175  3090640   620971  1062536   \n",
       "30            3333738   137318  2299885   986094  1645927  3169631  2156000   \n",
       "34            2344038  1951139  1916863  1569834  2383661        0        0   \n",
       "37            1727614  1294288  3268585   841710  2326295  2615608  1179244   \n",
       "38            2479273   725451  2980672  3204829   795223   894015   718156   \n",
       "\n",
       "order_number       8        9        10       11       12       13       14  \\\n",
       "user_id                                                                       \n",
       "1              473747  2398795  2539329        0        0        0        0   \n",
       "2             3194192  1199898  1673511   738281  1901567  1501582  2168274   \n",
       "5                   0        0        0        0        0        0        0   \n",
       "7             1175028  3239072   565870  1396119  2507052   776265  1014379   \n",
       "8                   0        0        0        0        0        0        0   \n",
       "9                   0        0        0        0        0        0        0   \n",
       "10                  0        0        0        0        0        0        0   \n",
       "13            1378982    19256  2288946  2560699  2618231        0        0   \n",
       "14            2127409  1691859  1385564  1366559  3206747  2906263        0   \n",
       "17            2553089  2760791  3327122  2148135   697863  3314059  1385847   \n",
       "18                  0        0        0        0        0        0        0   \n",
       "21             497940  1776467  1322450  2941505  1431584  1806047  1413723   \n",
       "23                  0        0        0        0        0        0        0   \n",
       "24            3320181  3354579  1640680  3064712  1415679   816714   118133   \n",
       "27            2138705   994572  1225000  2569634  1250733  2999232  1560223   \n",
       "29            2865794  3167222   685887  2655002  1049206   370715  1207762   \n",
       "30             375303        0        0        0        0        0        0   \n",
       "34                  0        0        0        0        0        0        0   \n",
       "37            1854906  1751600  1394419  1740853   712331  2484696  1736749   \n",
       "38            1244041  1691300  1588002  1308004  2873174        0        0   \n",
       "\n",
       "order_number       15       16       17       18       19       20  \n",
       "user_id                                                             \n",
       "1                   0        0        0        0        0        0  \n",
       "2                   0        0        0        0        0        0  \n",
       "5                   0        0        0        0        0        0  \n",
       "7             1682003  3321109  1695742   121053  2402008  2565571  \n",
       "8                   0        0        0        0        0        0  \n",
       "9                   0        0        0        0        0        0  \n",
       "10                  0        0        0        0        0        0  \n",
       "13                  0        0        0        0        0        0  \n",
       "14                  0        0        0        0        0        0  \n",
       "17             343199  2795254  1683378  3069802   603376  3141030  \n",
       "18                  0        0        0        0        0        0  \n",
       "21              77791  1674891  1953572   774475  3257456  1082944  \n",
       "23                  0        0        0        0        0        0  \n",
       "24            2877797  1511050  1869748   611214        0        0  \n",
       "27            1832360  2325503   804483  2716757     7099   771049  \n",
       "29            2999889  2657652   875452  2064090        0        0  \n",
       "30                  0        0        0        0        0        0  \n",
       "34                  0        0        0        0        0        0  \n",
       "37            1145920   711999  2568429   484397  2449761  2153671  \n",
       "38                  0        0        0        0        0        0  "
      ]
     },
     "execution_count": 70,
     "metadata": {},
     "output_type": "execute_result"
    }
   ],
   "source": [
    "orders_train_X = orders_train_X.pivot(index='user_id',columns='order_number',values='order_id').fillna(0).astype('uint')\n",
    "orders_train_X.head(20)"
   ]
  },
  {
   "cell_type": "code",
   "execution_count": 71,
   "id": "muslim-raleigh",
   "metadata": {},
   "outputs": [],
   "source": [
    "orders_train_X = orders_train_X[orders_train_X.columns[::-1]].stack()\n",
    "orders_train_X.name = 'order_id'\n",
    "orders_train_X = orders_train_X.reset_index()"
   ]
  },
  {
   "cell_type": "code",
   "execution_count": 72,
   "id": "driven-update",
   "metadata": {},
   "outputs": [
    {
     "data": {
      "text/html": [
       "<div>\n",
       "<style scoped>\n",
       "    .dataframe tbody tr th:only-of-type {\n",
       "        vertical-align: middle;\n",
       "    }\n",
       "\n",
       "    .dataframe tbody tr th {\n",
       "        vertical-align: top;\n",
       "    }\n",
       "\n",
       "    .dataframe thead th {\n",
       "        text-align: right;\n",
       "    }\n",
       "</style>\n",
       "<table border=\"1\" class=\"dataframe\">\n",
       "  <thead>\n",
       "    <tr style=\"text-align: right;\">\n",
       "      <th></th>\n",
       "      <th>user_id</th>\n",
       "      <th>order_number</th>\n",
       "      <th>order_id</th>\n",
       "    </tr>\n",
       "  </thead>\n",
       "  <tbody>\n",
       "    <tr>\n",
       "      <th>0</th>\n",
       "      <td>1</td>\n",
       "      <td>20</td>\n",
       "      <td>0</td>\n",
       "    </tr>\n",
       "    <tr>\n",
       "      <th>1</th>\n",
       "      <td>1</td>\n",
       "      <td>19</td>\n",
       "      <td>0</td>\n",
       "    </tr>\n",
       "    <tr>\n",
       "      <th>2</th>\n",
       "      <td>1</td>\n",
       "      <td>18</td>\n",
       "      <td>0</td>\n",
       "    </tr>\n",
       "    <tr>\n",
       "      <th>3</th>\n",
       "      <td>1</td>\n",
       "      <td>17</td>\n",
       "      <td>0</td>\n",
       "    </tr>\n",
       "    <tr>\n",
       "      <th>4</th>\n",
       "      <td>1</td>\n",
       "      <td>16</td>\n",
       "      <td>0</td>\n",
       "    </tr>\n",
       "    <tr>\n",
       "      <th>5</th>\n",
       "      <td>1</td>\n",
       "      <td>15</td>\n",
       "      <td>0</td>\n",
       "    </tr>\n",
       "    <tr>\n",
       "      <th>6</th>\n",
       "      <td>1</td>\n",
       "      <td>14</td>\n",
       "      <td>0</td>\n",
       "    </tr>\n",
       "    <tr>\n",
       "      <th>7</th>\n",
       "      <td>1</td>\n",
       "      <td>13</td>\n",
       "      <td>0</td>\n",
       "    </tr>\n",
       "    <tr>\n",
       "      <th>8</th>\n",
       "      <td>1</td>\n",
       "      <td>12</td>\n",
       "      <td>0</td>\n",
       "    </tr>\n",
       "    <tr>\n",
       "      <th>9</th>\n",
       "      <td>1</td>\n",
       "      <td>11</td>\n",
       "      <td>0</td>\n",
       "    </tr>\n",
       "    <tr>\n",
       "      <th>10</th>\n",
       "      <td>1</td>\n",
       "      <td>10</td>\n",
       "      <td>2539329</td>\n",
       "    </tr>\n",
       "    <tr>\n",
       "      <th>11</th>\n",
       "      <td>1</td>\n",
       "      <td>9</td>\n",
       "      <td>2398795</td>\n",
       "    </tr>\n",
       "    <tr>\n",
       "      <th>12</th>\n",
       "      <td>1</td>\n",
       "      <td>8</td>\n",
       "      <td>473747</td>\n",
       "    </tr>\n",
       "    <tr>\n",
       "      <th>13</th>\n",
       "      <td>1</td>\n",
       "      <td>7</td>\n",
       "      <td>2254736</td>\n",
       "    </tr>\n",
       "    <tr>\n",
       "      <th>14</th>\n",
       "      <td>1</td>\n",
       "      <td>6</td>\n",
       "      <td>431534</td>\n",
       "    </tr>\n",
       "    <tr>\n",
       "      <th>15</th>\n",
       "      <td>1</td>\n",
       "      <td>5</td>\n",
       "      <td>3367565</td>\n",
       "    </tr>\n",
       "    <tr>\n",
       "      <th>16</th>\n",
       "      <td>1</td>\n",
       "      <td>4</td>\n",
       "      <td>550135</td>\n",
       "    </tr>\n",
       "    <tr>\n",
       "      <th>17</th>\n",
       "      <td>1</td>\n",
       "      <td>3</td>\n",
       "      <td>3108588</td>\n",
       "    </tr>\n",
       "    <tr>\n",
       "      <th>18</th>\n",
       "      <td>1</td>\n",
       "      <td>2</td>\n",
       "      <td>2295261</td>\n",
       "    </tr>\n",
       "    <tr>\n",
       "      <th>19</th>\n",
       "      <td>1</td>\n",
       "      <td>1</td>\n",
       "      <td>2550362</td>\n",
       "    </tr>\n",
       "    <tr>\n",
       "      <th>20</th>\n",
       "      <td>2</td>\n",
       "      <td>20</td>\n",
       "      <td>0</td>\n",
       "    </tr>\n",
       "    <tr>\n",
       "      <th>21</th>\n",
       "      <td>2</td>\n",
       "      <td>19</td>\n",
       "      <td>0</td>\n",
       "    </tr>\n",
       "    <tr>\n",
       "      <th>22</th>\n",
       "      <td>2</td>\n",
       "      <td>18</td>\n",
       "      <td>0</td>\n",
       "    </tr>\n",
       "    <tr>\n",
       "      <th>23</th>\n",
       "      <td>2</td>\n",
       "      <td>17</td>\n",
       "      <td>0</td>\n",
       "    </tr>\n",
       "    <tr>\n",
       "      <th>24</th>\n",
       "      <td>2</td>\n",
       "      <td>16</td>\n",
       "      <td>0</td>\n",
       "    </tr>\n",
       "    <tr>\n",
       "      <th>25</th>\n",
       "      <td>2</td>\n",
       "      <td>15</td>\n",
       "      <td>0</td>\n",
       "    </tr>\n",
       "    <tr>\n",
       "      <th>26</th>\n",
       "      <td>2</td>\n",
       "      <td>14</td>\n",
       "      <td>2168274</td>\n",
       "    </tr>\n",
       "    <tr>\n",
       "      <th>27</th>\n",
       "      <td>2</td>\n",
       "      <td>13</td>\n",
       "      <td>1501582</td>\n",
       "    </tr>\n",
       "    <tr>\n",
       "      <th>28</th>\n",
       "      <td>2</td>\n",
       "      <td>12</td>\n",
       "      <td>1901567</td>\n",
       "    </tr>\n",
       "    <tr>\n",
       "      <th>29</th>\n",
       "      <td>2</td>\n",
       "      <td>11</td>\n",
       "      <td>738281</td>\n",
       "    </tr>\n",
       "    <tr>\n",
       "      <th>30</th>\n",
       "      <td>2</td>\n",
       "      <td>10</td>\n",
       "      <td>1673511</td>\n",
       "    </tr>\n",
       "    <tr>\n",
       "      <th>31</th>\n",
       "      <td>2</td>\n",
       "      <td>9</td>\n",
       "      <td>1199898</td>\n",
       "    </tr>\n",
       "    <tr>\n",
       "      <th>32</th>\n",
       "      <td>2</td>\n",
       "      <td>8</td>\n",
       "      <td>3194192</td>\n",
       "    </tr>\n",
       "    <tr>\n",
       "      <th>33</th>\n",
       "      <td>2</td>\n",
       "      <td>7</td>\n",
       "      <td>788338</td>\n",
       "    </tr>\n",
       "    <tr>\n",
       "      <th>34</th>\n",
       "      <td>2</td>\n",
       "      <td>6</td>\n",
       "      <td>1718559</td>\n",
       "    </tr>\n",
       "    <tr>\n",
       "      <th>35</th>\n",
       "      <td>2</td>\n",
       "      <td>5</td>\n",
       "      <td>1447487</td>\n",
       "    </tr>\n",
       "    <tr>\n",
       "      <th>36</th>\n",
       "      <td>2</td>\n",
       "      <td>4</td>\n",
       "      <td>1402090</td>\n",
       "    </tr>\n",
       "    <tr>\n",
       "      <th>37</th>\n",
       "      <td>2</td>\n",
       "      <td>3</td>\n",
       "      <td>3186735</td>\n",
       "    </tr>\n",
       "    <tr>\n",
       "      <th>38</th>\n",
       "      <td>2</td>\n",
       "      <td>2</td>\n",
       "      <td>3268552</td>\n",
       "    </tr>\n",
       "    <tr>\n",
       "      <th>39</th>\n",
       "      <td>2</td>\n",
       "      <td>1</td>\n",
       "      <td>839880</td>\n",
       "    </tr>\n",
       "  </tbody>\n",
       "</table>\n",
       "</div>"
      ],
      "text/plain": [
       "    user_id  order_number  order_id\n",
       "0         1            20         0\n",
       "1         1            19         0\n",
       "2         1            18         0\n",
       "3         1            17         0\n",
       "4         1            16         0\n",
       "5         1            15         0\n",
       "6         1            14         0\n",
       "7         1            13         0\n",
       "8         1            12         0\n",
       "9         1            11         0\n",
       "10        1            10   2539329\n",
       "11        1             9   2398795\n",
       "12        1             8    473747\n",
       "13        1             7   2254736\n",
       "14        1             6    431534\n",
       "15        1             5   3367565\n",
       "16        1             4    550135\n",
       "17        1             3   3108588\n",
       "18        1             2   2295261\n",
       "19        1             1   2550362\n",
       "20        2            20         0\n",
       "21        2            19         0\n",
       "22        2            18         0\n",
       "23        2            17         0\n",
       "24        2            16         0\n",
       "25        2            15         0\n",
       "26        2            14   2168274\n",
       "27        2            13   1501582\n",
       "28        2            12   1901567\n",
       "29        2            11    738281\n",
       "30        2            10   1673511\n",
       "31        2             9   1199898\n",
       "32        2             8   3194192\n",
       "33        2             7    788338\n",
       "34        2             6   1718559\n",
       "35        2             5   1447487\n",
       "36        2             4   1402090\n",
       "37        2             3   3186735\n",
       "38        2             2   3268552\n",
       "39        2             1    839880"
      ]
     },
     "execution_count": 72,
     "metadata": {},
     "output_type": "execute_result"
    }
   ],
   "source": [
    "orders_train_X.head(40)"
   ]
  },
  {
   "cell_type": "code",
   "execution_count": 73,
   "id": "oriental-nicaragua",
   "metadata": {},
   "outputs": [
    {
     "data": {
      "text/plain": [
       "user_id\n",
       "1    20\n",
       "2    20\n",
       "5    20\n",
       "7    20\n",
       "8    20\n",
       "Name: order_number, dtype: int64"
      ]
     },
     "execution_count": 73,
     "metadata": {},
     "output_type": "execute_result"
    }
   ],
   "source": [
    "orders_train_X.groupby('user_id')['order_number'].count().head()"
   ]
  },
  {
   "cell_type": "code",
   "execution_count": 74,
   "id": "middle-security",
   "metadata": {},
   "outputs": [
    {
     "data": {
      "text/html": [
       "<div>\n",
       "<style scoped>\n",
       "    .dataframe tbody tr th:only-of-type {\n",
       "        vertical-align: middle;\n",
       "    }\n",
       "\n",
       "    .dataframe tbody tr th {\n",
       "        vertical-align: top;\n",
       "    }\n",
       "\n",
       "    .dataframe thead th {\n",
       "        text-align: right;\n",
       "    }\n",
       "</style>\n",
       "<table border=\"1\" class=\"dataframe\">\n",
       "  <thead>\n",
       "    <tr style=\"text-align: right;\">\n",
       "      <th></th>\n",
       "      <th>user_id</th>\n",
       "      <th>order_id</th>\n",
       "    </tr>\n",
       "  </thead>\n",
       "  <tbody>\n",
       "    <tr>\n",
       "      <th>0</th>\n",
       "      <td>1</td>\n",
       "      <td>0</td>\n",
       "    </tr>\n",
       "    <tr>\n",
       "      <th>1</th>\n",
       "      <td>1</td>\n",
       "      <td>0</td>\n",
       "    </tr>\n",
       "    <tr>\n",
       "      <th>2</th>\n",
       "      <td>1</td>\n",
       "      <td>0</td>\n",
       "    </tr>\n",
       "    <tr>\n",
       "      <th>3</th>\n",
       "      <td>1</td>\n",
       "      <td>0</td>\n",
       "    </tr>\n",
       "    <tr>\n",
       "      <th>4</th>\n",
       "      <td>1</td>\n",
       "      <td>0</td>\n",
       "    </tr>\n",
       "    <tr>\n",
       "      <th>5</th>\n",
       "      <td>1</td>\n",
       "      <td>0</td>\n",
       "    </tr>\n",
       "    <tr>\n",
       "      <th>6</th>\n",
       "      <td>1</td>\n",
       "      <td>0</td>\n",
       "    </tr>\n",
       "    <tr>\n",
       "      <th>7</th>\n",
       "      <td>1</td>\n",
       "      <td>0</td>\n",
       "    </tr>\n",
       "    <tr>\n",
       "      <th>8</th>\n",
       "      <td>1</td>\n",
       "      <td>0</td>\n",
       "    </tr>\n",
       "    <tr>\n",
       "      <th>9</th>\n",
       "      <td>1</td>\n",
       "      <td>0</td>\n",
       "    </tr>\n",
       "    <tr>\n",
       "      <th>10</th>\n",
       "      <td>1</td>\n",
       "      <td>2539329</td>\n",
       "    </tr>\n",
       "    <tr>\n",
       "      <th>11</th>\n",
       "      <td>1</td>\n",
       "      <td>2398795</td>\n",
       "    </tr>\n",
       "    <tr>\n",
       "      <th>12</th>\n",
       "      <td>1</td>\n",
       "      <td>473747</td>\n",
       "    </tr>\n",
       "    <tr>\n",
       "      <th>13</th>\n",
       "      <td>1</td>\n",
       "      <td>2254736</td>\n",
       "    </tr>\n",
       "    <tr>\n",
       "      <th>14</th>\n",
       "      <td>1</td>\n",
       "      <td>431534</td>\n",
       "    </tr>\n",
       "    <tr>\n",
       "      <th>15</th>\n",
       "      <td>1</td>\n",
       "      <td>3367565</td>\n",
       "    </tr>\n",
       "    <tr>\n",
       "      <th>16</th>\n",
       "      <td>1</td>\n",
       "      <td>550135</td>\n",
       "    </tr>\n",
       "    <tr>\n",
       "      <th>17</th>\n",
       "      <td>1</td>\n",
       "      <td>3108588</td>\n",
       "    </tr>\n",
       "    <tr>\n",
       "      <th>18</th>\n",
       "      <td>1</td>\n",
       "      <td>2295261</td>\n",
       "    </tr>\n",
       "    <tr>\n",
       "      <th>19</th>\n",
       "      <td>1</td>\n",
       "      <td>2550362</td>\n",
       "    </tr>\n",
       "    <tr>\n",
       "      <th>20</th>\n",
       "      <td>2</td>\n",
       "      <td>0</td>\n",
       "    </tr>\n",
       "    <tr>\n",
       "      <th>21</th>\n",
       "      <td>2</td>\n",
       "      <td>0</td>\n",
       "    </tr>\n",
       "    <tr>\n",
       "      <th>22</th>\n",
       "      <td>2</td>\n",
       "      <td>0</td>\n",
       "    </tr>\n",
       "    <tr>\n",
       "      <th>23</th>\n",
       "      <td>2</td>\n",
       "      <td>0</td>\n",
       "    </tr>\n",
       "    <tr>\n",
       "      <th>24</th>\n",
       "      <td>2</td>\n",
       "      <td>0</td>\n",
       "    </tr>\n",
       "    <tr>\n",
       "      <th>25</th>\n",
       "      <td>2</td>\n",
       "      <td>0</td>\n",
       "    </tr>\n",
       "    <tr>\n",
       "      <th>26</th>\n",
       "      <td>2</td>\n",
       "      <td>2168274</td>\n",
       "    </tr>\n",
       "    <tr>\n",
       "      <th>27</th>\n",
       "      <td>2</td>\n",
       "      <td>1501582</td>\n",
       "    </tr>\n",
       "    <tr>\n",
       "      <th>28</th>\n",
       "      <td>2</td>\n",
       "      <td>1901567</td>\n",
       "    </tr>\n",
       "    <tr>\n",
       "      <th>29</th>\n",
       "      <td>2</td>\n",
       "      <td>738281</td>\n",
       "    </tr>\n",
       "    <tr>\n",
       "      <th>30</th>\n",
       "      <td>2</td>\n",
       "      <td>1673511</td>\n",
       "    </tr>\n",
       "    <tr>\n",
       "      <th>31</th>\n",
       "      <td>2</td>\n",
       "      <td>1199898</td>\n",
       "    </tr>\n",
       "    <tr>\n",
       "      <th>32</th>\n",
       "      <td>2</td>\n",
       "      <td>3194192</td>\n",
       "    </tr>\n",
       "    <tr>\n",
       "      <th>33</th>\n",
       "      <td>2</td>\n",
       "      <td>788338</td>\n",
       "    </tr>\n",
       "    <tr>\n",
       "      <th>34</th>\n",
       "      <td>2</td>\n",
       "      <td>1718559</td>\n",
       "    </tr>\n",
       "    <tr>\n",
       "      <th>35</th>\n",
       "      <td>2</td>\n",
       "      <td>1447487</td>\n",
       "    </tr>\n",
       "    <tr>\n",
       "      <th>36</th>\n",
       "      <td>2</td>\n",
       "      <td>1402090</td>\n",
       "    </tr>\n",
       "    <tr>\n",
       "      <th>37</th>\n",
       "      <td>2</td>\n",
       "      <td>3186735</td>\n",
       "    </tr>\n",
       "    <tr>\n",
       "      <th>38</th>\n",
       "      <td>2</td>\n",
       "      <td>3268552</td>\n",
       "    </tr>\n",
       "    <tr>\n",
       "      <th>39</th>\n",
       "      <td>2</td>\n",
       "      <td>839880</td>\n",
       "    </tr>\n",
       "  </tbody>\n",
       "</table>\n",
       "</div>"
      ],
      "text/plain": [
       "    user_id  order_id\n",
       "0         1         0\n",
       "1         1         0\n",
       "2         1         0\n",
       "3         1         0\n",
       "4         1         0\n",
       "5         1         0\n",
       "6         1         0\n",
       "7         1         0\n",
       "8         1         0\n",
       "9         1         0\n",
       "10        1   2539329\n",
       "11        1   2398795\n",
       "12        1    473747\n",
       "13        1   2254736\n",
       "14        1    431534\n",
       "15        1   3367565\n",
       "16        1    550135\n",
       "17        1   3108588\n",
       "18        1   2295261\n",
       "19        1   2550362\n",
       "20        2         0\n",
       "21        2         0\n",
       "22        2         0\n",
       "23        2         0\n",
       "24        2         0\n",
       "25        2         0\n",
       "26        2   2168274\n",
       "27        2   1501582\n",
       "28        2   1901567\n",
       "29        2    738281\n",
       "30        2   1673511\n",
       "31        2   1199898\n",
       "32        2   3194192\n",
       "33        2    788338\n",
       "34        2   1718559\n",
       "35        2   1447487\n",
       "36        2   1402090\n",
       "37        2   3186735\n",
       "38        2   3268552\n",
       "39        2    839880"
      ]
     },
     "execution_count": 74,
     "metadata": {},
     "output_type": "execute_result"
    }
   ],
   "source": [
    "orders_train_X = orders_train_X.drop('order_number',axis=1)\n",
    "orders_train_X.head(40)"
   ]
  },
  {
   "cell_type": "code",
   "execution_count": 75,
   "id": "forced-thumb",
   "metadata": {},
   "outputs": [
    {
     "data": {
      "text/plain": [
       "((1000000, 2), '0.02 G')"
      ]
     },
     "execution_count": 75,
     "metadata": {},
     "output_type": "execute_result"
    }
   ],
   "source": [
    "orders_train_X.shape,size(orders_train_X)"
   ]
  },
  {
   "cell_type": "code",
   "execution_count": 76,
   "id": "sorted-isolation",
   "metadata": {},
   "outputs": [
    {
     "name": "stdout",
     "output_type": "stream",
     "text": [
      "<class 'pandas.core.frame.DataFrame'>\n",
      "RangeIndex: 1000000 entries, 0 to 999999\n",
      "Data columns (total 2 columns):\n",
      " #   Column    Non-Null Count    Dtype \n",
      "---  ------    --------------    ----- \n",
      " 0   user_id   1000000 non-null  int64 \n",
      " 1   order_id  1000000 non-null  uint64\n",
      "dtypes: int64(1), uint64(1)\n",
      "memory usage: 15.3 MB\n"
     ]
    }
   ],
   "source": [
    "orders_train_X.info()"
   ]
  },
  {
   "cell_type": "code",
   "execution_count": 77,
   "id": "declared-rally",
   "metadata": {},
   "outputs": [
    {
     "data": {
      "text/plain": [
       "(0, 3421072)"
      ]
     },
     "execution_count": 77,
     "metadata": {},
     "output_type": "execute_result"
    }
   ],
   "source": [
    "orders_train_X['order_id'].min(),orders_train_X['order_id'].max()"
   ]
  },
  {
   "cell_type": "markdown",
   "id": "thermal-latino",
   "metadata": {},
   "source": [
    "What's the highest value? "
   ]
  },
  {
   "cell_type": "code",
   "execution_count": 78,
   "id": "educated-cologne",
   "metadata": {},
   "outputs": [
    {
     "data": {
      "text/plain": [
       "78707"
      ]
     },
     "execution_count": 78,
     "metadata": {},
     "output_type": "execute_result"
    }
   ],
   "source": [
    "orders_train_X['user_id'].max()"
   ]
  },
  {
   "cell_type": "markdown",
   "id": "passing-booth",
   "metadata": {},
   "source": [
    "We can easily convert typefrom uint64 to uint8. "
   ]
  },
  {
   "cell_type": "markdown",
   "id": "indoor-injury",
   "metadata": {},
   "source": [
    "Let's first merge X with products, then covert to uint8."
   ]
  },
  {
   "cell_type": "code",
   "execution_count": 79,
   "id": "figured-piece",
   "metadata": {},
   "outputs": [],
   "source": [
    "def merge(x,p):\n",
    "    return x.merge(p,on='order_id',how='left').fillna(0).astype('uint')"
   ]
  },
  {
   "cell_type": "code",
   "execution_count": 80,
   "id": "conceptual-relations",
   "metadata": {},
   "outputs": [],
   "source": [
    "orders_train_X = merge(orders_train_X,products_ohe)"
   ]
  },
  {
   "cell_type": "code",
   "execution_count": 81,
   "id": "statistical-banana",
   "metadata": {},
   "outputs": [
    {
     "data": {
      "text/html": [
       "<div>\n",
       "<style scoped>\n",
       "    .dataframe tbody tr th:only-of-type {\n",
       "        vertical-align: middle;\n",
       "    }\n",
       "\n",
       "    .dataframe tbody tr th {\n",
       "        vertical-align: top;\n",
       "    }\n",
       "\n",
       "    .dataframe thead th {\n",
       "        text-align: right;\n",
       "    }\n",
       "</style>\n",
       "<table border=\"1\" class=\"dataframe\">\n",
       "  <thead>\n",
       "    <tr style=\"text-align: right;\">\n",
       "      <th></th>\n",
       "      <th>user_id</th>\n",
       "      <th>order_id</th>\n",
       "      <th>product_id_34</th>\n",
       "      <th>product_id_45</th>\n",
       "      <th>product_id_196</th>\n",
       "      <th>product_id_260</th>\n",
       "      <th>product_id_311</th>\n",
       "      <th>product_id_329</th>\n",
       "      <th>product_id_365</th>\n",
       "      <th>product_id_432</th>\n",
       "      <th>...</th>\n",
       "      <th>product_id_49235</th>\n",
       "      <th>product_id_49247</th>\n",
       "      <th>product_id_49383</th>\n",
       "      <th>product_id_49416</th>\n",
       "      <th>product_id_49478</th>\n",
       "      <th>product_id_49520</th>\n",
       "      <th>product_id_49533</th>\n",
       "      <th>product_id_49610</th>\n",
       "      <th>product_id_49621</th>\n",
       "      <th>product_id_49683</th>\n",
       "    </tr>\n",
       "  </thead>\n",
       "  <tbody>\n",
       "    <tr>\n",
       "      <th>0</th>\n",
       "      <td>1</td>\n",
       "      <td>0</td>\n",
       "      <td>0</td>\n",
       "      <td>0</td>\n",
       "      <td>0</td>\n",
       "      <td>0</td>\n",
       "      <td>0</td>\n",
       "      <td>0</td>\n",
       "      <td>0</td>\n",
       "      <td>0</td>\n",
       "      <td>...</td>\n",
       "      <td>0</td>\n",
       "      <td>0</td>\n",
       "      <td>0</td>\n",
       "      <td>0</td>\n",
       "      <td>0</td>\n",
       "      <td>0</td>\n",
       "      <td>0</td>\n",
       "      <td>0</td>\n",
       "      <td>0</td>\n",
       "      <td>0</td>\n",
       "    </tr>\n",
       "    <tr>\n",
       "      <th>1</th>\n",
       "      <td>1</td>\n",
       "      <td>0</td>\n",
       "      <td>0</td>\n",
       "      <td>0</td>\n",
       "      <td>0</td>\n",
       "      <td>0</td>\n",
       "      <td>0</td>\n",
       "      <td>0</td>\n",
       "      <td>0</td>\n",
       "      <td>0</td>\n",
       "      <td>...</td>\n",
       "      <td>0</td>\n",
       "      <td>0</td>\n",
       "      <td>0</td>\n",
       "      <td>0</td>\n",
       "      <td>0</td>\n",
       "      <td>0</td>\n",
       "      <td>0</td>\n",
       "      <td>0</td>\n",
       "      <td>0</td>\n",
       "      <td>0</td>\n",
       "    </tr>\n",
       "    <tr>\n",
       "      <th>2</th>\n",
       "      <td>1</td>\n",
       "      <td>0</td>\n",
       "      <td>0</td>\n",
       "      <td>0</td>\n",
       "      <td>0</td>\n",
       "      <td>0</td>\n",
       "      <td>0</td>\n",
       "      <td>0</td>\n",
       "      <td>0</td>\n",
       "      <td>0</td>\n",
       "      <td>...</td>\n",
       "      <td>0</td>\n",
       "      <td>0</td>\n",
       "      <td>0</td>\n",
       "      <td>0</td>\n",
       "      <td>0</td>\n",
       "      <td>0</td>\n",
       "      <td>0</td>\n",
       "      <td>0</td>\n",
       "      <td>0</td>\n",
       "      <td>0</td>\n",
       "    </tr>\n",
       "    <tr>\n",
       "      <th>3</th>\n",
       "      <td>1</td>\n",
       "      <td>0</td>\n",
       "      <td>0</td>\n",
       "      <td>0</td>\n",
       "      <td>0</td>\n",
       "      <td>0</td>\n",
       "      <td>0</td>\n",
       "      <td>0</td>\n",
       "      <td>0</td>\n",
       "      <td>0</td>\n",
       "      <td>...</td>\n",
       "      <td>0</td>\n",
       "      <td>0</td>\n",
       "      <td>0</td>\n",
       "      <td>0</td>\n",
       "      <td>0</td>\n",
       "      <td>0</td>\n",
       "      <td>0</td>\n",
       "      <td>0</td>\n",
       "      <td>0</td>\n",
       "      <td>0</td>\n",
       "    </tr>\n",
       "    <tr>\n",
       "      <th>4</th>\n",
       "      <td>1</td>\n",
       "      <td>0</td>\n",
       "      <td>0</td>\n",
       "      <td>0</td>\n",
       "      <td>0</td>\n",
       "      <td>0</td>\n",
       "      <td>0</td>\n",
       "      <td>0</td>\n",
       "      <td>0</td>\n",
       "      <td>0</td>\n",
       "      <td>...</td>\n",
       "      <td>0</td>\n",
       "      <td>0</td>\n",
       "      <td>0</td>\n",
       "      <td>0</td>\n",
       "      <td>0</td>\n",
       "      <td>0</td>\n",
       "      <td>0</td>\n",
       "      <td>0</td>\n",
       "      <td>0</td>\n",
       "      <td>0</td>\n",
       "    </tr>\n",
       "    <tr>\n",
       "      <th>5</th>\n",
       "      <td>1</td>\n",
       "      <td>0</td>\n",
       "      <td>0</td>\n",
       "      <td>0</td>\n",
       "      <td>0</td>\n",
       "      <td>0</td>\n",
       "      <td>0</td>\n",
       "      <td>0</td>\n",
       "      <td>0</td>\n",
       "      <td>0</td>\n",
       "      <td>...</td>\n",
       "      <td>0</td>\n",
       "      <td>0</td>\n",
       "      <td>0</td>\n",
       "      <td>0</td>\n",
       "      <td>0</td>\n",
       "      <td>0</td>\n",
       "      <td>0</td>\n",
       "      <td>0</td>\n",
       "      <td>0</td>\n",
       "      <td>0</td>\n",
       "    </tr>\n",
       "    <tr>\n",
       "      <th>6</th>\n",
       "      <td>1</td>\n",
       "      <td>0</td>\n",
       "      <td>0</td>\n",
       "      <td>0</td>\n",
       "      <td>0</td>\n",
       "      <td>0</td>\n",
       "      <td>0</td>\n",
       "      <td>0</td>\n",
       "      <td>0</td>\n",
       "      <td>0</td>\n",
       "      <td>...</td>\n",
       "      <td>0</td>\n",
       "      <td>0</td>\n",
       "      <td>0</td>\n",
       "      <td>0</td>\n",
       "      <td>0</td>\n",
       "      <td>0</td>\n",
       "      <td>0</td>\n",
       "      <td>0</td>\n",
       "      <td>0</td>\n",
       "      <td>0</td>\n",
       "    </tr>\n",
       "    <tr>\n",
       "      <th>7</th>\n",
       "      <td>1</td>\n",
       "      <td>0</td>\n",
       "      <td>0</td>\n",
       "      <td>0</td>\n",
       "      <td>0</td>\n",
       "      <td>0</td>\n",
       "      <td>0</td>\n",
       "      <td>0</td>\n",
       "      <td>0</td>\n",
       "      <td>0</td>\n",
       "      <td>...</td>\n",
       "      <td>0</td>\n",
       "      <td>0</td>\n",
       "      <td>0</td>\n",
       "      <td>0</td>\n",
       "      <td>0</td>\n",
       "      <td>0</td>\n",
       "      <td>0</td>\n",
       "      <td>0</td>\n",
       "      <td>0</td>\n",
       "      <td>0</td>\n",
       "    </tr>\n",
       "    <tr>\n",
       "      <th>8</th>\n",
       "      <td>1</td>\n",
       "      <td>0</td>\n",
       "      <td>0</td>\n",
       "      <td>0</td>\n",
       "      <td>0</td>\n",
       "      <td>0</td>\n",
       "      <td>0</td>\n",
       "      <td>0</td>\n",
       "      <td>0</td>\n",
       "      <td>0</td>\n",
       "      <td>...</td>\n",
       "      <td>0</td>\n",
       "      <td>0</td>\n",
       "      <td>0</td>\n",
       "      <td>0</td>\n",
       "      <td>0</td>\n",
       "      <td>0</td>\n",
       "      <td>0</td>\n",
       "      <td>0</td>\n",
       "      <td>0</td>\n",
       "      <td>0</td>\n",
       "    </tr>\n",
       "    <tr>\n",
       "      <th>9</th>\n",
       "      <td>1</td>\n",
       "      <td>0</td>\n",
       "      <td>0</td>\n",
       "      <td>0</td>\n",
       "      <td>0</td>\n",
       "      <td>0</td>\n",
       "      <td>0</td>\n",
       "      <td>0</td>\n",
       "      <td>0</td>\n",
       "      <td>0</td>\n",
       "      <td>...</td>\n",
       "      <td>0</td>\n",
       "      <td>0</td>\n",
       "      <td>0</td>\n",
       "      <td>0</td>\n",
       "      <td>0</td>\n",
       "      <td>0</td>\n",
       "      <td>0</td>\n",
       "      <td>0</td>\n",
       "      <td>0</td>\n",
       "      <td>0</td>\n",
       "    </tr>\n",
       "    <tr>\n",
       "      <th>10</th>\n",
       "      <td>1</td>\n",
       "      <td>2539329</td>\n",
       "      <td>0</td>\n",
       "      <td>0</td>\n",
       "      <td>0</td>\n",
       "      <td>0</td>\n",
       "      <td>0</td>\n",
       "      <td>0</td>\n",
       "      <td>0</td>\n",
       "      <td>0</td>\n",
       "      <td>...</td>\n",
       "      <td>0</td>\n",
       "      <td>0</td>\n",
       "      <td>0</td>\n",
       "      <td>0</td>\n",
       "      <td>0</td>\n",
       "      <td>0</td>\n",
       "      <td>0</td>\n",
       "      <td>0</td>\n",
       "      <td>0</td>\n",
       "      <td>0</td>\n",
       "    </tr>\n",
       "    <tr>\n",
       "      <th>11</th>\n",
       "      <td>1</td>\n",
       "      <td>2398795</td>\n",
       "      <td>0</td>\n",
       "      <td>0</td>\n",
       "      <td>1</td>\n",
       "      <td>0</td>\n",
       "      <td>0</td>\n",
       "      <td>0</td>\n",
       "      <td>0</td>\n",
       "      <td>0</td>\n",
       "      <td>...</td>\n",
       "      <td>0</td>\n",
       "      <td>0</td>\n",
       "      <td>0</td>\n",
       "      <td>0</td>\n",
       "      <td>0</td>\n",
       "      <td>0</td>\n",
       "      <td>0</td>\n",
       "      <td>0</td>\n",
       "      <td>0</td>\n",
       "      <td>0</td>\n",
       "    </tr>\n",
       "    <tr>\n",
       "      <th>12</th>\n",
       "      <td>1</td>\n",
       "      <td>473747</td>\n",
       "      <td>0</td>\n",
       "      <td>0</td>\n",
       "      <td>1</td>\n",
       "      <td>0</td>\n",
       "      <td>0</td>\n",
       "      <td>0</td>\n",
       "      <td>0</td>\n",
       "      <td>0</td>\n",
       "      <td>...</td>\n",
       "      <td>0</td>\n",
       "      <td>0</td>\n",
       "      <td>0</td>\n",
       "      <td>0</td>\n",
       "      <td>0</td>\n",
       "      <td>0</td>\n",
       "      <td>0</td>\n",
       "      <td>0</td>\n",
       "      <td>0</td>\n",
       "      <td>0</td>\n",
       "    </tr>\n",
       "    <tr>\n",
       "      <th>13</th>\n",
       "      <td>1</td>\n",
       "      <td>2254736</td>\n",
       "      <td>0</td>\n",
       "      <td>0</td>\n",
       "      <td>1</td>\n",
       "      <td>0</td>\n",
       "      <td>0</td>\n",
       "      <td>0</td>\n",
       "      <td>0</td>\n",
       "      <td>0</td>\n",
       "      <td>...</td>\n",
       "      <td>0</td>\n",
       "      <td>0</td>\n",
       "      <td>0</td>\n",
       "      <td>0</td>\n",
       "      <td>0</td>\n",
       "      <td>0</td>\n",
       "      <td>0</td>\n",
       "      <td>0</td>\n",
       "      <td>0</td>\n",
       "      <td>0</td>\n",
       "    </tr>\n",
       "    <tr>\n",
       "      <th>14</th>\n",
       "      <td>1</td>\n",
       "      <td>431534</td>\n",
       "      <td>0</td>\n",
       "      <td>0</td>\n",
       "      <td>1</td>\n",
       "      <td>0</td>\n",
       "      <td>0</td>\n",
       "      <td>0</td>\n",
       "      <td>0</td>\n",
       "      <td>0</td>\n",
       "      <td>...</td>\n",
       "      <td>0</td>\n",
       "      <td>0</td>\n",
       "      <td>0</td>\n",
       "      <td>0</td>\n",
       "      <td>0</td>\n",
       "      <td>0</td>\n",
       "      <td>0</td>\n",
       "      <td>0</td>\n",
       "      <td>0</td>\n",
       "      <td>0</td>\n",
       "    </tr>\n",
       "    <tr>\n",
       "      <th>15</th>\n",
       "      <td>1</td>\n",
       "      <td>3367565</td>\n",
       "      <td>0</td>\n",
       "      <td>0</td>\n",
       "      <td>1</td>\n",
       "      <td>0</td>\n",
       "      <td>0</td>\n",
       "      <td>0</td>\n",
       "      <td>0</td>\n",
       "      <td>0</td>\n",
       "      <td>...</td>\n",
       "      <td>0</td>\n",
       "      <td>0</td>\n",
       "      <td>0</td>\n",
       "      <td>0</td>\n",
       "      <td>0</td>\n",
       "      <td>0</td>\n",
       "      <td>0</td>\n",
       "      <td>0</td>\n",
       "      <td>0</td>\n",
       "      <td>0</td>\n",
       "    </tr>\n",
       "    <tr>\n",
       "      <th>16</th>\n",
       "      <td>1</td>\n",
       "      <td>550135</td>\n",
       "      <td>0</td>\n",
       "      <td>0</td>\n",
       "      <td>1</td>\n",
       "      <td>0</td>\n",
       "      <td>0</td>\n",
       "      <td>0</td>\n",
       "      <td>0</td>\n",
       "      <td>0</td>\n",
       "      <td>...</td>\n",
       "      <td>0</td>\n",
       "      <td>0</td>\n",
       "      <td>0</td>\n",
       "      <td>0</td>\n",
       "      <td>0</td>\n",
       "      <td>0</td>\n",
       "      <td>0</td>\n",
       "      <td>0</td>\n",
       "      <td>0</td>\n",
       "      <td>0</td>\n",
       "    </tr>\n",
       "    <tr>\n",
       "      <th>17</th>\n",
       "      <td>1</td>\n",
       "      <td>3108588</td>\n",
       "      <td>0</td>\n",
       "      <td>0</td>\n",
       "      <td>1</td>\n",
       "      <td>0</td>\n",
       "      <td>0</td>\n",
       "      <td>0</td>\n",
       "      <td>0</td>\n",
       "      <td>0</td>\n",
       "      <td>...</td>\n",
       "      <td>0</td>\n",
       "      <td>0</td>\n",
       "      <td>0</td>\n",
       "      <td>0</td>\n",
       "      <td>0</td>\n",
       "      <td>0</td>\n",
       "      <td>0</td>\n",
       "      <td>0</td>\n",
       "      <td>0</td>\n",
       "      <td>0</td>\n",
       "    </tr>\n",
       "    <tr>\n",
       "      <th>18</th>\n",
       "      <td>1</td>\n",
       "      <td>2295261</td>\n",
       "      <td>0</td>\n",
       "      <td>0</td>\n",
       "      <td>1</td>\n",
       "      <td>0</td>\n",
       "      <td>0</td>\n",
       "      <td>0</td>\n",
       "      <td>0</td>\n",
       "      <td>0</td>\n",
       "      <td>...</td>\n",
       "      <td>1</td>\n",
       "      <td>0</td>\n",
       "      <td>0</td>\n",
       "      <td>0</td>\n",
       "      <td>0</td>\n",
       "      <td>0</td>\n",
       "      <td>0</td>\n",
       "      <td>0</td>\n",
       "      <td>0</td>\n",
       "      <td>0</td>\n",
       "    </tr>\n",
       "    <tr>\n",
       "      <th>19</th>\n",
       "      <td>1</td>\n",
       "      <td>2550362</td>\n",
       "      <td>0</td>\n",
       "      <td>0</td>\n",
       "      <td>1</td>\n",
       "      <td>0</td>\n",
       "      <td>0</td>\n",
       "      <td>0</td>\n",
       "      <td>0</td>\n",
       "      <td>0</td>\n",
       "      <td>...</td>\n",
       "      <td>0</td>\n",
       "      <td>0</td>\n",
       "      <td>0</td>\n",
       "      <td>0</td>\n",
       "      <td>0</td>\n",
       "      <td>0</td>\n",
       "      <td>0</td>\n",
       "      <td>0</td>\n",
       "      <td>0</td>\n",
       "      <td>0</td>\n",
       "    </tr>\n",
       "  </tbody>\n",
       "</table>\n",
       "<p>20 rows × 1002 columns</p>\n",
       "</div>"
      ],
      "text/plain": [
       "    user_id  order_id  product_id_34  product_id_45  product_id_196  \\\n",
       "0         1         0              0              0               0   \n",
       "1         1         0              0              0               0   \n",
       "2         1         0              0              0               0   \n",
       "3         1         0              0              0               0   \n",
       "4         1         0              0              0               0   \n",
       "5         1         0              0              0               0   \n",
       "6         1         0              0              0               0   \n",
       "7         1         0              0              0               0   \n",
       "8         1         0              0              0               0   \n",
       "9         1         0              0              0               0   \n",
       "10        1   2539329              0              0               0   \n",
       "11        1   2398795              0              0               1   \n",
       "12        1    473747              0              0               1   \n",
       "13        1   2254736              0              0               1   \n",
       "14        1    431534              0              0               1   \n",
       "15        1   3367565              0              0               1   \n",
       "16        1    550135              0              0               1   \n",
       "17        1   3108588              0              0               1   \n",
       "18        1   2295261              0              0               1   \n",
       "19        1   2550362              0              0               1   \n",
       "\n",
       "    product_id_260  product_id_311  product_id_329  product_id_365  \\\n",
       "0                0               0               0               0   \n",
       "1                0               0               0               0   \n",
       "2                0               0               0               0   \n",
       "3                0               0               0               0   \n",
       "4                0               0               0               0   \n",
       "5                0               0               0               0   \n",
       "6                0               0               0               0   \n",
       "7                0               0               0               0   \n",
       "8                0               0               0               0   \n",
       "9                0               0               0               0   \n",
       "10               0               0               0               0   \n",
       "11               0               0               0               0   \n",
       "12               0               0               0               0   \n",
       "13               0               0               0               0   \n",
       "14               0               0               0               0   \n",
       "15               0               0               0               0   \n",
       "16               0               0               0               0   \n",
       "17               0               0               0               0   \n",
       "18               0               0               0               0   \n",
       "19               0               0               0               0   \n",
       "\n",
       "    product_id_432  ...  product_id_49235  product_id_49247  product_id_49383  \\\n",
       "0                0  ...                 0                 0                 0   \n",
       "1                0  ...                 0                 0                 0   \n",
       "2                0  ...                 0                 0                 0   \n",
       "3                0  ...                 0                 0                 0   \n",
       "4                0  ...                 0                 0                 0   \n",
       "5                0  ...                 0                 0                 0   \n",
       "6                0  ...                 0                 0                 0   \n",
       "7                0  ...                 0                 0                 0   \n",
       "8                0  ...                 0                 0                 0   \n",
       "9                0  ...                 0                 0                 0   \n",
       "10               0  ...                 0                 0                 0   \n",
       "11               0  ...                 0                 0                 0   \n",
       "12               0  ...                 0                 0                 0   \n",
       "13               0  ...                 0                 0                 0   \n",
       "14               0  ...                 0                 0                 0   \n",
       "15               0  ...                 0                 0                 0   \n",
       "16               0  ...                 0                 0                 0   \n",
       "17               0  ...                 0                 0                 0   \n",
       "18               0  ...                 1                 0                 0   \n",
       "19               0  ...                 0                 0                 0   \n",
       "\n",
       "    product_id_49416  product_id_49478  product_id_49520  product_id_49533  \\\n",
       "0                  0                 0                 0                 0   \n",
       "1                  0                 0                 0                 0   \n",
       "2                  0                 0                 0                 0   \n",
       "3                  0                 0                 0                 0   \n",
       "4                  0                 0                 0                 0   \n",
       "5                  0                 0                 0                 0   \n",
       "6                  0                 0                 0                 0   \n",
       "7                  0                 0                 0                 0   \n",
       "8                  0                 0                 0                 0   \n",
       "9                  0                 0                 0                 0   \n",
       "10                 0                 0                 0                 0   \n",
       "11                 0                 0                 0                 0   \n",
       "12                 0                 0                 0                 0   \n",
       "13                 0                 0                 0                 0   \n",
       "14                 0                 0                 0                 0   \n",
       "15                 0                 0                 0                 0   \n",
       "16                 0                 0                 0                 0   \n",
       "17                 0                 0                 0                 0   \n",
       "18                 0                 0                 0                 0   \n",
       "19                 0                 0                 0                 0   \n",
       "\n",
       "    product_id_49610  product_id_49621  product_id_49683  \n",
       "0                  0                 0                 0  \n",
       "1                  0                 0                 0  \n",
       "2                  0                 0                 0  \n",
       "3                  0                 0                 0  \n",
       "4                  0                 0                 0  \n",
       "5                  0                 0                 0  \n",
       "6                  0                 0                 0  \n",
       "7                  0                 0                 0  \n",
       "8                  0                 0                 0  \n",
       "9                  0                 0                 0  \n",
       "10                 0                 0                 0  \n",
       "11                 0                 0                 0  \n",
       "12                 0                 0                 0  \n",
       "13                 0                 0                 0  \n",
       "14                 0                 0                 0  \n",
       "15                 0                 0                 0  \n",
       "16                 0                 0                 0  \n",
       "17                 0                 0                 0  \n",
       "18                 0                 0                 0  \n",
       "19                 0                 0                 0  \n",
       "\n",
       "[20 rows x 1002 columns]"
      ]
     },
     "execution_count": 81,
     "metadata": {},
     "output_type": "execute_result"
    }
   ],
   "source": [
    "orders_train_X.head(20)"
   ]
  },
  {
   "cell_type": "code",
   "execution_count": 82,
   "id": "recorded-romance",
   "metadata": {},
   "outputs": [
    {
     "name": "stdout",
     "output_type": "stream",
     "text": [
      "<class 'pandas.core.frame.DataFrame'>\n",
      "Int64Index: 1000000 entries, 0 to 999999\n",
      "Columns: 1002 entries, user_id to product_id_49683\n",
      "dtypes: uint64(1002)\n",
      "memory usage: 7.5 GB\n"
     ]
    }
   ],
   "source": [
    "orders_train_X.info()"
   ]
  },
  {
   "cell_type": "code",
   "execution_count": 83,
   "id": "innocent-receipt",
   "metadata": {},
   "outputs": [],
   "source": [
    "for col in orders_train_X.columns[2:]:\n",
    "    orders_train_X[col] = orders_train_X[col].astype('uint8')"
   ]
  },
  {
   "cell_type": "code",
   "execution_count": 84,
   "id": "contained-emerald",
   "metadata": {},
   "outputs": [
    {
     "name": "stdout",
     "output_type": "stream",
     "text": [
      "<class 'pandas.core.frame.DataFrame'>\n",
      "Int64Index: 1000000 entries, 0 to 999999\n",
      "Columns: 1002 entries, user_id to product_id_49683\n",
      "dtypes: uint64(2), uint8(1000)\n",
      "memory usage: 976.6 MB\n"
     ]
    }
   ],
   "source": [
    "orders_train_X.info()"
   ]
  },
  {
   "cell_type": "code",
   "execution_count": null,
   "id": "mineral-showcase",
   "metadata": {},
   "outputs": [],
   "source": []
  },
  {
   "cell_type": "markdown",
   "id": "piano-alabama",
   "metadata": {},
   "source": [
    "### 1.6 Prepare y array <a id='1.6'></a>"
   ]
  },
  {
   "cell_type": "markdown",
   "id": "twelve-fruit",
   "metadata": {},
   "source": [
    "Let's repeate the same steps for the y array. This one should be much quicker, as it has one less dimension to consider."
   ]
  },
  {
   "cell_type": "code",
   "execution_count": 85,
   "id": "transsexual-century",
   "metadata": {},
   "outputs": [
    {
     "data": {
      "text/plain": [
       "'0.002 G'"
      ]
     },
     "execution_count": 85,
     "metadata": {},
     "output_type": "execute_result"
    }
   ],
   "source": [
    "size(orders_train_y,3)"
   ]
  },
  {
   "cell_type": "code",
   "execution_count": 86,
   "id": "serial-amazon",
   "metadata": {},
   "outputs": [
    {
     "data": {
      "text/html": [
       "<div>\n",
       "<style scoped>\n",
       "    .dataframe tbody tr th:only-of-type {\n",
       "        vertical-align: middle;\n",
       "    }\n",
       "\n",
       "    .dataframe tbody tr th {\n",
       "        vertical-align: top;\n",
       "    }\n",
       "\n",
       "    .dataframe thead th {\n",
       "        text-align: right;\n",
       "    }\n",
       "</style>\n",
       "<table border=\"1\" class=\"dataframe\">\n",
       "  <thead>\n",
       "    <tr style=\"text-align: right;\">\n",
       "      <th></th>\n",
       "      <th>user_id</th>\n",
       "      <th>order_id</th>\n",
       "      <th>order_number</th>\n",
       "    </tr>\n",
       "  </thead>\n",
       "  <tbody>\n",
       "    <tr>\n",
       "      <th>10</th>\n",
       "      <td>1</td>\n",
       "      <td>1187899</td>\n",
       "      <td>11</td>\n",
       "    </tr>\n",
       "    <tr>\n",
       "      <th>25</th>\n",
       "      <td>2</td>\n",
       "      <td>1492625</td>\n",
       "      <td>15</td>\n",
       "    </tr>\n",
       "    <tr>\n",
       "      <th>30</th>\n",
       "      <td>5</td>\n",
       "      <td>2196797</td>\n",
       "      <td>5</td>\n",
       "    </tr>\n",
       "    <tr>\n",
       "      <th>51</th>\n",
       "      <td>7</td>\n",
       "      <td>525192</td>\n",
       "      <td>21</td>\n",
       "    </tr>\n",
       "    <tr>\n",
       "      <th>55</th>\n",
       "      <td>8</td>\n",
       "      <td>880375</td>\n",
       "      <td>4</td>\n",
       "    </tr>\n",
       "    <tr>\n",
       "      <th>...</th>\n",
       "      <td>...</td>\n",
       "      <td>...</td>\n",
       "      <td>...</td>\n",
       "    </tr>\n",
       "    <tr>\n",
       "      <th>835072</th>\n",
       "      <td>78702</td>\n",
       "      <td>3048078</td>\n",
       "      <td>9</td>\n",
       "    </tr>\n",
       "    <tr>\n",
       "      <th>835077</th>\n",
       "      <td>78703</td>\n",
       "      <td>1260736</td>\n",
       "      <td>5</td>\n",
       "    </tr>\n",
       "    <tr>\n",
       "      <th>835081</th>\n",
       "      <td>78704</td>\n",
       "      <td>2700517</td>\n",
       "      <td>4</td>\n",
       "    </tr>\n",
       "    <tr>\n",
       "      <th>835120</th>\n",
       "      <td>78705</td>\n",
       "      <td>2160403</td>\n",
       "      <td>39</td>\n",
       "    </tr>\n",
       "    <tr>\n",
       "      <th>835131</th>\n",
       "      <td>78707</td>\n",
       "      <td>65330</td>\n",
       "      <td>11</td>\n",
       "    </tr>\n",
       "  </tbody>\n",
       "</table>\n",
       "<p>50000 rows × 3 columns</p>\n",
       "</div>"
      ],
      "text/plain": [
       "        user_id  order_id  order_number\n",
       "10            1   1187899            11\n",
       "25            2   1492625            15\n",
       "30            5   2196797             5\n",
       "51            7    525192            21\n",
       "55            8    880375             4\n",
       "...         ...       ...           ...\n",
       "835072    78702   3048078             9\n",
       "835077    78703   1260736             5\n",
       "835081    78704   2700517             4\n",
       "835120    78705   2160403            39\n",
       "835131    78707     65330            11\n",
       "\n",
       "[50000 rows x 3 columns]"
      ]
     },
     "execution_count": 86,
     "metadata": {},
     "output_type": "execute_result"
    }
   ],
   "source": [
    "orders_train_y"
   ]
  },
  {
   "cell_type": "code",
   "execution_count": 87,
   "id": "economic-threshold",
   "metadata": {},
   "outputs": [],
   "source": [
    "orders_train_y = orders_train_y.drop('order_number',axis=1)"
   ]
  },
  {
   "cell_type": "code",
   "execution_count": null,
   "id": "noted-wagon",
   "metadata": {},
   "outputs": [],
   "source": []
  },
  {
   "cell_type": "code",
   "execution_count": 88,
   "id": "veterinary-wednesday",
   "metadata": {},
   "outputs": [
    {
     "name": "stdout",
     "output_type": "stream",
     "text": [
      "<class 'pandas.core.frame.DataFrame'>\n",
      "Int64Index: 50000 entries, 10 to 835131\n",
      "Data columns (total 2 columns):\n",
      " #   Column    Non-Null Count  Dtype\n",
      "---  ------    --------------  -----\n",
      " 0   user_id   50000 non-null  int64\n",
      " 1   order_id  50000 non-null  int64\n",
      "dtypes: int64(2)\n",
      "memory usage: 1.1 MB\n"
     ]
    }
   ],
   "source": [
    "orders_train_y.info()"
   ]
  },
  {
   "cell_type": "code",
   "execution_count": 89,
   "id": "unlikely-jurisdiction",
   "metadata": {},
   "outputs": [
    {
     "data": {
      "text/plain": [
       "(38, 3420996)"
      ]
     },
     "execution_count": 89,
     "metadata": {},
     "output_type": "execute_result"
    }
   ],
   "source": [
    "orders_train_y['order_id'].min(),orders_train_y['order_id'].max()"
   ]
  },
  {
   "cell_type": "code",
   "execution_count": 90,
   "id": "union-rendering",
   "metadata": {},
   "outputs": [
    {
     "data": {
      "text/plain": [
       "78707"
      ]
     },
     "execution_count": 90,
     "metadata": {},
     "output_type": "execute_result"
    }
   ],
   "source": [
    "orders_train_y['user_id'].max()"
   ]
  },
  {
   "cell_type": "code",
   "execution_count": null,
   "id": "subject-nepal",
   "metadata": {},
   "outputs": [],
   "source": []
  },
  {
   "cell_type": "code",
   "execution_count": 91,
   "id": "legendary-collect",
   "metadata": {},
   "outputs": [],
   "source": [
    "orders_train_y = merge(orders_train_y,products_ohe)"
   ]
  },
  {
   "cell_type": "code",
   "execution_count": 92,
   "id": "choice-debut",
   "metadata": {},
   "outputs": [
    {
     "data": {
      "text/html": [
       "<div>\n",
       "<style scoped>\n",
       "    .dataframe tbody tr th:only-of-type {\n",
       "        vertical-align: middle;\n",
       "    }\n",
       "\n",
       "    .dataframe tbody tr th {\n",
       "        vertical-align: top;\n",
       "    }\n",
       "\n",
       "    .dataframe thead th {\n",
       "        text-align: right;\n",
       "    }\n",
       "</style>\n",
       "<table border=\"1\" class=\"dataframe\">\n",
       "  <thead>\n",
       "    <tr style=\"text-align: right;\">\n",
       "      <th></th>\n",
       "      <th>user_id</th>\n",
       "      <th>order_id</th>\n",
       "      <th>product_id_34</th>\n",
       "      <th>product_id_45</th>\n",
       "      <th>product_id_196</th>\n",
       "      <th>product_id_260</th>\n",
       "      <th>product_id_311</th>\n",
       "      <th>product_id_329</th>\n",
       "      <th>product_id_365</th>\n",
       "      <th>product_id_432</th>\n",
       "      <th>...</th>\n",
       "      <th>product_id_49235</th>\n",
       "      <th>product_id_49247</th>\n",
       "      <th>product_id_49383</th>\n",
       "      <th>product_id_49416</th>\n",
       "      <th>product_id_49478</th>\n",
       "      <th>product_id_49520</th>\n",
       "      <th>product_id_49533</th>\n",
       "      <th>product_id_49610</th>\n",
       "      <th>product_id_49621</th>\n",
       "      <th>product_id_49683</th>\n",
       "    </tr>\n",
       "  </thead>\n",
       "  <tbody>\n",
       "    <tr>\n",
       "      <th>0</th>\n",
       "      <td>1</td>\n",
       "      <td>1187899</td>\n",
       "      <td>0</td>\n",
       "      <td>0</td>\n",
       "      <td>1</td>\n",
       "      <td>0</td>\n",
       "      <td>0</td>\n",
       "      <td>0</td>\n",
       "      <td>0</td>\n",
       "      <td>0</td>\n",
       "      <td>...</td>\n",
       "      <td>1</td>\n",
       "      <td>0</td>\n",
       "      <td>0</td>\n",
       "      <td>0</td>\n",
       "      <td>0</td>\n",
       "      <td>0</td>\n",
       "      <td>0</td>\n",
       "      <td>0</td>\n",
       "      <td>0</td>\n",
       "      <td>0</td>\n",
       "    </tr>\n",
       "    <tr>\n",
       "      <th>1</th>\n",
       "      <td>2</td>\n",
       "      <td>1492625</td>\n",
       "      <td>0</td>\n",
       "      <td>0</td>\n",
       "      <td>0</td>\n",
       "      <td>0</td>\n",
       "      <td>0</td>\n",
       "      <td>0</td>\n",
       "      <td>0</td>\n",
       "      <td>0</td>\n",
       "      <td>...</td>\n",
       "      <td>0</td>\n",
       "      <td>0</td>\n",
       "      <td>0</td>\n",
       "      <td>0</td>\n",
       "      <td>0</td>\n",
       "      <td>0</td>\n",
       "      <td>0</td>\n",
       "      <td>0</td>\n",
       "      <td>0</td>\n",
       "      <td>0</td>\n",
       "    </tr>\n",
       "    <tr>\n",
       "      <th>2</th>\n",
       "      <td>5</td>\n",
       "      <td>2196797</td>\n",
       "      <td>0</td>\n",
       "      <td>0</td>\n",
       "      <td>0</td>\n",
       "      <td>0</td>\n",
       "      <td>0</td>\n",
       "      <td>0</td>\n",
       "      <td>0</td>\n",
       "      <td>0</td>\n",
       "      <td>...</td>\n",
       "      <td>0</td>\n",
       "      <td>0</td>\n",
       "      <td>0</td>\n",
       "      <td>0</td>\n",
       "      <td>0</td>\n",
       "      <td>0</td>\n",
       "      <td>0</td>\n",
       "      <td>0</td>\n",
       "      <td>0</td>\n",
       "      <td>0</td>\n",
       "    </tr>\n",
       "    <tr>\n",
       "      <th>3</th>\n",
       "      <td>7</td>\n",
       "      <td>525192</td>\n",
       "      <td>0</td>\n",
       "      <td>0</td>\n",
       "      <td>0</td>\n",
       "      <td>0</td>\n",
       "      <td>0</td>\n",
       "      <td>0</td>\n",
       "      <td>0</td>\n",
       "      <td>0</td>\n",
       "      <td>...</td>\n",
       "      <td>0</td>\n",
       "      <td>0</td>\n",
       "      <td>0</td>\n",
       "      <td>0</td>\n",
       "      <td>0</td>\n",
       "      <td>0</td>\n",
       "      <td>0</td>\n",
       "      <td>0</td>\n",
       "      <td>0</td>\n",
       "      <td>0</td>\n",
       "    </tr>\n",
       "    <tr>\n",
       "      <th>4</th>\n",
       "      <td>8</td>\n",
       "      <td>880375</td>\n",
       "      <td>0</td>\n",
       "      <td>0</td>\n",
       "      <td>0</td>\n",
       "      <td>0</td>\n",
       "      <td>0</td>\n",
       "      <td>0</td>\n",
       "      <td>0</td>\n",
       "      <td>0</td>\n",
       "      <td>...</td>\n",
       "      <td>0</td>\n",
       "      <td>0</td>\n",
       "      <td>0</td>\n",
       "      <td>0</td>\n",
       "      <td>0</td>\n",
       "      <td>0</td>\n",
       "      <td>0</td>\n",
       "      <td>0</td>\n",
       "      <td>0</td>\n",
       "      <td>0</td>\n",
       "    </tr>\n",
       "    <tr>\n",
       "      <th>5</th>\n",
       "      <td>9</td>\n",
       "      <td>1094988</td>\n",
       "      <td>0</td>\n",
       "      <td>0</td>\n",
       "      <td>0</td>\n",
       "      <td>0</td>\n",
       "      <td>0</td>\n",
       "      <td>0</td>\n",
       "      <td>0</td>\n",
       "      <td>0</td>\n",
       "      <td>...</td>\n",
       "      <td>0</td>\n",
       "      <td>0</td>\n",
       "      <td>0</td>\n",
       "      <td>0</td>\n",
       "      <td>0</td>\n",
       "      <td>0</td>\n",
       "      <td>0</td>\n",
       "      <td>0</td>\n",
       "      <td>0</td>\n",
       "      <td>0</td>\n",
       "    </tr>\n",
       "    <tr>\n",
       "      <th>6</th>\n",
       "      <td>10</td>\n",
       "      <td>1822501</td>\n",
       "      <td>0</td>\n",
       "      <td>0</td>\n",
       "      <td>0</td>\n",
       "      <td>0</td>\n",
       "      <td>0</td>\n",
       "      <td>0</td>\n",
       "      <td>0</td>\n",
       "      <td>0</td>\n",
       "      <td>...</td>\n",
       "      <td>0</td>\n",
       "      <td>0</td>\n",
       "      <td>0</td>\n",
       "      <td>0</td>\n",
       "      <td>0</td>\n",
       "      <td>0</td>\n",
       "      <td>0</td>\n",
       "      <td>0</td>\n",
       "      <td>0</td>\n",
       "      <td>0</td>\n",
       "    </tr>\n",
       "    <tr>\n",
       "      <th>7</th>\n",
       "      <td>13</td>\n",
       "      <td>1827621</td>\n",
       "      <td>0</td>\n",
       "      <td>0</td>\n",
       "      <td>0</td>\n",
       "      <td>0</td>\n",
       "      <td>0</td>\n",
       "      <td>0</td>\n",
       "      <td>0</td>\n",
       "      <td>0</td>\n",
       "      <td>...</td>\n",
       "      <td>0</td>\n",
       "      <td>0</td>\n",
       "      <td>0</td>\n",
       "      <td>0</td>\n",
       "      <td>0</td>\n",
       "      <td>0</td>\n",
       "      <td>0</td>\n",
       "      <td>0</td>\n",
       "      <td>0</td>\n",
       "      <td>0</td>\n",
       "    </tr>\n",
       "    <tr>\n",
       "      <th>8</th>\n",
       "      <td>14</td>\n",
       "      <td>2316178</td>\n",
       "      <td>0</td>\n",
       "      <td>0</td>\n",
       "      <td>0</td>\n",
       "      <td>0</td>\n",
       "      <td>0</td>\n",
       "      <td>0</td>\n",
       "      <td>0</td>\n",
       "      <td>0</td>\n",
       "      <td>...</td>\n",
       "      <td>0</td>\n",
       "      <td>0</td>\n",
       "      <td>0</td>\n",
       "      <td>0</td>\n",
       "      <td>0</td>\n",
       "      <td>0</td>\n",
       "      <td>0</td>\n",
       "      <td>0</td>\n",
       "      <td>0</td>\n",
       "      <td>0</td>\n",
       "    </tr>\n",
       "    <tr>\n",
       "      <th>9</th>\n",
       "      <td>17</td>\n",
       "      <td>2180313</td>\n",
       "      <td>0</td>\n",
       "      <td>0</td>\n",
       "      <td>0</td>\n",
       "      <td>0</td>\n",
       "      <td>0</td>\n",
       "      <td>0</td>\n",
       "      <td>0</td>\n",
       "      <td>0</td>\n",
       "      <td>...</td>\n",
       "      <td>0</td>\n",
       "      <td>0</td>\n",
       "      <td>0</td>\n",
       "      <td>0</td>\n",
       "      <td>0</td>\n",
       "      <td>0</td>\n",
       "      <td>0</td>\n",
       "      <td>0</td>\n",
       "      <td>0</td>\n",
       "      <td>0</td>\n",
       "    </tr>\n",
       "    <tr>\n",
       "      <th>10</th>\n",
       "      <td>18</td>\n",
       "      <td>2461523</td>\n",
       "      <td>0</td>\n",
       "      <td>0</td>\n",
       "      <td>0</td>\n",
       "      <td>0</td>\n",
       "      <td>0</td>\n",
       "      <td>0</td>\n",
       "      <td>0</td>\n",
       "      <td>0</td>\n",
       "      <td>...</td>\n",
       "      <td>0</td>\n",
       "      <td>0</td>\n",
       "      <td>0</td>\n",
       "      <td>0</td>\n",
       "      <td>0</td>\n",
       "      <td>0</td>\n",
       "      <td>0</td>\n",
       "      <td>0</td>\n",
       "      <td>0</td>\n",
       "      <td>0</td>\n",
       "    </tr>\n",
       "    <tr>\n",
       "      <th>11</th>\n",
       "      <td>21</td>\n",
       "      <td>1854765</td>\n",
       "      <td>0</td>\n",
       "      <td>0</td>\n",
       "      <td>0</td>\n",
       "      <td>0</td>\n",
       "      <td>0</td>\n",
       "      <td>0</td>\n",
       "      <td>0</td>\n",
       "      <td>0</td>\n",
       "      <td>...</td>\n",
       "      <td>0</td>\n",
       "      <td>0</td>\n",
       "      <td>0</td>\n",
       "      <td>0</td>\n",
       "      <td>0</td>\n",
       "      <td>0</td>\n",
       "      <td>0</td>\n",
       "      <td>0</td>\n",
       "      <td>0</td>\n",
       "      <td>0</td>\n",
       "    </tr>\n",
       "    <tr>\n",
       "      <th>12</th>\n",
       "      <td>23</td>\n",
       "      <td>3402036</td>\n",
       "      <td>0</td>\n",
       "      <td>0</td>\n",
       "      <td>0</td>\n",
       "      <td>0</td>\n",
       "      <td>0</td>\n",
       "      <td>0</td>\n",
       "      <td>0</td>\n",
       "      <td>0</td>\n",
       "      <td>...</td>\n",
       "      <td>0</td>\n",
       "      <td>0</td>\n",
       "      <td>0</td>\n",
       "      <td>0</td>\n",
       "      <td>0</td>\n",
       "      <td>0</td>\n",
       "      <td>0</td>\n",
       "      <td>0</td>\n",
       "      <td>0</td>\n",
       "      <td>0</td>\n",
       "    </tr>\n",
       "    <tr>\n",
       "      <th>13</th>\n",
       "      <td>24</td>\n",
       "      <td>965160</td>\n",
       "      <td>0</td>\n",
       "      <td>0</td>\n",
       "      <td>0</td>\n",
       "      <td>0</td>\n",
       "      <td>0</td>\n",
       "      <td>0</td>\n",
       "      <td>0</td>\n",
       "      <td>0</td>\n",
       "      <td>...</td>\n",
       "      <td>0</td>\n",
       "      <td>0</td>\n",
       "      <td>0</td>\n",
       "      <td>0</td>\n",
       "      <td>0</td>\n",
       "      <td>0</td>\n",
       "      <td>0</td>\n",
       "      <td>0</td>\n",
       "      <td>0</td>\n",
       "      <td>0</td>\n",
       "    </tr>\n",
       "    <tr>\n",
       "      <th>14</th>\n",
       "      <td>27</td>\n",
       "      <td>2614670</td>\n",
       "      <td>0</td>\n",
       "      <td>0</td>\n",
       "      <td>0</td>\n",
       "      <td>0</td>\n",
       "      <td>0</td>\n",
       "      <td>0</td>\n",
       "      <td>0</td>\n",
       "      <td>0</td>\n",
       "      <td>...</td>\n",
       "      <td>0</td>\n",
       "      <td>0</td>\n",
       "      <td>0</td>\n",
       "      <td>0</td>\n",
       "      <td>0</td>\n",
       "      <td>0</td>\n",
       "      <td>0</td>\n",
       "      <td>0</td>\n",
       "      <td>0</td>\n",
       "      <td>0</td>\n",
       "    </tr>\n",
       "    <tr>\n",
       "      <th>15</th>\n",
       "      <td>29</td>\n",
       "      <td>3110252</td>\n",
       "      <td>0</td>\n",
       "      <td>0</td>\n",
       "      <td>0</td>\n",
       "      <td>0</td>\n",
       "      <td>0</td>\n",
       "      <td>0</td>\n",
       "      <td>0</td>\n",
       "      <td>0</td>\n",
       "      <td>...</td>\n",
       "      <td>0</td>\n",
       "      <td>0</td>\n",
       "      <td>0</td>\n",
       "      <td>0</td>\n",
       "      <td>0</td>\n",
       "      <td>0</td>\n",
       "      <td>0</td>\n",
       "      <td>0</td>\n",
       "      <td>0</td>\n",
       "      <td>0</td>\n",
       "    </tr>\n",
       "    <tr>\n",
       "      <th>16</th>\n",
       "      <td>30</td>\n",
       "      <td>62370</td>\n",
       "      <td>0</td>\n",
       "      <td>0</td>\n",
       "      <td>0</td>\n",
       "      <td>0</td>\n",
       "      <td>0</td>\n",
       "      <td>0</td>\n",
       "      <td>0</td>\n",
       "      <td>0</td>\n",
       "      <td>...</td>\n",
       "      <td>0</td>\n",
       "      <td>0</td>\n",
       "      <td>0</td>\n",
       "      <td>0</td>\n",
       "      <td>0</td>\n",
       "      <td>0</td>\n",
       "      <td>0</td>\n",
       "      <td>0</td>\n",
       "      <td>0</td>\n",
       "      <td>0</td>\n",
       "    </tr>\n",
       "    <tr>\n",
       "      <th>17</th>\n",
       "      <td>34</td>\n",
       "      <td>698604</td>\n",
       "      <td>0</td>\n",
       "      <td>0</td>\n",
       "      <td>0</td>\n",
       "      <td>0</td>\n",
       "      <td>0</td>\n",
       "      <td>0</td>\n",
       "      <td>0</td>\n",
       "      <td>0</td>\n",
       "      <td>...</td>\n",
       "      <td>0</td>\n",
       "      <td>0</td>\n",
       "      <td>0</td>\n",
       "      <td>0</td>\n",
       "      <td>0</td>\n",
       "      <td>0</td>\n",
       "      <td>0</td>\n",
       "      <td>0</td>\n",
       "      <td>0</td>\n",
       "      <td>0</td>\n",
       "    </tr>\n",
       "    <tr>\n",
       "      <th>18</th>\n",
       "      <td>37</td>\n",
       "      <td>1524161</td>\n",
       "      <td>0</td>\n",
       "      <td>0</td>\n",
       "      <td>0</td>\n",
       "      <td>0</td>\n",
       "      <td>0</td>\n",
       "      <td>0</td>\n",
       "      <td>0</td>\n",
       "      <td>0</td>\n",
       "      <td>...</td>\n",
       "      <td>0</td>\n",
       "      <td>0</td>\n",
       "      <td>0</td>\n",
       "      <td>0</td>\n",
       "      <td>0</td>\n",
       "      <td>0</td>\n",
       "      <td>0</td>\n",
       "      <td>0</td>\n",
       "      <td>0</td>\n",
       "      <td>0</td>\n",
       "    </tr>\n",
       "    <tr>\n",
       "      <th>19</th>\n",
       "      <td>38</td>\n",
       "      <td>3173750</td>\n",
       "      <td>0</td>\n",
       "      <td>0</td>\n",
       "      <td>0</td>\n",
       "      <td>0</td>\n",
       "      <td>0</td>\n",
       "      <td>0</td>\n",
       "      <td>0</td>\n",
       "      <td>0</td>\n",
       "      <td>...</td>\n",
       "      <td>0</td>\n",
       "      <td>0</td>\n",
       "      <td>0</td>\n",
       "      <td>0</td>\n",
       "      <td>0</td>\n",
       "      <td>0</td>\n",
       "      <td>0</td>\n",
       "      <td>0</td>\n",
       "      <td>0</td>\n",
       "      <td>0</td>\n",
       "    </tr>\n",
       "  </tbody>\n",
       "</table>\n",
       "<p>20 rows × 1002 columns</p>\n",
       "</div>"
      ],
      "text/plain": [
       "    user_id  order_id  product_id_34  product_id_45  product_id_196  \\\n",
       "0         1   1187899              0              0               1   \n",
       "1         2   1492625              0              0               0   \n",
       "2         5   2196797              0              0               0   \n",
       "3         7    525192              0              0               0   \n",
       "4         8    880375              0              0               0   \n",
       "5         9   1094988              0              0               0   \n",
       "6        10   1822501              0              0               0   \n",
       "7        13   1827621              0              0               0   \n",
       "8        14   2316178              0              0               0   \n",
       "9        17   2180313              0              0               0   \n",
       "10       18   2461523              0              0               0   \n",
       "11       21   1854765              0              0               0   \n",
       "12       23   3402036              0              0               0   \n",
       "13       24    965160              0              0               0   \n",
       "14       27   2614670              0              0               0   \n",
       "15       29   3110252              0              0               0   \n",
       "16       30     62370              0              0               0   \n",
       "17       34    698604              0              0               0   \n",
       "18       37   1524161              0              0               0   \n",
       "19       38   3173750              0              0               0   \n",
       "\n",
       "    product_id_260  product_id_311  product_id_329  product_id_365  \\\n",
       "0                0               0               0               0   \n",
       "1                0               0               0               0   \n",
       "2                0               0               0               0   \n",
       "3                0               0               0               0   \n",
       "4                0               0               0               0   \n",
       "5                0               0               0               0   \n",
       "6                0               0               0               0   \n",
       "7                0               0               0               0   \n",
       "8                0               0               0               0   \n",
       "9                0               0               0               0   \n",
       "10               0               0               0               0   \n",
       "11               0               0               0               0   \n",
       "12               0               0               0               0   \n",
       "13               0               0               0               0   \n",
       "14               0               0               0               0   \n",
       "15               0               0               0               0   \n",
       "16               0               0               0               0   \n",
       "17               0               0               0               0   \n",
       "18               0               0               0               0   \n",
       "19               0               0               0               0   \n",
       "\n",
       "    product_id_432  ...  product_id_49235  product_id_49247  product_id_49383  \\\n",
       "0                0  ...                 1                 0                 0   \n",
       "1                0  ...                 0                 0                 0   \n",
       "2                0  ...                 0                 0                 0   \n",
       "3                0  ...                 0                 0                 0   \n",
       "4                0  ...                 0                 0                 0   \n",
       "5                0  ...                 0                 0                 0   \n",
       "6                0  ...                 0                 0                 0   \n",
       "7                0  ...                 0                 0                 0   \n",
       "8                0  ...                 0                 0                 0   \n",
       "9                0  ...                 0                 0                 0   \n",
       "10               0  ...                 0                 0                 0   \n",
       "11               0  ...                 0                 0                 0   \n",
       "12               0  ...                 0                 0                 0   \n",
       "13               0  ...                 0                 0                 0   \n",
       "14               0  ...                 0                 0                 0   \n",
       "15               0  ...                 0                 0                 0   \n",
       "16               0  ...                 0                 0                 0   \n",
       "17               0  ...                 0                 0                 0   \n",
       "18               0  ...                 0                 0                 0   \n",
       "19               0  ...                 0                 0                 0   \n",
       "\n",
       "    product_id_49416  product_id_49478  product_id_49520  product_id_49533  \\\n",
       "0                  0                 0                 0                 0   \n",
       "1                  0                 0                 0                 0   \n",
       "2                  0                 0                 0                 0   \n",
       "3                  0                 0                 0                 0   \n",
       "4                  0                 0                 0                 0   \n",
       "5                  0                 0                 0                 0   \n",
       "6                  0                 0                 0                 0   \n",
       "7                  0                 0                 0                 0   \n",
       "8                  0                 0                 0                 0   \n",
       "9                  0                 0                 0                 0   \n",
       "10                 0                 0                 0                 0   \n",
       "11                 0                 0                 0                 0   \n",
       "12                 0                 0                 0                 0   \n",
       "13                 0                 0                 0                 0   \n",
       "14                 0                 0                 0                 0   \n",
       "15                 0                 0                 0                 0   \n",
       "16                 0                 0                 0                 0   \n",
       "17                 0                 0                 0                 0   \n",
       "18                 0                 0                 0                 0   \n",
       "19                 0                 0                 0                 0   \n",
       "\n",
       "    product_id_49610  product_id_49621  product_id_49683  \n",
       "0                  0                 0                 0  \n",
       "1                  0                 0                 0  \n",
       "2                  0                 0                 0  \n",
       "3                  0                 0                 0  \n",
       "4                  0                 0                 0  \n",
       "5                  0                 0                 0  \n",
       "6                  0                 0                 0  \n",
       "7                  0                 0                 0  \n",
       "8                  0                 0                 0  \n",
       "9                  0                 0                 0  \n",
       "10                 0                 0                 0  \n",
       "11                 0                 0                 0  \n",
       "12                 0                 0                 0  \n",
       "13                 0                 0                 0  \n",
       "14                 0                 0                 0  \n",
       "15                 0                 0                 0  \n",
       "16                 0                 0                 0  \n",
       "17                 0                 0                 0  \n",
       "18                 0                 0                 0  \n",
       "19                 0                 0                 0  \n",
       "\n",
       "[20 rows x 1002 columns]"
      ]
     },
     "execution_count": 92,
     "metadata": {},
     "output_type": "execute_result"
    }
   ],
   "source": [
    "orders_train_y.head(20)"
   ]
  },
  {
   "cell_type": "code",
   "execution_count": 93,
   "id": "internal-chance",
   "metadata": {},
   "outputs": [
    {
     "name": "stdout",
     "output_type": "stream",
     "text": [
      "<class 'pandas.core.frame.DataFrame'>\n",
      "Int64Index: 50000 entries, 0 to 49999\n",
      "Columns: 1002 entries, user_id to product_id_49683\n",
      "dtypes: uint64(1002)\n",
      "memory usage: 382.6 MB\n"
     ]
    }
   ],
   "source": [
    "orders_train_y.info()"
   ]
  },
  {
   "cell_type": "code",
   "execution_count": 94,
   "id": "genetic-brazilian",
   "metadata": {},
   "outputs": [],
   "source": [
    "for col in orders_train_y.columns[2:]:\n",
    "    orders_train_y[col] = orders_train_y[col].astype('uint8')"
   ]
  },
  {
   "cell_type": "code",
   "execution_count": 95,
   "id": "destroyed-macintosh",
   "metadata": {},
   "outputs": [
    {
     "name": "stdout",
     "output_type": "stream",
     "text": [
      "<class 'pandas.core.frame.DataFrame'>\n",
      "Int64Index: 50000 entries, 0 to 49999\n",
      "Columns: 1002 entries, user_id to product_id_49683\n",
      "dtypes: uint64(2), uint8(1000)\n",
      "memory usage: 48.8 MB\n"
     ]
    }
   ],
   "source": [
    "orders_train_y.info()"
   ]
  },
  {
   "cell_type": "code",
   "execution_count": null,
   "id": "monthly-proxy",
   "metadata": {},
   "outputs": [],
   "source": []
  },
  {
   "cell_type": "markdown",
   "id": "statewide-elephant",
   "metadata": {},
   "source": [
    "### 1.7 Numpy X and y, saving to file <a id='1.7'></a>"
   ]
  },
  {
   "cell_type": "code",
   "execution_count": 96,
   "id": "australian-learning",
   "metadata": {},
   "outputs": [
    {
     "data": {
      "text/plain": [
       "{True}"
      ]
     },
     "execution_count": 96,
     "metadata": {},
     "output_type": "execute_result"
    }
   ],
   "source": [
    "xval = orders_train_X.groupby('user_id')['user_id'].head(1).values\n",
    "yval = orders_train_y['user_id'].values\n",
    "set(xval ==yval)"
   ]
  },
  {
   "cell_type": "code",
   "execution_count": 97,
   "id": "simple-taste",
   "metadata": {},
   "outputs": [],
   "source": [
    "orders_train_X = orders_train_X.drop(['user_id','order_id'],axis=1)\n",
    "orders_train_y = orders_train_y.drop(['user_id','order_id'],axis=1)"
   ]
  },
  {
   "cell_type": "code",
   "execution_count": 98,
   "id": "frozen-freeze",
   "metadata": {},
   "outputs": [
    {
     "data": {
      "text/html": [
       "<div>\n",
       "<style scoped>\n",
       "    .dataframe tbody tr th:only-of-type {\n",
       "        vertical-align: middle;\n",
       "    }\n",
       "\n",
       "    .dataframe tbody tr th {\n",
       "        vertical-align: top;\n",
       "    }\n",
       "\n",
       "    .dataframe thead th {\n",
       "        text-align: right;\n",
       "    }\n",
       "</style>\n",
       "<table border=\"1\" class=\"dataframe\">\n",
       "  <thead>\n",
       "    <tr style=\"text-align: right;\">\n",
       "      <th></th>\n",
       "      <th>product_id_34</th>\n",
       "      <th>product_id_45</th>\n",
       "      <th>product_id_196</th>\n",
       "      <th>product_id_260</th>\n",
       "      <th>product_id_311</th>\n",
       "      <th>product_id_329</th>\n",
       "      <th>product_id_365</th>\n",
       "      <th>product_id_432</th>\n",
       "      <th>product_id_581</th>\n",
       "      <th>product_id_651</th>\n",
       "      <th>...</th>\n",
       "      <th>product_id_49235</th>\n",
       "      <th>product_id_49247</th>\n",
       "      <th>product_id_49383</th>\n",
       "      <th>product_id_49416</th>\n",
       "      <th>product_id_49478</th>\n",
       "      <th>product_id_49520</th>\n",
       "      <th>product_id_49533</th>\n",
       "      <th>product_id_49610</th>\n",
       "      <th>product_id_49621</th>\n",
       "      <th>product_id_49683</th>\n",
       "    </tr>\n",
       "  </thead>\n",
       "  <tbody>\n",
       "    <tr>\n",
       "      <th>0</th>\n",
       "      <td>0</td>\n",
       "      <td>0</td>\n",
       "      <td>0</td>\n",
       "      <td>0</td>\n",
       "      <td>0</td>\n",
       "      <td>0</td>\n",
       "      <td>0</td>\n",
       "      <td>0</td>\n",
       "      <td>0</td>\n",
       "      <td>0</td>\n",
       "      <td>...</td>\n",
       "      <td>0</td>\n",
       "      <td>0</td>\n",
       "      <td>0</td>\n",
       "      <td>0</td>\n",
       "      <td>0</td>\n",
       "      <td>0</td>\n",
       "      <td>0</td>\n",
       "      <td>0</td>\n",
       "      <td>0</td>\n",
       "      <td>0</td>\n",
       "    </tr>\n",
       "    <tr>\n",
       "      <th>1</th>\n",
       "      <td>0</td>\n",
       "      <td>0</td>\n",
       "      <td>0</td>\n",
       "      <td>0</td>\n",
       "      <td>0</td>\n",
       "      <td>0</td>\n",
       "      <td>0</td>\n",
       "      <td>0</td>\n",
       "      <td>0</td>\n",
       "      <td>0</td>\n",
       "      <td>...</td>\n",
       "      <td>0</td>\n",
       "      <td>0</td>\n",
       "      <td>0</td>\n",
       "      <td>0</td>\n",
       "      <td>0</td>\n",
       "      <td>0</td>\n",
       "      <td>0</td>\n",
       "      <td>0</td>\n",
       "      <td>0</td>\n",
       "      <td>0</td>\n",
       "    </tr>\n",
       "    <tr>\n",
       "      <th>2</th>\n",
       "      <td>0</td>\n",
       "      <td>0</td>\n",
       "      <td>0</td>\n",
       "      <td>0</td>\n",
       "      <td>0</td>\n",
       "      <td>0</td>\n",
       "      <td>0</td>\n",
       "      <td>0</td>\n",
       "      <td>0</td>\n",
       "      <td>0</td>\n",
       "      <td>...</td>\n",
       "      <td>0</td>\n",
       "      <td>0</td>\n",
       "      <td>0</td>\n",
       "      <td>0</td>\n",
       "      <td>0</td>\n",
       "      <td>0</td>\n",
       "      <td>0</td>\n",
       "      <td>0</td>\n",
       "      <td>0</td>\n",
       "      <td>0</td>\n",
       "    </tr>\n",
       "    <tr>\n",
       "      <th>3</th>\n",
       "      <td>0</td>\n",
       "      <td>0</td>\n",
       "      <td>0</td>\n",
       "      <td>0</td>\n",
       "      <td>0</td>\n",
       "      <td>0</td>\n",
       "      <td>0</td>\n",
       "      <td>0</td>\n",
       "      <td>0</td>\n",
       "      <td>0</td>\n",
       "      <td>...</td>\n",
       "      <td>0</td>\n",
       "      <td>0</td>\n",
       "      <td>0</td>\n",
       "      <td>0</td>\n",
       "      <td>0</td>\n",
       "      <td>0</td>\n",
       "      <td>0</td>\n",
       "      <td>0</td>\n",
       "      <td>0</td>\n",
       "      <td>0</td>\n",
       "    </tr>\n",
       "    <tr>\n",
       "      <th>4</th>\n",
       "      <td>0</td>\n",
       "      <td>0</td>\n",
       "      <td>0</td>\n",
       "      <td>0</td>\n",
       "      <td>0</td>\n",
       "      <td>0</td>\n",
       "      <td>0</td>\n",
       "      <td>0</td>\n",
       "      <td>0</td>\n",
       "      <td>0</td>\n",
       "      <td>...</td>\n",
       "      <td>0</td>\n",
       "      <td>0</td>\n",
       "      <td>0</td>\n",
       "      <td>0</td>\n",
       "      <td>0</td>\n",
       "      <td>0</td>\n",
       "      <td>0</td>\n",
       "      <td>0</td>\n",
       "      <td>0</td>\n",
       "      <td>0</td>\n",
       "    </tr>\n",
       "  </tbody>\n",
       "</table>\n",
       "<p>5 rows × 1000 columns</p>\n",
       "</div>"
      ],
      "text/plain": [
       "   product_id_34  product_id_45  product_id_196  product_id_260  \\\n",
       "0              0              0               0               0   \n",
       "1              0              0               0               0   \n",
       "2              0              0               0               0   \n",
       "3              0              0               0               0   \n",
       "4              0              0               0               0   \n",
       "\n",
       "   product_id_311  product_id_329  product_id_365  product_id_432  \\\n",
       "0               0               0               0               0   \n",
       "1               0               0               0               0   \n",
       "2               0               0               0               0   \n",
       "3               0               0               0               0   \n",
       "4               0               0               0               0   \n",
       "\n",
       "   product_id_581  product_id_651  ...  product_id_49235  product_id_49247  \\\n",
       "0               0               0  ...                 0                 0   \n",
       "1               0               0  ...                 0                 0   \n",
       "2               0               0  ...                 0                 0   \n",
       "3               0               0  ...                 0                 0   \n",
       "4               0               0  ...                 0                 0   \n",
       "\n",
       "   product_id_49383  product_id_49416  product_id_49478  product_id_49520  \\\n",
       "0                 0                 0                 0                 0   \n",
       "1                 0                 0                 0                 0   \n",
       "2                 0                 0                 0                 0   \n",
       "3                 0                 0                 0                 0   \n",
       "4                 0                 0                 0                 0   \n",
       "\n",
       "   product_id_49533  product_id_49610  product_id_49621  product_id_49683  \n",
       "0                 0                 0                 0                 0  \n",
       "1                 0                 0                 0                 0  \n",
       "2                 0                 0                 0                 0  \n",
       "3                 0                 0                 0                 0  \n",
       "4                 0                 0                 0                 0  \n",
       "\n",
       "[5 rows x 1000 columns]"
      ]
     },
     "execution_count": 98,
     "metadata": {},
     "output_type": "execute_result"
    }
   ],
   "source": [
    "orders_train_X.head()"
   ]
  },
  {
   "cell_type": "code",
   "execution_count": 99,
   "id": "bright-hughes",
   "metadata": {},
   "outputs": [
    {
     "data": {
      "text/html": [
       "<div>\n",
       "<style scoped>\n",
       "    .dataframe tbody tr th:only-of-type {\n",
       "        vertical-align: middle;\n",
       "    }\n",
       "\n",
       "    .dataframe tbody tr th {\n",
       "        vertical-align: top;\n",
       "    }\n",
       "\n",
       "    .dataframe thead th {\n",
       "        text-align: right;\n",
       "    }\n",
       "</style>\n",
       "<table border=\"1\" class=\"dataframe\">\n",
       "  <thead>\n",
       "    <tr style=\"text-align: right;\">\n",
       "      <th></th>\n",
       "      <th>product_id_34</th>\n",
       "      <th>product_id_45</th>\n",
       "      <th>product_id_196</th>\n",
       "      <th>product_id_260</th>\n",
       "      <th>product_id_311</th>\n",
       "      <th>product_id_329</th>\n",
       "      <th>product_id_365</th>\n",
       "      <th>product_id_432</th>\n",
       "      <th>product_id_581</th>\n",
       "      <th>product_id_651</th>\n",
       "      <th>...</th>\n",
       "      <th>product_id_49235</th>\n",
       "      <th>product_id_49247</th>\n",
       "      <th>product_id_49383</th>\n",
       "      <th>product_id_49416</th>\n",
       "      <th>product_id_49478</th>\n",
       "      <th>product_id_49520</th>\n",
       "      <th>product_id_49533</th>\n",
       "      <th>product_id_49610</th>\n",
       "      <th>product_id_49621</th>\n",
       "      <th>product_id_49683</th>\n",
       "    </tr>\n",
       "  </thead>\n",
       "  <tbody>\n",
       "    <tr>\n",
       "      <th>0</th>\n",
       "      <td>0</td>\n",
       "      <td>0</td>\n",
       "      <td>1</td>\n",
       "      <td>0</td>\n",
       "      <td>0</td>\n",
       "      <td>0</td>\n",
       "      <td>0</td>\n",
       "      <td>0</td>\n",
       "      <td>0</td>\n",
       "      <td>0</td>\n",
       "      <td>...</td>\n",
       "      <td>1</td>\n",
       "      <td>0</td>\n",
       "      <td>0</td>\n",
       "      <td>0</td>\n",
       "      <td>0</td>\n",
       "      <td>0</td>\n",
       "      <td>0</td>\n",
       "      <td>0</td>\n",
       "      <td>0</td>\n",
       "      <td>0</td>\n",
       "    </tr>\n",
       "    <tr>\n",
       "      <th>1</th>\n",
       "      <td>0</td>\n",
       "      <td>0</td>\n",
       "      <td>0</td>\n",
       "      <td>0</td>\n",
       "      <td>0</td>\n",
       "      <td>0</td>\n",
       "      <td>0</td>\n",
       "      <td>0</td>\n",
       "      <td>0</td>\n",
       "      <td>0</td>\n",
       "      <td>...</td>\n",
       "      <td>0</td>\n",
       "      <td>0</td>\n",
       "      <td>0</td>\n",
       "      <td>0</td>\n",
       "      <td>0</td>\n",
       "      <td>0</td>\n",
       "      <td>0</td>\n",
       "      <td>0</td>\n",
       "      <td>0</td>\n",
       "      <td>0</td>\n",
       "    </tr>\n",
       "    <tr>\n",
       "      <th>2</th>\n",
       "      <td>0</td>\n",
       "      <td>0</td>\n",
       "      <td>0</td>\n",
       "      <td>0</td>\n",
       "      <td>0</td>\n",
       "      <td>0</td>\n",
       "      <td>0</td>\n",
       "      <td>0</td>\n",
       "      <td>0</td>\n",
       "      <td>0</td>\n",
       "      <td>...</td>\n",
       "      <td>0</td>\n",
       "      <td>0</td>\n",
       "      <td>0</td>\n",
       "      <td>0</td>\n",
       "      <td>0</td>\n",
       "      <td>0</td>\n",
       "      <td>0</td>\n",
       "      <td>0</td>\n",
       "      <td>0</td>\n",
       "      <td>0</td>\n",
       "    </tr>\n",
       "    <tr>\n",
       "      <th>3</th>\n",
       "      <td>0</td>\n",
       "      <td>0</td>\n",
       "      <td>0</td>\n",
       "      <td>0</td>\n",
       "      <td>0</td>\n",
       "      <td>0</td>\n",
       "      <td>0</td>\n",
       "      <td>0</td>\n",
       "      <td>0</td>\n",
       "      <td>0</td>\n",
       "      <td>...</td>\n",
       "      <td>0</td>\n",
       "      <td>0</td>\n",
       "      <td>0</td>\n",
       "      <td>0</td>\n",
       "      <td>0</td>\n",
       "      <td>0</td>\n",
       "      <td>0</td>\n",
       "      <td>0</td>\n",
       "      <td>0</td>\n",
       "      <td>0</td>\n",
       "    </tr>\n",
       "    <tr>\n",
       "      <th>4</th>\n",
       "      <td>0</td>\n",
       "      <td>0</td>\n",
       "      <td>0</td>\n",
       "      <td>0</td>\n",
       "      <td>0</td>\n",
       "      <td>0</td>\n",
       "      <td>0</td>\n",
       "      <td>0</td>\n",
       "      <td>0</td>\n",
       "      <td>0</td>\n",
       "      <td>...</td>\n",
       "      <td>0</td>\n",
       "      <td>0</td>\n",
       "      <td>0</td>\n",
       "      <td>0</td>\n",
       "      <td>0</td>\n",
       "      <td>0</td>\n",
       "      <td>0</td>\n",
       "      <td>0</td>\n",
       "      <td>0</td>\n",
       "      <td>0</td>\n",
       "    </tr>\n",
       "  </tbody>\n",
       "</table>\n",
       "<p>5 rows × 1000 columns</p>\n",
       "</div>"
      ],
      "text/plain": [
       "   product_id_34  product_id_45  product_id_196  product_id_260  \\\n",
       "0              0              0               1               0   \n",
       "1              0              0               0               0   \n",
       "2              0              0               0               0   \n",
       "3              0              0               0               0   \n",
       "4              0              0               0               0   \n",
       "\n",
       "   product_id_311  product_id_329  product_id_365  product_id_432  \\\n",
       "0               0               0               0               0   \n",
       "1               0               0               0               0   \n",
       "2               0               0               0               0   \n",
       "3               0               0               0               0   \n",
       "4               0               0               0               0   \n",
       "\n",
       "   product_id_581  product_id_651  ...  product_id_49235  product_id_49247  \\\n",
       "0               0               0  ...                 1                 0   \n",
       "1               0               0  ...                 0                 0   \n",
       "2               0               0  ...                 0                 0   \n",
       "3               0               0  ...                 0                 0   \n",
       "4               0               0  ...                 0                 0   \n",
       "\n",
       "   product_id_49383  product_id_49416  product_id_49478  product_id_49520  \\\n",
       "0                 0                 0                 0                 0   \n",
       "1                 0                 0                 0                 0   \n",
       "2                 0                 0                 0                 0   \n",
       "3                 0                 0                 0                 0   \n",
       "4                 0                 0                 0                 0   \n",
       "\n",
       "   product_id_49533  product_id_49610  product_id_49621  product_id_49683  \n",
       "0                 0                 0                 0                 0  \n",
       "1                 0                 0                 0                 0  \n",
       "2                 0                 0                 0                 0  \n",
       "3                 0                 0                 0                 0  \n",
       "4                 0                 0                 0                 0  \n",
       "\n",
       "[5 rows x 1000 columns]"
      ]
     },
     "execution_count": 99,
     "metadata": {},
     "output_type": "execute_result"
    }
   ],
   "source": [
    "orders_train_y.head()"
   ]
  },
  {
   "cell_type": "code",
   "execution_count": 100,
   "id": "aware-semiconductor",
   "metadata": {},
   "outputs": [
    {
     "data": {
      "text/plain": [
       "((1000000, 1000), (50000, 1000))"
      ]
     },
     "execution_count": 100,
     "metadata": {},
     "output_type": "execute_result"
    }
   ],
   "source": [
    "orders_train_X.shape,orders_train_y.shape"
   ]
  },
  {
   "cell_type": "code",
   "execution_count": 101,
   "id": "sufficient-translator",
   "metadata": {},
   "outputs": [
    {
     "data": {
      "text/plain": [
       "('1.01 G', '0.05 G')"
      ]
     },
     "execution_count": 101,
     "metadata": {},
     "output_type": "execute_result"
    }
   ],
   "source": [
    "size(orders_train_X),size(orders_train_y)"
   ]
  },
  {
   "cell_type": "code",
   "execution_count": 102,
   "id": "dominican-stress",
   "metadata": {},
   "outputs": [
    {
     "data": {
      "text/plain": [
       "(0, 1)"
      ]
     },
     "execution_count": 102,
     "metadata": {},
     "output_type": "execute_result"
    }
   ],
   "source": [
    "orders_train_X.min().min(),orders_train_X.max().max()"
   ]
  },
  {
   "cell_type": "code",
   "execution_count": 103,
   "id": "urban-ethiopia",
   "metadata": {},
   "outputs": [
    {
     "data": {
      "text/plain": [
       "(0, 1)"
      ]
     },
     "execution_count": 103,
     "metadata": {},
     "output_type": "execute_result"
    }
   ],
   "source": [
    "orders_train_y.min().min(),orders_train_y.max().max()"
   ]
  },
  {
   "cell_type": "code",
   "execution_count": 104,
   "id": "swiss-money",
   "metadata": {},
   "outputs": [
    {
     "name": "stdout",
     "output_type": "stream",
     "text": [
      "<class 'pandas.core.frame.DataFrame'>\n",
      "Int64Index: 1000000 entries, 0 to 999999\n",
      "Columns: 1000 entries, product_id_34 to product_id_49683\n",
      "dtypes: uint8(1000)\n",
      "memory usage: 961.3 MB\n"
     ]
    }
   ],
   "source": [
    "orders_train_X.info()"
   ]
  },
  {
   "cell_type": "code",
   "execution_count": 105,
   "id": "sunset-cruise",
   "metadata": {},
   "outputs": [
    {
     "name": "stdout",
     "output_type": "stream",
     "text": [
      "<class 'pandas.core.frame.DataFrame'>\n",
      "Int64Index: 50000 entries, 0 to 49999\n",
      "Columns: 1000 entries, product_id_34 to product_id_49683\n",
      "dtypes: uint8(1000)\n",
      "memory usage: 48.1 MB\n"
     ]
    }
   ],
   "source": [
    "orders_train_y.info()"
   ]
  },
  {
   "cell_type": "code",
   "execution_count": null,
   "id": "applied-tactics",
   "metadata": {},
   "outputs": [],
   "source": []
  },
  {
   "cell_type": "code",
   "execution_count": 106,
   "id": "boxed-gibson",
   "metadata": {},
   "outputs": [],
   "source": [
    "X = orders_train_X.to_numpy()\n",
    "y = orders_train_y.to_numpy()"
   ]
  },
  {
   "cell_type": "code",
   "execution_count": 107,
   "id": "introductory-beatles",
   "metadata": {},
   "outputs": [
    {
     "name": "stdout",
     "output_type": "stream",
     "text": [
      "1.0 G, 0.05 G\n"
     ]
    }
   ],
   "source": [
    "print(X.nbytes/10**9,'G,',y.nbytes/10**9,'G')"
   ]
  },
  {
   "cell_type": "code",
   "execution_count": 108,
   "id": "latter-johns",
   "metadata": {},
   "outputs": [
    {
     "name": "stdout",
     "output_type": "stream",
     "text": [
      "['34', '45', '196', '260', '311', '329', '365', '432', '581', '651', '781', '890', '1025', '1090', '1158']\n"
     ]
    }
   ],
   "source": [
    "#cols = orders_train_X.columns\n",
    "pids = [col.split(\"_\")[-1] for col in orders_train_X.columns]\n",
    "print(pids[:15])"
   ]
  },
  {
   "cell_type": "code",
   "execution_count": 109,
   "id": "valuable-matthew",
   "metadata": {},
   "outputs": [],
   "source": [
    "with open('./data/pids_for_cols_reduced_{}.pkl'.format(n_products), 'wb') as f:\n",
    "        pickle.dump(pids, f)"
   ]
  },
  {
   "cell_type": "code",
   "execution_count": 110,
   "id": "backed-simulation",
   "metadata": {},
   "outputs": [],
   "source": [
    "del orders_train_X\n",
    "del orders_train_y"
   ]
  },
  {
   "cell_type": "markdown",
   "id": "fluid-rebel",
   "metadata": {},
   "source": [
    "What about the shape?"
   ]
  },
  {
   "cell_type": "code",
   "execution_count": 111,
   "id": "present-alfred",
   "metadata": {},
   "outputs": [
    {
     "data": {
      "text/plain": [
       "((1000000, 1000), (50000, 1000))"
      ]
     },
     "execution_count": 111,
     "metadata": {},
     "output_type": "execute_result"
    }
   ],
   "source": [
    "X.shape, y.shape"
   ]
  },
  {
   "cell_type": "markdown",
   "id": "dirty-broad",
   "metadata": {},
   "source": [
    "We need to reshape it to the desired 3-D format:"
   ]
  },
  {
   "cell_type": "code",
   "execution_count": 112,
   "id": "political-assets",
   "metadata": {},
   "outputs": [
    {
     "data": {
      "text/plain": [
       "((50000, 20, 1000), (50000, 1000))"
      ]
     },
     "execution_count": 112,
     "metadata": {},
     "output_type": "execute_result"
    }
   ],
   "source": [
    "X = np.reshape(X,(-1,last_n_orders,n_products))\n",
    "X.shape,y.shape"
   ]
  },
  {
   "cell_type": "markdown",
   "id": "noticed-reconstruction",
   "metadata": {},
   "source": [
    "Save them to a file:"
   ]
  },
  {
   "cell_type": "code",
   "execution_count": 113,
   "id": "asian-poland",
   "metadata": {},
   "outputs": [],
   "source": [
    "with open('./data/xy_train_reduced_{}.pkl'.format(n_products), 'wb') as f:\n",
    "        pickle.dump((X,y), f)"
   ]
  },
  {
   "cell_type": "code",
   "execution_count": null,
   "id": "blocked-tattoo",
   "metadata": {},
   "outputs": [],
   "source": [
    "#!ls -lrt ./data/**pkl"
   ]
  },
  {
   "cell_type": "markdown",
   "id": "intelligent-enough",
   "metadata": {},
   "source": [
    "## 2. Modeling <a id='2'></a>"
   ]
  },
  {
   "cell_type": "markdown",
   "id": "younger-shark",
   "metadata": {},
   "source": [
    "Let's prepare the libraries to run the simplest LSTM model."
   ]
  },
  {
   "cell_type": "code",
   "execution_count": 3,
   "id": "rotary-joshua",
   "metadata": {},
   "outputs": [],
   "source": [
    "from sklearn.model_selection import train_test_split\n",
    "import tensorflow as tf\n",
    "from keras.models import Sequential\n",
    "from keras.layers import LSTM\n",
    "from keras.layers import GRU\n",
    "from keras.layers import Bidirectional\n",
    "from keras.layers import Dense\n",
    "from keras.layers import RepeatVector\n",
    "#from keras.layers import TimeDistributed\n",
    "\n",
    "from keras.callbacks import EarlyStopping\n",
    "from keras.models import load_model"
   ]
  },
  {
   "cell_type": "code",
   "execution_count": 4,
   "id": "mineral-mixer",
   "metadata": {},
   "outputs": [],
   "source": [
    "with open('./data/xy_train_reduced_{}.pkl'.format(n_products), 'rb') as f: \n",
    "        X,y = pickle.load(f)"
   ]
  },
  {
   "cell_type": "code",
   "execution_count": 5,
   "id": "crude-former",
   "metadata": {},
   "outputs": [
    {
     "data": {
      "text/plain": [
       "((50000, 20, 1000), (50000, 1000))"
      ]
     },
     "execution_count": 5,
     "metadata": {},
     "output_type": "execute_result"
    }
   ],
   "source": [
    "X.shape,y.shape"
   ]
  },
  {
   "cell_type": "code",
   "execution_count": 6,
   "id": "failing-credits",
   "metadata": {},
   "outputs": [
    {
     "name": "stdout",
     "output_type": "stream",
     "text": [
      "1.0 0.05 G\n"
     ]
    }
   ],
   "source": [
    "print(X.nbytes/10**9,y.nbytes/10**9,'G')"
   ]
  },
  {
   "cell_type": "markdown",
   "id": "qualified-intellectual",
   "metadata": {},
   "source": [
    "Let's split the data, assigning 25% of the training samples for a local model testing."
   ]
  },
  {
   "cell_type": "code",
   "execution_count": 7,
   "id": "fossil-investigator",
   "metadata": {},
   "outputs": [],
   "source": [
    "X_train,X_test,y_train,y_test = train_test_split(X,y,test_size=0.25,random_state=123)"
   ]
  },
  {
   "cell_type": "code",
   "execution_count": 8,
   "id": "configured-interpretation",
   "metadata": {},
   "outputs": [],
   "source": [
    "del X, y"
   ]
  },
  {
   "cell_type": "code",
   "execution_count": 9,
   "id": "collect-olympus",
   "metadata": {},
   "outputs": [
    {
     "data": {
      "text/plain": [
       "((37500, 20, 1000), (37500, 1000))"
      ]
     },
     "execution_count": 9,
     "metadata": {},
     "output_type": "execute_result"
    }
   ],
   "source": [
    "X_train.shape,y_train.shape"
   ]
  },
  {
   "cell_type": "code",
   "execution_count": 10,
   "id": "declared-conducting",
   "metadata": {},
   "outputs": [
    {
     "data": {
      "text/plain": [
       "((12500, 20, 1000), (12500, 1000))"
      ]
     },
     "execution_count": 10,
     "metadata": {},
     "output_type": "execute_result"
    }
   ],
   "source": [
    "X_test.shape,y_test.shape"
   ]
  },
  {
   "cell_type": "markdown",
   "id": "novel-group",
   "metadata": {},
   "source": [
    "### 2.1 Mean-F1-score metrics function <a id='2.1'></a>"
   ]
  },
  {
   "cell_type": "markdown",
   "id": "sublime-mandate",
   "metadata": {},
   "source": [
    "Let's prepare the metrics to check the performance of models."
   ]
  },
  {
   "cell_type": "code",
   "execution_count": 11,
   "id": "motivated-admission",
   "metadata": {},
   "outputs": [],
   "source": [
    "def individual_score(y_true, y_pred):\n",
    "    \n",
    "    len_true = np.dot(y_true,y_true)\n",
    "    len_pred = np.dot(y_pred,y_pred)\n",
    "    len_comm = np.dot(y_true,y_pred)\n",
    "        \n",
    "    # both empty\n",
    "    if len_true + len_pred == 0:\n",
    "        return 1.,1.,1.\n",
    "\n",
    "    # nothing in common (includes both: none vs sth and sth vs none, so no division by zero \n",
    "    if len_comm == 0: \n",
    "        return 0.,0.,0.\n",
    "    \n",
    "    p = 1. * len_comm / len_pred\n",
    "    r = 1. * len_comm / len_true\n",
    "    \n",
    "    return p, r, 2 * p * r / (p + r)\n",
    "    \n",
    "def mean_precision_score(y_true, y_pred):\n",
    "\n",
    "    return np.mean([individual_score(x, y)[0] for x, y in zip(y_true, y_pred)])    \n",
    "    \n",
    "def mean_recall_score(y_true, y_pred):\n",
    "\n",
    "    return np.mean([individual_score(x, y)[1] for x, y in zip(y_true, y_pred)])       \n",
    "    \n",
    "def mean_f1_score(y_true, y_pred):\n",
    "\n",
    "    return np.mean([individual_score(x, y)[2] for x, y in zip(y_true, y_pred)])"
   ]
  },
  {
   "cell_type": "code",
   "execution_count": 12,
   "id": "norwegian-gabriel",
   "metadata": {},
   "outputs": [
    {
     "name": "stdout",
     "output_type": "stream",
     "text": [
      "1.0 0.5 0.0\n"
     ]
    }
   ],
   "source": [
    "print(mean_f1_score([0,0],[0,0]),mean_f1_score([[1,0],[0,0]],[[0,0],[0,0]]),mean_f1_score([[0,0],[1,0]],[[1,1],[0,1]]))"
   ]
  },
  {
   "cell_type": "markdown",
   "id": "intermediate-procurement",
   "metadata": {},
   "source": [
    "### 2.2 Baseline model <a id='2.2'></a>"
   ]
  },
  {
   "cell_type": "markdown",
   "id": "voluntary-spokesman",
   "metadata": {},
   "source": [
    "Our baseline model will be to copy the customer's last order as a prediction. What's the score of this?:"
   ]
  },
  {
   "cell_type": "markdown",
   "id": "embedded-dealing",
   "metadata": {},
   "source": [
    "For train sample:"
   ]
  },
  {
   "cell_type": "code",
   "execution_count": 13,
   "id": "defined-hawaii",
   "metadata": {},
   "outputs": [
    {
     "data": {
      "text/plain": [
       "0.382"
      ]
     },
     "execution_count": 13,
     "metadata": {},
     "output_type": "execute_result"
    }
   ],
   "source": [
    "y_train_pred = X_train[:,-1,:]\n",
    "round(mean_f1_score(y_train,y_train_pred),3)"
   ]
  },
  {
   "cell_type": "markdown",
   "id": "choice-tanzania",
   "metadata": {},
   "source": [
    "For test sample:"
   ]
  },
  {
   "cell_type": "code",
   "execution_count": 14,
   "id": "protecting-applicant",
   "metadata": {},
   "outputs": [
    {
     "data": {
      "text/plain": [
       "0.385"
      ]
     },
     "execution_count": 14,
     "metadata": {},
     "output_type": "execute_result"
    }
   ],
   "source": [
    "y_test_pred = X_test[:,-1,:]\n",
    "round(mean_f1_score(y_test,y_test_pred),3)"
   ]
  },
  {
   "cell_type": "markdown",
   "id": "shared-sleeping",
   "metadata": {},
   "source": [
    "Similar results, the score is 0.385 for the test sample. And what if we copy from earlier orders?:"
   ]
  },
  {
   "cell_type": "code",
   "execution_count": 15,
   "id": "disturbed-metadata",
   "metadata": {},
   "outputs": [],
   "source": [
    "x = np.linspace(1,20,20); y = []\n",
    "\n",
    "for i in range(1,21):\n",
    "        \n",
    "    y_test_pred  = X_test[:,-i,:]\n",
    "    y.append(mean_f1_score(y_test ,y_test_pred))"
   ]
  },
  {
   "cell_type": "code",
   "execution_count": 16,
   "id": "surrounded-marina",
   "metadata": {},
   "outputs": [
    {
     "data": {
      "image/png": "[encoded data removed]",
      "text/plain": [
       "<Figure size 600x400 with 1 Axes>"
      ]
     },
     "metadata": {
      "needs_background": "light"
     },
     "output_type": "display_data"
    }
   ],
   "source": [
    "plt.rcParams.update({'axes.labelsize': 15})\n",
    "\n",
    "plt.plot(x,y,marker='o',markersize=4); plt.ylim(0,0.4)\n",
    "\n",
    "plt.title('Baseline prediction as a copy of the i-th last order')\n",
    "plt.xlabel('i-th last order'); plt.ylabel('mean F1 score');"
   ]
  },
  {
   "cell_type": "markdown",
   "id": "advised-audio",
   "metadata": {},
   "source": [
    "Ha! Seems like the customer's memory fades away and preference changes with time. If we were to use the 8th last order as the prediction, the score would drop down by half."
   ]
  },
  {
   "cell_type": "markdown",
   "id": "intended-guide",
   "metadata": {},
   "source": [
    "What if we sum up the last n orders, for n varying from 1 to 20:"
   ]
  },
  {
   "cell_type": "code",
   "execution_count": 17,
   "id": "higher-gamma",
   "metadata": {},
   "outputs": [],
   "source": [
    "x = np.linspace(1,20,20); z = []\n",
    "\n",
    "for i in range(1,21):\n",
    "    \n",
    "    X_test_reduced = X_test[:,-i:,:]\n",
    "    X_test_ln = np.sum(X_test_reduced,axis=1)\n",
    "    z.append(mean_f1_score(y_test ,X_test_ln))"
   ]
  },
  {
   "cell_type": "code",
   "execution_count": 18,
   "id": "irish-freedom",
   "metadata": {},
   "outputs": [
    {
     "data": {
      "image/png": "[encoded data removed]",
      "text/plain": [
       "<Figure size 600x400 with 1 Axes>"
      ]
     },
     "metadata": {
      "needs_background": "light"
     },
     "output_type": "display_data"
    }
   ],
   "source": [
    "plt.rcParams.update({'axes.labelsize': 15})\n",
    "\n",
    "plt.plot(x,z,marker='o',markersize=4); \n",
    "plt.ylim(0.2,0.4)\n",
    "\n",
    "plt.title('Baseline prediction as a sum of the last n orders')\n",
    "plt.xlabel('n'); plt.ylabel('mean F1 score');\n",
    "plt.axhline(z[0],c='r',linestyle='--',linewidth=1,label='last order');\n",
    "plt.legend();"
   ]
  },
  {
   "cell_type": "code",
   "execution_count": 19,
   "id": "contemporary-entry",
   "metadata": {},
   "outputs": [
    {
     "data": {
      "text/plain": [
       "0.387"
      ]
     },
     "execution_count": 19,
     "metadata": {},
     "output_type": "execute_result"
    }
   ],
   "source": [
    "round(z[np.argmax(z)],3)"
   ]
  },
  {
   "cell_type": "markdown",
   "id": "accurate-newsletter",
   "metadata": {},
   "source": [
    "The highest score if we sum two last orders!"
   ]
  },
  {
   "cell_type": "markdown",
   "id": "recovered-repeat",
   "metadata": {},
   "source": [
    "OK, let's move to deep learing now. \n",
    "\n",
    "Before we start model implementations, let's define the early stopping callback, which we will use for all the models we'll try below. It will stop training if the score doesn't improve after patience=3 consequtive interactions. Let's also prepare two plotting functons. "
   ]
  },
  {
   "cell_type": "code",
   "execution_count": 20,
   "id": "compact-stereo",
   "metadata": {},
   "outputs": [],
   "source": [
    "callback = EarlyStopping(patience=5,restore_best_weights=True)"
   ]
  },
  {
   "cell_type": "code",
   "execution_count": 21,
   "id": "collectible-discussion",
   "metadata": {},
   "outputs": [],
   "source": [
    "def plot_loss(h):\n",
    "    fig, ax = plt.subplots(1,1,figsize=(6,4))\n",
    "\n",
    "    #skip the very first one, to avoid high train\n",
    "    ax.plot(h.history['loss'][1:],marker='o',markersize=4)\n",
    "    ax.plot(h.history['val_loss'][1:],marker='o',markersize=4)\n",
    "\n",
    "    ax.set_xlabel('epoch',fontsize=18); ax.set_ylabel('Loss',fontsize=18); \n",
    "    ax.legend(['train', 'test'], fontsize=14);"
   ]
  },
  {
   "cell_type": "code",
   "execution_count": 22,
   "id": "potential-amazon",
   "metadata": {},
   "outputs": [],
   "source": [
    "def find_threshold(y_true,y_pred_prob):\n",
    "    \n",
    "    x = []; f = []; r = []; p = []\n",
    "    \n",
    "    for t in np.arange(0.,1.,0.01):\n",
    "        \n",
    "        y_pred = np.where(y_pred_prob > t, 1, 0)\n",
    "        \n",
    "        x.append(t)\n",
    "        f.append(mean_f1_score(y_true,y_pred))\n",
    "        r.append(mean_recall_score(y_true,y_pred))\n",
    "        p.append(mean_precision_score(y_true,y_pred))\n",
    "                       \n",
    "    return x,f,r,p\n",
    "\n",
    "def plot_threshold(x,f,r,p):\n",
    "    plt.rcParams.update({'axes.labelsize': 15})\n",
    "\n",
    "    plt.plot(x,p,marker='o',markersize=1)\n",
    "    plt.plot(x,r,marker='o',markersize=1)\n",
    "    plt.plot(x,f,marker='o',markersize=1)\n",
    "\n",
    "    thres = x[np.argmax(f)]\n",
    "    plt.text(0.45,0.1,'Max F1 for P > {}'.format(thres))\n",
    "    \n",
    "    plt.title('Sigmoid threshold optimization')\n",
    "    plt.xlabel('Probability threshold'); plt.ylabel('Mean score')\n",
    "    plt.legend(['Mean Precision', 'Mean Recall','Mean F1 score'], fontsize=12);\n",
    "    \n",
    "    return thres"
   ]
  },
  {
   "cell_type": "markdown",
   "id": "reliable-momentum",
   "metadata": {},
   "source": [
    "### 2.3 A simple GRU <a id='2.3'></a>"
   ]
  },
  {
   "cell_type": "code",
   "execution_count": 33,
   "id": "eleven-variety",
   "metadata": {},
   "outputs": [
    {
     "name": "stdout",
     "output_type": "stream",
     "text": [
      "Model: \"sequential\"\n",
      "_________________________________________________________________\n",
      "Layer (type)                 Output Shape              Param #   \n",
      "=================================================================\n",
      "gru (GRU)                    (None, 1000)              6006000   \n",
      "_________________________________________________________________\n",
      "dense (Dense)                (None, 1000)              1001000   \n",
      "=================================================================\n",
      "Total params: 7,007,000\n",
      "Trainable params: 7,007,000\n",
      "Non-trainable params: 0\n",
      "_________________________________________________________________\n"
     ]
    }
   ],
   "source": [
    "model = Sequential()\n",
    "model.add(GRU(n_products, activation='relu', input_shape=(last_n_orders,n_products),return_sequences=False))\n",
    "model.add(Dense(n_products, activation='sigmoid'))\n",
    "model.summary()"
   ]
  },
  {
   "cell_type": "code",
   "execution_count": 34,
   "id": "appropriate-birmingham",
   "metadata": {},
   "outputs": [],
   "source": [
    "model.compile(loss='binary_crossentropy', optimizer='adam')#, metrics=['accuracy'])"
   ]
  },
  {
   "cell_type": "code",
   "execution_count": 35,
   "id": "logical-automation",
   "metadata": {},
   "outputs": [
    {
     "name": "stdout",
     "output_type": "stream",
     "text": [
      "Epoch 1/50\n",
      "1172/1172 [==============================] - 444s 379ms/step - loss: 0.0303 - val_loss: 0.0200\n",
      "Epoch 2/50\n",
      "1172/1172 [==============================] - 436s 372ms/step - loss: 0.0184 - val_loss: 0.0179\n",
      "Epoch 3/50\n",
      "1172/1172 [==============================] - 452s 386ms/step - loss: 0.0161 - val_loss: 0.0165\n",
      "Epoch 4/50\n",
      "1172/1172 [==============================] - 468s 399ms/step - loss: 0.0143 - val_loss: 0.0157\n",
      "Epoch 5/50\n",
      "1172/1172 [==============================] - 441s 376ms/step - loss: 0.0128 - val_loss: 0.0155\n",
      "Epoch 6/50\n",
      "1172/1172 [==============================] - 449s 383ms/step - loss: 0.0116 - val_loss: 0.0156\n",
      "Epoch 7/50\n",
      "1172/1172 [==============================] - 441s 376ms/step - loss: 0.0105 - val_loss: 0.0160\n",
      "Epoch 8/50\n",
      "1172/1172 [==============================] - 440s 376ms/step - loss: 0.0094 - val_loss: 0.0163\n",
      "Epoch 9/50\n",
      "1172/1172 [==============================] - 440s 376ms/step - loss: 0.0083 - val_loss: 0.0170\n",
      "Epoch 10/50\n",
      "1172/1172 [==============================] - 441s 376ms/step - loss: 0.0073 - val_loss: 0.0179\n",
      "CPU times: user 8h 9min 45s, sys: 8min 16s, total: 8h 18min 1s\n",
      "Wall time: 1h 14min 16s\n"
     ]
    }
   ],
   "source": [
    "%%time\n",
    "\n",
    "h = model.fit(X_train, y_train,validation_data=(X_test, y_test),epochs=50,callbacks=[callback])"
   ]
  },
  {
   "cell_type": "code",
   "execution_count": 36,
   "id": "vulnerable-development",
   "metadata": {},
   "outputs": [
    {
     "data": {
      "text/plain": [
       "dict_keys(['loss', 'val_loss'])"
      ]
     },
     "execution_count": 36,
     "metadata": {},
     "output_type": "execute_result"
    }
   ],
   "source": [
    "h.history.keys()"
   ]
  },
  {
   "cell_type": "code",
   "execution_count": 37,
   "id": "silver-train",
   "metadata": {},
   "outputs": [
    {
     "data": {
      "image/png": "[encoded data removed]",
      "text/plain": [
       "<Figure size 600x400 with 1 Axes>"
      ]
     },
     "metadata": {
      "needs_background": "light"
     },
     "output_type": "display_data"
    }
   ],
   "source": [
    "plot_loss(h)"
   ]
  },
  {
   "cell_type": "code",
   "execution_count": 38,
   "id": "august-measure",
   "metadata": {},
   "outputs": [],
   "source": [
    "y_train_pred = model.predict(X_train)\n",
    "y_test_pred  = model.predict(X_test)"
   ]
  },
  {
   "cell_type": "code",
   "execution_count": 39,
   "id": "catholic-latino",
   "metadata": {},
   "outputs": [
    {
     "data": {
      "image/png": "[encoded data removed]",
      "text/plain": [
       "<Figure size 600x400 with 1 Axes>"
      ]
     },
     "metadata": {
      "needs_background": "light"
     },
     "output_type": "display_data"
    }
   ],
   "source": [
    "plt.hist(y_test_pred.ravel(),log=True);"
   ]
  },
  {
   "cell_type": "code",
   "execution_count": 40,
   "id": "framed-fraud",
   "metadata": {},
   "outputs": [],
   "source": [
    "x,f,r,p = find_threshold(y_test,y_test_pred)"
   ]
  },
  {
   "cell_type": "code",
   "execution_count": 41,
   "id": "revolutionary-reproduction",
   "metadata": {},
   "outputs": [
    {
     "data": {
      "image/png": "[encoded data removed]",
      "text/plain": [
       "<Figure size 600x400 with 1 Axes>"
      ]
     },
     "metadata": {
      "needs_background": "light"
     },
     "output_type": "display_data"
    }
   ],
   "source": [
    "thres = plot_threshold(x,f,r,p)"
   ]
  },
  {
   "cell_type": "code",
   "execution_count": 42,
   "id": "dated-pencil",
   "metadata": {},
   "outputs": [],
   "source": [
    "y_train_pred_class = np.where(y_train_pred > thres, 1, 0)\n",
    "y_test_pred_class  = np.where(y_test_pred  > thres, 1, 0)"
   ]
  },
  {
   "cell_type": "code",
   "execution_count": 43,
   "id": "municipal-retreat",
   "metadata": {},
   "outputs": [
    {
     "name": "stdout",
     "output_type": "stream",
     "text": [
      "train sample: 0.450526\n",
      "test  sample: 0.383692\n"
     ]
    }
   ],
   "source": [
    "print('train sample:',round(mean_f1_score(y_train,y_train_pred_class),6))\n",
    "print('test  sample:',round(mean_f1_score(y_test,y_test_pred_class),6))"
   ]
  },
  {
   "cell_type": "markdown",
   "id": "municipal-coffee",
   "metadata": {},
   "source": [
    "### 2.4 A simple LSTM <a id='2.4'></a>"
   ]
  },
  {
   "cell_type": "markdown",
   "id": "graphic-slovak",
   "metadata": {},
   "source": [
    "Cool. Now let's build the first model. A simple LSTM and a dense layer"
   ]
  },
  {
   "cell_type": "code",
   "execution_count": 44,
   "id": "placed-yeast",
   "metadata": {},
   "outputs": [
    {
     "name": "stdout",
     "output_type": "stream",
     "text": [
      "Model: \"sequential_1\"\n",
      "_________________________________________________________________\n",
      "Layer (type)                 Output Shape              Param #   \n",
      "=================================================================\n",
      "lstm (LSTM)                  (None, 1000)              8004000   \n",
      "_________________________________________________________________\n",
      "dense_1 (Dense)              (None, 1000)              1001000   \n",
      "=================================================================\n",
      "Total params: 9,005,000\n",
      "Trainable params: 9,005,000\n",
      "Non-trainable params: 0\n",
      "_________________________________________________________________\n"
     ]
    }
   ],
   "source": [
    "model2 = Sequential()\n",
    "model2.add(LSTM(n_products, activation='relu', input_shape=(last_n_orders,n_products),return_sequences=False))\n",
    "model2.add(Dense(n_products, activation='sigmoid'))\n",
    "model2.summary()"
   ]
  },
  {
   "cell_type": "code",
   "execution_count": 45,
   "id": "expressed-receptor",
   "metadata": {},
   "outputs": [],
   "source": [
    "model2.compile(loss='binary_crossentropy', optimizer='adam')#, metrics=['accuracy'])"
   ]
  },
  {
   "cell_type": "code",
   "execution_count": 46,
   "id": "communist-champion",
   "metadata": {},
   "outputs": [
    {
     "name": "stdout",
     "output_type": "stream",
     "text": [
      "Epoch 1/50\n",
      "1172/1172 [==============================] - 572s 488ms/step - loss: 0.0260 - val_loss: 0.0202\n",
      "Epoch 2/50\n",
      "1172/1172 [==============================] - 572s 488ms/step - loss: 0.0188 - val_loss: 0.0186\n",
      "Epoch 3/50\n",
      "1172/1172 [==============================] - 572s 488ms/step - loss: 0.0171 - val_loss: 0.0174\n",
      "Epoch 4/50\n",
      "1172/1172 [==============================] - 574s 490ms/step - loss: 0.0154 - val_loss: 0.0165\n",
      "Epoch 5/50\n",
      "1172/1172 [==============================] - 574s 490ms/step - loss: 0.0138 - val_loss: 0.0160\n",
      "Epoch 6/50\n",
      "1172/1172 [==============================] - 576s 491ms/step - loss: 0.0124 - val_loss: 0.0160\n",
      "Epoch 7/50\n",
      "1172/1172 [==============================] - 572s 488ms/step - loss: 0.0111 - val_loss: 0.0166\n",
      "Epoch 8/50\n",
      "1172/1172 [==============================] - 573s 489ms/step - loss: 0.0099 - val_loss: 0.0174\n",
      "Epoch 9/50\n",
      "1172/1172 [==============================] - 573s 489ms/step - loss: 0.0098 - val_loss: 0.0182\n",
      "Epoch 10/50\n",
      "1172/1172 [==============================] - 573s 489ms/step - loss: 0.0090 - val_loss: 0.0188\n",
      "CPU times: user 10h 46min 56s, sys: 11min 9s, total: 10h 58min 6s\n",
      "Wall time: 1h 35min 37s\n"
     ]
    }
   ],
   "source": [
    "%%time\n",
    "\n",
    "h2 = model2.fit(X_train, y_train,validation_data=(X_test, y_test),epochs=50,callbacks=[callback])"
   ]
  },
  {
   "cell_type": "code",
   "execution_count": 47,
   "id": "humanitarian-purple",
   "metadata": {},
   "outputs": [
    {
     "data": {
      "image/png": "[encoded data removed]",
      "text/plain": [
       "<Figure size 600x400 with 1 Axes>"
      ]
     },
     "metadata": {
      "needs_background": "light"
     },
     "output_type": "display_data"
    }
   ],
   "source": [
    "plot_loss(h2)"
   ]
  },
  {
   "cell_type": "code",
   "execution_count": null,
   "id": "declared-republic",
   "metadata": {},
   "outputs": [],
   "source": [
    "#model.save('./data/model211.h5')"
   ]
  },
  {
   "cell_type": "code",
   "execution_count": null,
   "id": "british-adjustment",
   "metadata": {},
   "outputs": [],
   "source": [
    "#with open('./data/history211.pkl', 'wb') as f:\n",
    "#    pickle.dump(h, f)"
   ]
  },
  {
   "cell_type": "code",
   "execution_count": 48,
   "id": "ecological-contributor",
   "metadata": {},
   "outputs": [],
   "source": [
    "y_train_pred = model2.predict(X_train)\n",
    "y_test_pred  = model2.predict(X_test)"
   ]
  },
  {
   "cell_type": "code",
   "execution_count": 49,
   "id": "above-destination",
   "metadata": {},
   "outputs": [
    {
     "data": {
      "image/png": "[encoded data removed]",
      "text/plain": [
       "<Figure size 600x400 with 1 Axes>"
      ]
     },
     "metadata": {
      "needs_background": "light"
     },
     "output_type": "display_data"
    }
   ],
   "source": [
    "plt.hist(y_test.ravel(),log=True);"
   ]
  },
  {
   "cell_type": "code",
   "execution_count": 50,
   "id": "outdoor-butterfly",
   "metadata": {},
   "outputs": [
    {
     "data": {
      "image/png": "[encoded data removed]",
      "text/plain": [
       "<Figure size 600x400 with 1 Axes>"
      ]
     },
     "metadata": {
      "needs_background": "light"
     },
     "output_type": "display_data"
    }
   ],
   "source": [
    "plt.hist(y_test_pred.ravel(),log=True);"
   ]
  },
  {
   "cell_type": "markdown",
   "id": "final-algeria",
   "metadata": {},
   "source": [
    "Optimize threshold:"
   ]
  },
  {
   "cell_type": "code",
   "execution_count": 51,
   "id": "scientific-gallery",
   "metadata": {},
   "outputs": [],
   "source": [
    "x,f,r,p = find_threshold(y_test,y_test_pred)"
   ]
  },
  {
   "cell_type": "code",
   "execution_count": 52,
   "id": "guided-charity",
   "metadata": {},
   "outputs": [
    {
     "data": {
      "image/png": "[encoded data removed]",
      "text/plain": [
       "<Figure size 600x400 with 1 Axes>"
      ]
     },
     "metadata": {
      "needs_background": "light"
     },
     "output_type": "display_data"
    }
   ],
   "source": [
    "thres = plot_threshold(x,f,r,p)"
   ]
  },
  {
   "cell_type": "code",
   "execution_count": 53,
   "id": "harmful-playing",
   "metadata": {},
   "outputs": [],
   "source": [
    "y_train_pred_class = np.where(y_train_pred > thres, 1, 0)\n",
    "y_test_pred_class  = np.where(y_test_pred  > thres, 1, 0)"
   ]
  },
  {
   "cell_type": "markdown",
   "id": "cleared-console",
   "metadata": {},
   "source": [
    "Mean F1 score:"
   ]
  },
  {
   "cell_type": "code",
   "execution_count": 54,
   "id": "adopted-northern",
   "metadata": {},
   "outputs": [
    {
     "name": "stdout",
     "output_type": "stream",
     "text": [
      "train sample: 0.435397\n",
      "test  sample: 0.37342\n"
     ]
    }
   ],
   "source": [
    "print('train sample:',round(mean_f1_score(y_train,y_train_pred_class),6))\n",
    "print('test  sample:',round(mean_f1_score(y_test,y_test_pred_class),6))"
   ]
  },
  {
   "cell_type": "code",
   "execution_count": 55,
   "id": "instructional-cookbook",
   "metadata": {},
   "outputs": [
    {
     "name": "stdout",
     "output_type": "stream",
     "text": [
      "train sample: 0.469902\n",
      "test  sample: 0.39083\n"
     ]
    }
   ],
   "source": [
    "print('train sample:',round(mean_recall_score(y_train,y_train_pred_class),6))\n",
    "print('test  sample:',round(mean_recall_score(y_test,y_test_pred_class),6))"
   ]
  },
  {
   "cell_type": "code",
   "execution_count": 56,
   "id": "cardiac-marks",
   "metadata": {},
   "outputs": [
    {
     "name": "stdout",
     "output_type": "stream",
     "text": [
      "train sample: 0.460252\n",
      "test  sample: 0.413542\n"
     ]
    }
   ],
   "source": [
    "print('train sample:',round(mean_precision_score(y_train,y_train_pred_class),6))\n",
    "print('test  sample:',round(mean_precision_score(y_test,y_test_pred_class),6))"
   ]
  },
  {
   "cell_type": "code",
   "execution_count": null,
   "id": "pointed-syndication",
   "metadata": {},
   "outputs": [],
   "source": []
  },
  {
   "cell_type": "code",
   "execution_count": null,
   "id": "collaborative-filing",
   "metadata": {},
   "outputs": [],
   "source": []
  },
  {
   "cell_type": "markdown",
   "id": "norwegian-bahrain",
   "metadata": {},
   "source": [
    "Printout for the i-th customer:"
   ]
  },
  {
   "cell_type": "code",
   "execution_count": 57,
   "id": "stylish-diameter",
   "metadata": {},
   "outputs": [
    {
     "name": "stdout",
     "output_type": "stream",
     "text": [
      "train:\n",
      "   true: (array([258, 383, 444, 506, 941]),)\n",
      "   pred: (array([  7, 444, 506, 892]),)\n",
      "   common: 2\n",
      "\n",
      " test:\n",
      "   true: (array([103, 506, 575, 754, 850, 918, 973]),)\n",
      "   pred: (array([262, 444, 506, 617, 842, 902]),)\n",
      "   common: 1\n"
     ]
    }
   ],
   "source": [
    "i = 5\n",
    "print('train:')\n",
    "print('   true:',np.nonzero(y_train[i]))\n",
    "print('   pred:',np.nonzero(y_train_pred_class[i]))\n",
    "print('   common:',np.dot(y_train[i],y_train_pred_class[i]))\n",
    "\n",
    "print('\\n test:')\n",
    "print('   true:',np.nonzero(y_test[i]))\n",
    "print('   pred:',np.nonzero(y_test_pred_class[i]))\n",
    "print('   common:',np.dot(y_test[i],y_test_pred_class[i]))"
   ]
  },
  {
   "cell_type": "markdown",
   "id": "usual-telescope",
   "metadata": {},
   "source": [
    "2 and 3 common"
   ]
  },
  {
   "cell_type": "code",
   "execution_count": null,
   "id": "substantial-southeast",
   "metadata": {},
   "outputs": [],
   "source": []
  },
  {
   "cell_type": "markdown",
   "id": "rubber-notification",
   "metadata": {},
   "source": [
    "### 2.5 BIdirectional GRU <a id='2.5'></a>"
   ]
  },
  {
   "cell_type": "code",
   "execution_count": 59,
   "id": "center-regular",
   "metadata": {},
   "outputs": [
    {
     "name": "stdout",
     "output_type": "stream",
     "text": [
      "Model: \"sequential_3\"\n",
      "_________________________________________________________________\n",
      "Layer (type)                 Output Shape              Param #   \n",
      "=================================================================\n",
      "bidirectional_1 (Bidirection (None, 2000)              12012000  \n",
      "_________________________________________________________________\n",
      "dense_3 (Dense)              (None, 1000)              2001000   \n",
      "=================================================================\n",
      "Total params: 14,013,000\n",
      "Trainable params: 14,013,000\n",
      "Non-trainable params: 0\n",
      "_________________________________________________________________\n"
     ]
    }
   ],
   "source": [
    "model3 = Sequential()\n",
    "model3.add(Bidirectional(GRU(n_products, activation='relu',return_sequences=False),input_shape=(last_n_orders,n_products)))\n",
    "model3.add(Dense(n_products, activation='sigmoid'))\n",
    "model3.summary()"
   ]
  },
  {
   "cell_type": "code",
   "execution_count": 60,
   "id": "current-charlotte",
   "metadata": {},
   "outputs": [],
   "source": [
    "model3.compile(loss='binary_crossentropy', optimizer='adam')#, metrics=['accuracy'])"
   ]
  },
  {
   "cell_type": "code",
   "execution_count": 61,
   "id": "severe-block",
   "metadata": {},
   "outputs": [
    {
     "name": "stdout",
     "output_type": "stream",
     "text": [
      "Epoch 1/50\n",
      "1172/1172 [==============================] - 910s 776ms/step - loss: 0.0242 - val_loss: 0.0185\n",
      "Epoch 2/50\n",
      "1172/1172 [==============================] - 909s 775ms/step - loss: 0.0165 - val_loss: 0.0163\n",
      "Epoch 3/50\n",
      "1172/1172 [==============================] - 994s 849ms/step - loss: 0.0140 - val_loss: 0.0155\n",
      "Epoch 4/50\n",
      "1172/1172 [==============================] - 864s 737ms/step - loss: 0.0122 - val_loss: 0.0156\n",
      "Epoch 5/50\n",
      "1172/1172 [==============================] - 851s 726ms/step - loss: 0.0106 - val_loss: 0.0158\n",
      "Epoch 6/50\n",
      "1172/1172 [==============================] - 851s 726ms/step - loss: 0.0091 - val_loss: 0.0165\n",
      "Epoch 7/50\n",
      "1172/1172 [==============================] - 851s 726ms/step - loss: 0.0075 - val_loss: 0.0176\n",
      "Epoch 8/50\n",
      "1172/1172 [==============================] - 851s 726ms/step - loss: 0.0060 - val_loss: 0.0194\n",
      "CPU times: user 13h 50min 53s, sys: 9min 16s, total: 14h 10s\n",
      "Wall time: 1h 58min 7s\n"
     ]
    }
   ],
   "source": [
    "%%time\n",
    "\n",
    "h3 = model3.fit(X_train, y_train,validation_data=(X_test, y_test),epochs=50,callbacks=[callback])"
   ]
  },
  {
   "cell_type": "code",
   "execution_count": 62,
   "id": "collectible-groove",
   "metadata": {},
   "outputs": [
    {
     "data": {
      "image/png": "[encoded data removed]",
      "text/plain": [
       "<Figure size 600x400 with 1 Axes>"
      ]
     },
     "metadata": {
      "needs_background": "light"
     },
     "output_type": "display_data"
    }
   ],
   "source": [
    "plot_loss(h3)"
   ]
  },
  {
   "cell_type": "code",
   "execution_count": 63,
   "id": "prepared-longitude",
   "metadata": {},
   "outputs": [],
   "source": [
    "y_train_pred = model3.predict(X_train)\n",
    "y_test_pred  = model3.predict(X_test)"
   ]
  },
  {
   "cell_type": "code",
   "execution_count": 64,
   "id": "bizarre-michael",
   "metadata": {},
   "outputs": [
    {
     "data": {
      "image/png": "[encoded data removed]",
      "text/plain": [
       "<Figure size 600x400 with 1 Axes>"
      ]
     },
     "metadata": {
      "needs_background": "light"
     },
     "output_type": "display_data"
    }
   ],
   "source": [
    "plt.hist(y_test_pred.ravel(),log=True);"
   ]
  },
  {
   "cell_type": "code",
   "execution_count": 65,
   "id": "micro-minimum",
   "metadata": {},
   "outputs": [],
   "source": [
    "x,f,r,p = find_threshold(y_test,y_test_pred)"
   ]
  },
  {
   "cell_type": "code",
   "execution_count": 66,
   "id": "great-commissioner",
   "metadata": {},
   "outputs": [
    {
     "data": {
      "image/png": "[encoded data removed]",
      "text/plain": [
       "<Figure size 600x400 with 1 Axes>"
      ]
     },
     "metadata": {
      "needs_background": "light"
     },
     "output_type": "display_data"
    }
   ],
   "source": [
    "thres = plot_threshold(x,f,r,p)"
   ]
  },
  {
   "cell_type": "code",
   "execution_count": 67,
   "id": "detected-execution",
   "metadata": {},
   "outputs": [],
   "source": [
    "y_train_pred_class = np.where(y_train_pred > thres, 1, 0)\n",
    "y_test_pred_class  = np.where(y_test_pred  > thres, 1, 0)"
   ]
  },
  {
   "cell_type": "code",
   "execution_count": 68,
   "id": "atlantic-youth",
   "metadata": {},
   "outputs": [
    {
     "name": "stdout",
     "output_type": "stream",
     "text": [
      "train sample: 0.441232\n",
      "test  sample: 0.385201\n"
     ]
    }
   ],
   "source": [
    "print('train sample:',round(mean_f1_score(y_train,y_train_pred_class),6))\n",
    "print('test  sample:',round(mean_f1_score(y_test,y_test_pred_class),6))"
   ]
  },
  {
   "cell_type": "code",
   "execution_count": null,
   "id": "dress-regard",
   "metadata": {},
   "outputs": [],
   "source": []
  },
  {
   "cell_type": "markdown",
   "id": "satisfactory-venture",
   "metadata": {},
   "source": [
    "### 2.6 Bidirectional LSTM <a id='2.6'></a>"
   ]
  },
  {
   "cell_type": "code",
   "execution_count": 69,
   "id": "duplicate-religious",
   "metadata": {},
   "outputs": [
    {
     "name": "stdout",
     "output_type": "stream",
     "text": [
      "Model: \"sequential_4\"\n",
      "_________________________________________________________________\n",
      "Layer (type)                 Output Shape              Param #   \n",
      "=================================================================\n",
      "bidirectional_2 (Bidirection (None, 2000)              16008000  \n",
      "_________________________________________________________________\n",
      "dense_4 (Dense)              (None, 1000)              2001000   \n",
      "=================================================================\n",
      "Total params: 18,009,000\n",
      "Trainable params: 18,009,000\n",
      "Non-trainable params: 0\n",
      "_________________________________________________________________\n"
     ]
    }
   ],
   "source": [
    "model4 = Sequential()\n",
    "model4.add(Bidirectional(LSTM(n_products, activation='relu',return_sequences=False), input_shape=(last_n_orders,n_products)))\n",
    "model4.add(Dense(n_products, activation='sigmoid'))\n",
    "model4.summary()"
   ]
  },
  {
   "cell_type": "code",
   "execution_count": 70,
   "id": "rural-seattle",
   "metadata": {},
   "outputs": [],
   "source": [
    "model4.compile(loss='binary_crossentropy', optimizer='adam')#, metrics=['accuracy'])"
   ]
  },
  {
   "cell_type": "code",
   "execution_count": 71,
   "id": "immune-paraguay",
   "metadata": {},
   "outputs": [
    {
     "name": "stdout",
     "output_type": "stream",
     "text": [
      "Epoch 1/50\n",
      "1172/1172 [==============================] - 1103s 941ms/step - loss: 0.0289 - val_loss: 0.0201\n",
      "Epoch 2/50\n",
      "1172/1172 [==============================] - 1103s 941ms/step - loss: 0.0189 - val_loss: 0.0185\n",
      "Epoch 3/50\n",
      "1172/1172 [==============================] - 1104s 942ms/step - loss: 0.0169 - val_loss: 0.0173\n",
      "Epoch 4/50\n",
      "1172/1172 [==============================] - 1104s 942ms/step - loss: 0.0150 - val_loss: 0.0163\n",
      "Epoch 5/50\n",
      "1172/1172 [==============================] - 1104s 942ms/step - loss: 0.0131 - val_loss: 0.0161\n",
      "Epoch 6/50\n",
      "1172/1172 [==============================] - 1104s 942ms/step - loss: 0.0116 - val_loss: 0.0161\n",
      "Epoch 7/50\n",
      "1172/1172 [==============================] - 1104s 942ms/step - loss: 0.0103 - val_loss: 0.0168\n",
      "Epoch 8/50\n",
      "1172/1172 [==============================] - 1105s 943ms/step - loss: 0.0090 - val_loss: 0.0175\n",
      "Epoch 9/50\n",
      "1172/1172 [==============================] - 1104s 942ms/step - loss: 0.0079 - val_loss: 0.0185\n",
      "Epoch 10/50\n",
      "1172/1172 [==============================] - 1108s 945ms/step - loss: 0.0069 - val_loss: 0.0199\n",
      "CPU times: user 22h 47min 30s, sys: 17min 1s, total: 23h 4min 31s\n",
      "Wall time: 3h 4min 13s\n"
     ]
    }
   ],
   "source": [
    "%%time\n",
    "\n",
    "h4 = model4.fit(X_train, y_train,validation_data=(X_test, y_test),epochs=50,callbacks=[callback])"
   ]
  },
  {
   "cell_type": "code",
   "execution_count": 72,
   "id": "deluxe-promise",
   "metadata": {},
   "outputs": [
    {
     "data": {
      "image/png": "[encoded data removed]",
      "text/plain": [
       "<Figure size 600x400 with 1 Axes>"
      ]
     },
     "metadata": {
      "needs_background": "light"
     },
     "output_type": "display_data"
    }
   ],
   "source": [
    "plot_loss(h4)"
   ]
  },
  {
   "cell_type": "code",
   "execution_count": 73,
   "id": "collected-wallace",
   "metadata": {},
   "outputs": [],
   "source": [
    "y_train_pred = model4.predict(X_train)\n",
    "y_test_pred  = model4.predict(X_test)"
   ]
  },
  {
   "cell_type": "code",
   "execution_count": 74,
   "id": "alone-amplifier",
   "metadata": {},
   "outputs": [
    {
     "data": {
      "image/png": "[encoded data removed]",
      "text/plain": [
       "<Figure size 600x400 with 1 Axes>"
      ]
     },
     "metadata": {
      "needs_background": "light"
     },
     "output_type": "display_data"
    }
   ],
   "source": [
    "plt.hist(y_test_pred.ravel(),log=True);"
   ]
  },
  {
   "cell_type": "code",
   "execution_count": 75,
   "id": "random-lindsay",
   "metadata": {},
   "outputs": [],
   "source": [
    "x,f,r,p = find_threshold(y_test,y_test_pred)"
   ]
  },
  {
   "cell_type": "code",
   "execution_count": 76,
   "id": "pending-seeker",
   "metadata": {},
   "outputs": [
    {
     "data": {
      "image/png": "[encoded data removed]",
      "text/plain": [
       "<Figure size 600x400 with 1 Axes>"
      ]
     },
     "metadata": {
      "needs_background": "light"
     },
     "output_type": "display_data"
    }
   ],
   "source": [
    "thres = plot_threshold(x,f,r,p)"
   ]
  },
  {
   "cell_type": "code",
   "execution_count": 77,
   "id": "separate-radius",
   "metadata": {},
   "outputs": [],
   "source": [
    "y_train_pred_class = np.where(y_train_pred > thres, 1, 0)\n",
    "y_test_pred_class  = np.where(y_test_pred  > thres, 1, 0)"
   ]
  },
  {
   "cell_type": "code",
   "execution_count": 78,
   "id": "handled-cambridge",
   "metadata": {},
   "outputs": [
    {
     "name": "stdout",
     "output_type": "stream",
     "text": [
      "train sample: 0.451894\n",
      "test  sample: 0.37024\n"
     ]
    }
   ],
   "source": [
    "print('train sample:',round(mean_f1_score(y_train,y_train_pred_class),6))\n",
    "print('test  sample:',round(mean_f1_score(y_test,y_test_pred_class),6))"
   ]
  },
  {
   "cell_type": "code",
   "execution_count": null,
   "id": "thousand-layer",
   "metadata": {},
   "outputs": [],
   "source": []
  },
  {
   "cell_type": "markdown",
   "id": "split-medline",
   "metadata": {},
   "source": [
    "### 2.7 Stacked LSTM <a id='2.7'></a>"
   ]
  },
  {
   "cell_type": "markdown",
   "id": "placed-virgin",
   "metadata": {},
   "source": [
    "inspired by this post [https://stackabuse.com/solving-sequence-problems-with-lstm-in-keras-part-2/](https://stackabuse.com/solving-sequence-problems-with-lstm-in-keras-part-2/), \n",
    "\n",
    "section \"Many-to-Many Sequence Problems with Multiple Features\":"
   ]
  },
  {
   "cell_type": "code",
   "execution_count": 81,
   "id": "sunrise-airport",
   "metadata": {},
   "outputs": [
    {
     "name": "stdout",
     "output_type": "stream",
     "text": [
      "Model: \"sequential_6\"\n",
      "_________________________________________________________________\n",
      "Layer (type)                 Output Shape              Param #   \n",
      "=================================================================\n",
      "lstm_3 (LSTM)                (None, 1000)              8004000   \n",
      "_________________________________________________________________\n",
      "repeat_vector (RepeatVector) (None, 20, 1000)          0         \n",
      "_________________________________________________________________\n",
      "lstm_4 (LSTM)                (None, 1000)              8004000   \n",
      "_________________________________________________________________\n",
      "dense_5 (Dense)              (None, 1000)              1001000   \n",
      "=================================================================\n",
      "Total params: 17,009,000\n",
      "Trainable params: 17,009,000\n",
      "Non-trainable params: 0\n",
      "_________________________________________________________________\n"
     ]
    }
   ],
   "source": [
    "model5 = Sequential()\n",
    "model5.add(LSTM(n_products, activation='relu', input_shape=(last_n_orders,n_products)))\n",
    "model5.add(RepeatVector(last_n_orders))\n",
    "model5.add(LSTM(n_products, activation='relu',return_sequences=False))\n",
    "model5.add(Dense(n_products, activation='sigmoid'))\n",
    "model5.summary()"
   ]
  },
  {
   "cell_type": "code",
   "execution_count": 85,
   "id": "subtle-fifteen",
   "metadata": {},
   "outputs": [],
   "source": [
    "model5.compile(loss='binary_crossentropy', optimizer='adam')#, metrics=['accuracy'])"
   ]
  },
  {
   "cell_type": "code",
   "execution_count": 86,
   "id": "relevant-links",
   "metadata": {},
   "outputs": [
    {
     "name": "stdout",
     "output_type": "stream",
     "text": [
      "Epoch 1/50\n",
      "1172/1172 [==============================] - 1236s 1s/step - loss: 0.0199 - val_loss: 0.0194\n",
      "Epoch 2/50\n",
      "1172/1172 [==============================] - 1272s 1s/step - loss: 0.0183 - val_loss: 0.0184\n",
      "Epoch 3/50\n",
      "1172/1172 [==============================] - 1274s 1s/step - loss: 0.0170 - val_loss: 0.0179\n",
      "Epoch 4/50\n",
      "1172/1172 [==============================] - 1249s 1s/step - loss: 0.0157 - val_loss: 0.0177\n",
      "Epoch 5/50\n",
      "1172/1172 [==============================] - 1285s 1s/step - loss: 0.0144 - val_loss: 0.0177\n",
      "Epoch 6/50\n",
      "1172/1172 [==============================] - 1253s 1s/step - loss: 0.0136 - val_loss: 0.0182\n",
      "Epoch 7/50\n",
      "1172/1172 [==============================] - 1251s 1s/step - loss: 9.0744 - val_loss: 0.0185\n",
      "Epoch 8/50\n",
      "1172/1172 [==============================] - 1239s 1s/step - loss: 169.4120 - val_loss: 41.4905\n",
      "Epoch 9/50\n",
      "1172/1172 [==============================] - 1235s 1s/step - loss: 183.1527 - val_loss: 20.1653\n",
      "CPU times: user 21h 14min 38s, sys: 20min 8s, total: 21h 34min 46s\n",
      "Wall time: 3h 8min 24s\n"
     ]
    }
   ],
   "source": [
    "%%time\n",
    "\n",
    "h5 = model5.fit(X_train, y_train,validation_data=(X_test, y_test),epochs=50,callbacks=[callback])"
   ]
  },
  {
   "cell_type": "code",
   "execution_count": 87,
   "id": "loved-honey",
   "metadata": {},
   "outputs": [
    {
     "data": {
      "image/png": "[encoded data removed]",
      "text/plain": [
       "<Figure size 600x400 with 1 Axes>"
      ]
     },
     "metadata": {
      "needs_background": "light"
     },
     "output_type": "display_data"
    }
   ],
   "source": [
    "plot_loss(h5)"
   ]
  },
  {
   "cell_type": "code",
   "execution_count": 88,
   "id": "included-moore",
   "metadata": {},
   "outputs": [],
   "source": [
    "y_train_pred = model5.predict(X_train)\n",
    "y_test_pred  = model5.predict(X_test)"
   ]
  },
  {
   "cell_type": "code",
   "execution_count": 89,
   "id": "rental-special",
   "metadata": {},
   "outputs": [
    {
     "data": {
      "image/png": "[encoded data removed]",
      "text/plain": [
       "<Figure size 600x400 with 1 Axes>"
      ]
     },
     "metadata": {
      "needs_background": "light"
     },
     "output_type": "display_data"
    }
   ],
   "source": [
    "plt.hist(y_test_pred.ravel(),log=True);"
   ]
  },
  {
   "cell_type": "code",
   "execution_count": 90,
   "id": "ceramic-gospel",
   "metadata": {},
   "outputs": [],
   "source": [
    "x,f,r,p = find_threshold(y_test,y_test_pred)"
   ]
  },
  {
   "cell_type": "code",
   "execution_count": 91,
   "id": "fourth-qatar",
   "metadata": {},
   "outputs": [
    {
     "data": {
      "image/png": "[encoded data removed]",
      "text/plain": [
       "<Figure size 600x400 with 1 Axes>"
      ]
     },
     "metadata": {
      "needs_background": "light"
     },
     "output_type": "display_data"
    }
   ],
   "source": [
    "thres = plot_threshold(x,f,r,p)"
   ]
  },
  {
   "cell_type": "code",
   "execution_count": 92,
   "id": "earlier-confusion",
   "metadata": {},
   "outputs": [],
   "source": [
    "y_train_pred_class = np.where(y_train_pred > thres, 1, 0)\n",
    "y_test_pred_class  = np.where(y_test_pred  > thres, 1, 0)"
   ]
  },
  {
   "cell_type": "markdown",
   "id": "average-trouble",
   "metadata": {},
   "source": [
    "Mean F1 score:"
   ]
  },
  {
   "cell_type": "code",
   "execution_count": 93,
   "id": "placed-principal",
   "metadata": {},
   "outputs": [
    {
     "name": "stdout",
     "output_type": "stream",
     "text": [
      "train sample: 0.38667\n",
      "test  sample: 0.312133\n"
     ]
    }
   ],
   "source": [
    "print('train sample:',round(mean_f1_score(y_train,y_train_pred_class),6))\n",
    "print('test  sample:',round(mean_f1_score(y_test,y_test_pred_class),6))"
   ]
  },
  {
   "cell_type": "markdown",
   "id": "balanced-heater",
   "metadata": {},
   "source": [
    "### 2.8 Summary <a id='2.8'></a>"
   ]
  },
  {
   "cell_type": "markdown",
   "id": "mental-crest",
   "metadata": {},
   "source": [
    "The simple LSTM model gives the best result, the mean F1 = 0.41. For GRU models, the bidirectional GRU gives slightly better result than the simple GRU, 0.385 vs 0.384. But this is what we would get by simply copying customer's last order, see [Sec. 2.2](#2.2). Stacked LSTMs are not a good architecture for this problem (score of 0.31 only)."
   ]
  }
 ],
 "metadata": {
  "kernelspec": {
   "display_name": "Python 3",
   "language": "python",
   "name": "python3"
  },
  "language_info": {
   "codemirror_mode": {
    "name": "ipython",
    "version": 3
   },
   "file_extension": ".py",
   "mimetype": "text/x-python",
   "name": "python",
   "nbconvert_exporter": "python",
   "pygments_lexer": "ipython3",
   "version": "3.8.6"
  }
 },
 "nbformat": 4,
 "nbformat_minor": 5
}
